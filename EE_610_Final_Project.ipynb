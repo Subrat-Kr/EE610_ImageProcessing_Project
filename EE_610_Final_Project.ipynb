{
  "nbformat": 4,
  "nbformat_minor": 0,
  "metadata": {
    "accelerator": "GPU",
    "colab": {
      "name": "EE_610_Final_Project.ipynb",
      "provenance": [],
      "collapsed_sections": [],
      "machine_shape": "hm"
    },
    "kernelspec": {
      "display_name": "Python 3",
      "name": "python3"
    },
    "language_info": {
      "name": "python"
    }
  },
  "cells": [
    {
      "cell_type": "code",
      "metadata": {
        "colab": {
          "base_uri": "https://localhost:8080/"
        },
        "id": "_lFbZ_CVlHwt",
        "outputId": "a324650c-be75-447d-a209-d72592d464b2"
      },
      "source": [
        "import os\n",
        "\n",
        "from google.colab import drive\n",
        "drive.mount('/content/gdrive')\n",
        "\n",
        "original_path = '/content/gdrive/MyDrive/Colab Notebooks/EE610_FINAL_PROJECT/DIV2KDATASET_HR/Test'\n",
        "imageNames_original = []\n",
        "\n",
        "os.scandir(original_path)\n",
        "\n",
        "for i in os.scandir(original_path):\n",
        "  if(str(i.path).find(\"Thumbs\") ==-1): # To eliminate Thumbs.db from list\n",
        "      imageNames_original.append(i.path)\n",
        "original_path = '/content/gdrive/MyDrive/Colab Notebooks/EE610_FINAL_PROJECT/DIV2KDATASET_HR/Train'     \n",
        "for i in os.scandir(original_path):\n",
        "  if(str(i.path).find(\"Thumbs\") ==-1): # To eliminate Thumbs.db from list\n",
        "      imageNames_original.append(i.path)       \n",
        "\n",
        "original_path = '/content/gdrive/MyDrive/Colab Notebooks/EE610_FINAL_PROJECT/DIV2KDATASET_HR/Validation'     \n",
        "for i in os.scandir(original_path):\n",
        "  if(str(i.path).find(\"Thumbs\") ==-1): # To eliminate Thumbs.db from list\n",
        "      imageNames_original.append(i.path)       \n",
        "        \n",
        "\n",
        "original_set_size =len(imageNames_original)\n",
        "print(\"The no of images in the Train directory is : \"+str(original_set_size))\n",
        "\n"
      ],
      "execution_count": 2,
      "outputs": [
        {
          "output_type": "stream",
          "name": "stdout",
          "text": [
            "Mounted at /content/gdrive\n",
            "The no of images in the Train directory is : 301\n"
          ]
        }
      ]
    },
    {
      "cell_type": "code",
      "metadata": {
        "colab": {
          "base_uri": "https://localhost:8080/",
          "height": 229
        },
        "id": "plq4V3nYmVsC",
        "outputId": "dd5406a8-676e-4dec-966e-44ef6ab15b53"
      },
      "source": [
        "# Plotting sample plots\n",
        "import matplotlib.pyplot as plt\n",
        "from matplotlib import image\n",
        "\n",
        "imageNum = 11 # Eleventh image in the directory will be read\n",
        "\n",
        "img = image.imread(imageNames_train[imageNum]) # Read image\n",
        "plt.rcParams[\"figure.figsize\"] = (5,5)\n",
        "# Print image attributes\n",
        "print(img.dtype)\n",
        "print(img.shape)\n",
        "\n",
        "# Display image\n",
        "plt.imshow(img)\n",
        "plt.show()\n",
        "\n",
        "imageNum =55 # Eleventh image in the directory will be read\n",
        "img = image.imread(imageNames_train[imageNum]) # Read image\n",
        "\n",
        "# Print image attributes\n",
        "print(img.dtype)\n",
        "print(img.shape)\n",
        "\n",
        "# Display image\n",
        "plt.imshow(img)\n",
        "plt.show()\n",
        "\n"
      ],
      "execution_count": null,
      "outputs": [
        {
          "ename": "NameError",
          "evalue": "ignored",
          "output_type": "error",
          "traceback": [
            "\u001b[0;31m---------------------------------------------------------------------------\u001b[0m",
            "\u001b[0;31mNameError\u001b[0m                                 Traceback (most recent call last)",
            "\u001b[0;32m<ipython-input-2-bfa7ec033bdb>\u001b[0m in \u001b[0;36m<module>\u001b[0;34m()\u001b[0m\n\u001b[1;32m      5\u001b[0m \u001b[0mimageNum\u001b[0m \u001b[0;34m=\u001b[0m \u001b[0;36m11\u001b[0m \u001b[0;31m# Eleventh image in the directory will be read\u001b[0m\u001b[0;34m\u001b[0m\u001b[0;34m\u001b[0m\u001b[0m\n\u001b[1;32m      6\u001b[0m \u001b[0;34m\u001b[0m\u001b[0m\n\u001b[0;32m----> 7\u001b[0;31m \u001b[0mimg\u001b[0m \u001b[0;34m=\u001b[0m \u001b[0mimage\u001b[0m\u001b[0;34m.\u001b[0m\u001b[0mimread\u001b[0m\u001b[0;34m(\u001b[0m\u001b[0mimageNames_train\u001b[0m\u001b[0;34m[\u001b[0m\u001b[0mimageNum\u001b[0m\u001b[0;34m]\u001b[0m\u001b[0;34m)\u001b[0m \u001b[0;31m# Read image\u001b[0m\u001b[0;34m\u001b[0m\u001b[0;34m\u001b[0m\u001b[0m\n\u001b[0m\u001b[1;32m      8\u001b[0m \u001b[0mplt\u001b[0m\u001b[0;34m.\u001b[0m\u001b[0mrcParams\u001b[0m\u001b[0;34m[\u001b[0m\u001b[0;34m\"figure.figsize\"\u001b[0m\u001b[0;34m]\u001b[0m \u001b[0;34m=\u001b[0m \u001b[0;34m(\u001b[0m\u001b[0;36m5\u001b[0m\u001b[0;34m,\u001b[0m\u001b[0;36m5\u001b[0m\u001b[0;34m)\u001b[0m\u001b[0;34m\u001b[0m\u001b[0;34m\u001b[0m\u001b[0m\n\u001b[1;32m      9\u001b[0m \u001b[0;31m# Print image attributes\u001b[0m\u001b[0;34m\u001b[0m\u001b[0;34m\u001b[0m\u001b[0;34m\u001b[0m\u001b[0m\n",
            "\u001b[0;31mNameError\u001b[0m: name 'imageNames_train' is not defined"
          ]
        }
      ]
    },
    {
      "cell_type": "code",
      "metadata": {
        "id": "MpGPESiW8fok"
      },
      "source": [
        "import cv2\n",
        "def downSampleImages(imagepath,savepath):\n",
        "  img = cv2.imread(imagepath, cv2.IMREAD_UNCHANGED)\n",
        "\n",
        "  temp =imagepath.split(\"/\")\n",
        "  file_output_path=savepath+\"/\"+temp[len(temp)-1].split(\".\")[0]+\"_ds_2_1.png\"\n",
        " \n",
        "\n",
        "  scale_percent = 50 # percent of original size\n",
        "  width = int(img.shape[1] * scale_percent / 100)\n",
        "  height = int(img.shape[0] * scale_percent / 100)\n",
        "  dimension = (width, height)\n",
        "  \n",
        "# resize image\n",
        "  resized = cv2.resize(img, dimension, interpolation = cv2.INTER_AREA)\n",
        " \n",
        "  cv2.imwrite(file_output_path, resized)\n",
        "for i in range(len(imageNames_original)):\n",
        "  downSampleImages(imageNames_original[i],'/content/gdrive/MyDrive/Colab Notebooks/EE610_FINAL_PROJECT/DIV2KDATASET_DS_2_1')"
      ],
      "execution_count": null,
      "outputs": []
    },
    {
      "cell_type": "code",
      "metadata": {
        "id": "eY7BfkPDB47S"
      },
      "source": [
        "import cv2\n",
        "def downSampleImages(imagepath,savepath):\n",
        "  img = cv2.imread(imagepath, cv2.IMREAD_UNCHANGED)\n",
        "\n",
        "  temp =imagepath.split(\"/\")\n",
        "  file_output_path=savepath+\"/\"+temp[len(temp)-1].split(\".\")[0]+\"_ds_4_1.png\"\n",
        " \n",
        "\n",
        "  scale_percent = 25 # percent of original size\n",
        "  width = int(img.shape[1] * scale_percent / 100)\n",
        "  height = int(img.shape[0] * scale_percent / 100)\n",
        "  dimension = (width, height)\n",
        "  \n",
        "# resize image\n",
        "  resized = cv2.resize(img, dimension, interpolation = cv2.INTER_AREA)\n",
        " \n",
        "  cv2.imwrite(file_output_path, resized)\n",
        "for i in range(len(imageNames_original)):\n",
        "  downSampleImages(imageNames_original[i],'/content/gdrive/MyDrive/Colab Notebooks/EE610_FINAL_PROJECT/DIV2KDATASET_DS_4_1')"
      ],
      "execution_count": null,
      "outputs": []
    },
    {
      "cell_type": "code",
      "metadata": {
        "id": "0D77dJzMC-t-"
      },
      "source": [
        "import cv2\n",
        "def upsampleImages_bilinear(imagepath,savepath):\n",
        "  img = cv2.imread(imagepath, cv2.IMREAD_UNCHANGED)\n",
        "\n",
        "  temp =imagepath.split(\"/\")\n",
        "  file_output_path=savepath+\"/\"+temp[len(temp)-1].split(\".\")[0].split(\"_ds_4_1\")[0]+\"_us_1_4_bilinear.png\"\n",
        " \n",
        "  scale_percent = 400 # percent of original size\n",
        "  width = int(img.shape[1] * scale_percent / 100)\n",
        "  height = int(img.shape[0] * scale_percent / 100)\n",
        "  dimension = (width, height)\n",
        "  \n",
        "# resize image\n",
        "  resized = cv2.resize(img, dimension, interpolation = cv2.INTER_LINEAR)\n",
        " \n",
        "  cv2.imwrite(file_output_path, resized)\n",
        "\n",
        "\n",
        "original_path = '/content/gdrive/MyDrive/Colab Notebooks/EE610_FINAL_PROJECT/DIV2KDATASET_DS_4_1'\n",
        "imageNames_original = []\n",
        "os.scandir(original_path)\n",
        "\n",
        "for i in os.scandir(original_path):\n",
        "  if(str(i.path).find(\"Thumbs\") ==-1): # To eliminate Thumbs.db from list\n",
        "      imageNames_original.append(i.path)\n",
        "\n",
        "for i in range(len(imageNames_original)):\n",
        "  upsampleImages_bilinear(imageNames_original[i],'/content/gdrive/MyDrive/Colab Notebooks/EE610_FINAL_PROJECT/DIV2KDATASET_US_1_4_BILINEAR')"
      ],
      "execution_count": null,
      "outputs": []
    },
    {
      "cell_type": "code",
      "metadata": {
        "id": "kkJFzQq0HGho"
      },
      "source": [
        "import cv2\n",
        "def upsampleImages_bicubic(imagepath,savepath):\n",
        "  img = cv2.imread(imagepath, cv2.IMREAD_UNCHANGED)\n",
        "\n",
        "  temp =imagepath.split(\"/\")\n",
        "  file_output_path=savepath+\"/\"+temp[len(temp)-1].split(\".\")[0].split(\"_ds_4_1\")[0]+\"_us_1_4_bicubic.png\"\n",
        " \n",
        "  scale_percent = 400 # percent of original size\n",
        "  width = int(img.shape[1] * scale_percent / 100)\n",
        "  height = int(img.shape[0] * scale_percent / 100)\n",
        "  dimension = (width, height)\n",
        "  \n",
        "# resize image\n",
        "  resized = cv2.resize(img, dimension, interpolation = cv2.INTER_CUBIC)\n",
        "  cv2.imwrite(file_output_path, resized)\n",
        "\n",
        "\n",
        "original_path = '/content/gdrive/MyDrive/Colab Notebooks/EE610_FINAL_PROJECT/DIV2KDATASET_DS_4_1'\n",
        "imageNames_original = []\n",
        "os.scandir(original_path)\n",
        "\n",
        "for i in os.scandir(original_path):\n",
        "  if(str(i.path).find(\"Thumbs\") ==-1): # To eliminate Thumbs.db from list\n",
        "      imageNames_original.append(i.path)\n",
        "\n",
        "for i in range(len(imageNames_original)):\n",
        "  upsampleImages_bicubic(imageNames_original[i],'/content/gdrive/MyDrive/Colab Notebooks/EE610_FINAL_PROJECT/DIV2KDATASET_US_1_4_BICUBIC')"
      ],
      "execution_count": null,
      "outputs": []
    },
    {
      "cell_type": "code",
      "metadata": {
        "id": "C359asLyJySG"
      },
      "source": [
        "import cv2\n",
        "def upsampleImages_lanczos(imagepath,savepath):\n",
        "  img = cv2.imread(imagepath, cv2.IMREAD_UNCHANGED)\n",
        "\n",
        "  temp =imagepath.split(\"/\")\n",
        "  file_output_path=savepath+\"/\"+temp[len(temp)-1].split(\".\")[0].split(\"_ds_4_1\")[0]+\"_us_1_4_lanczos.png\"\n",
        " \n",
        "  scale_percent = 400 # percent of original size\n",
        "  width = int(img.shape[1] * scale_percent / 100)\n",
        "  height = int(img.shape[0] * scale_percent / 100)\n",
        "  dimension = (width, height)\n",
        "  \n",
        "# resize image\n",
        "  resized = cv2.resize(img, dimension, interpolation = cv2.INTER_LANCZOS4)\n",
        "  cv2.imwrite(file_output_path, resized)\n",
        "\n",
        "\n",
        "original_path = '/content/gdrive/MyDrive/Colab Notebooks/EE610_FINAL_PROJECT/DIV2KDATASET_DS_4_1/Test'\n",
        "imageNames_original = []\n",
        "os.scandir(original_path)\n",
        "\n",
        "for i in os.scandir(original_path):\n",
        "  if(str(i.path).find(\"Thumbs\") ==-1): # To eliminate Thumbs.db from list\n",
        "      imageNames_original.append(i.path)\n",
        "\n",
        "for i in range(len(imageNames_original)):\n",
        "  upsampleImages_lanczos(imageNames_original[i],'/content/gdrive/MyDrive/Colab Notebooks/EE610_FINAL_PROJECT/DIV2KDATASET_US_1_4_LANCZOS/Test')\n",
        "\n",
        "original_path = '/content/gdrive/MyDrive/Colab Notebooks/EE610_FINAL_PROJECT/DIV2KDATASET_DS_4_1/Train'\n",
        "imageNames_original = []\n",
        "os.scandir(original_path)\n",
        "\n",
        "for i in os.scandir(original_path):\n",
        "  if(str(i.path).find(\"Thumbs\") ==-1): # To eliminate Thumbs.db from list\n",
        "      imageNames_original.append(i.path)\n",
        "\n",
        "for i in range(len(imageNames_original)):\n",
        "  upsampleImages_lanczos(imageNames_original[i],'/content/gdrive/MyDrive/Colab Notebooks/EE610_FINAL_PROJECT/DIV2KDATASET_US_1_4_LANCZOS/Train')\n",
        "\n",
        "original_path = '/content/gdrive/MyDrive/Colab Notebooks/EE610_FINAL_PROJECT/DIV2KDATASET_DS_4_1/Validation'\n",
        "imageNames_original = []\n",
        "os.scandir(original_path)\n",
        "\n",
        "for i in os.scandir(original_path):\n",
        "  if(str(i.path).find(\"Thumbs\") ==-1): # To eliminate Thumbs.db from list\n",
        "      imageNames_original.append(i.path)\n",
        "\n",
        "for i in range(len(imageNames_original)):\n",
        "  upsampleImages_lanczos(imageNames_original[i],'/content/gdrive/MyDrive/Colab Notebooks/EE610_FINAL_PROJECT/DIV2KDATASET_US_1_4_LANCZOS/Validation')"
      ],
      "execution_count": null,
      "outputs": []
    },
    {
      "cell_type": "code",
      "metadata": {
        "id": "l98sCO0oo7ku"
      },
      "source": [
        "import cv2\n",
        "def downSampleImages_16_1(imagepath,savepath):\n",
        "  img = cv2.imread(imagepath, cv2.IMREAD_UNCHANGED)\n",
        "\n",
        "  temp =imagepath.split(\"/\")\n",
        "  file_output_path=savepath+\"/\"+temp[len(temp)-1].split(\".\")[0]+\"_ds_16_1.png\"\n",
        " \n",
        "\n",
        "  scale_percent = 6.25 # percent of original size\n",
        "  width = int(img.shape[1] * scale_percent / 100)\n",
        "  height = int(img.shape[0] * scale_percent / 100)\n",
        "  dimension = (width, height)\n",
        "  \n",
        "# resize image\n",
        "  resized = cv2.resize(img, dimension, interpolation = cv2.INTER_AREA)\n",
        " \n",
        "  cv2.imwrite(file_output_path, resized)\n",
        "for i in range(len(imageNames_original)):\n",
        "  downSampleImages_16_1(imageNames_original[i],'/content/gdrive/MyDrive/Colab Notebooks/EE610_FINAL_PROJECT/DIV2KDATASET_DS_16_1')"
      ],
      "execution_count": null,
      "outputs": []
    },
    {
      "cell_type": "code",
      "metadata": {
        "id": "a5zgqmCqsNZa"
      },
      "source": [
        "import cv2\n",
        "def upsampleImages_bilinear_1_16(imagepath,savepath):\n",
        "  img = cv2.imread(imagepath, cv2.IMREAD_UNCHANGED)\n",
        "\n",
        "  temp =imagepath.split(\"/\")\n",
        "  file_output_path=savepath+\"/\"+temp[len(temp)-1].split(\".\")[0].split(\"_ds_16_1\")[0]+\"_us_1_16_bilinear.png\"\n",
        " \n",
        "  scale_percent = 1600 # percent of original size\n",
        "  width = int(img.shape[1] * scale_percent / 100)\n",
        "  height = int(img.shape[0] * scale_percent / 100)\n",
        "  dimension = (width, height)\n",
        "  \n",
        "# resize image\n",
        "  resized = cv2.resize(img, dimension, interpolation = cv2.INTER_LINEAR)\n",
        "  cv2.imwrite(file_output_path, resized)\n",
        "\n",
        "\n",
        "original_path = '/content/gdrive/MyDrive/Colab Notebooks/EE610_FINAL_PROJECT/DIV2KDATASET_DS_16_1/Test'\n",
        "imageNames_original = []\n",
        "os.scandir(original_path)\n",
        "\n",
        "for i in os.scandir(original_path):\n",
        "  if(str(i.path).find(\"Thumbs\") ==-1): # To eliminate Thumbs.db from list\n",
        "      imageNames_original.append(i.path)\n",
        "\n",
        "for i in range(len(imageNames_original)):\n",
        "  upsampleImages_bilinear_1_16(imageNames_original[i],'/content/gdrive/MyDrive/Colab Notebooks/EE610_FINAL_PROJECT/DIV2KDATASET_US_1_16_BILINEAR/Test')\n",
        "\n",
        "original_path = '/content/gdrive/MyDrive/Colab Notebooks/EE610_FINAL_PROJECT/DIV2KDATASET_DS_16_1/Train'\n",
        "imageNames_original = []\n",
        "os.scandir(original_path)\n",
        "\n",
        "for i in os.scandir(original_path):\n",
        "  if(str(i.path).find(\"Thumbs\") ==-1): # To eliminate Thumbs.db from list\n",
        "      imageNames_original.append(i.path)\n",
        "\n",
        "for i in range(len(imageNames_original)):\n",
        "  upsampleImages_bilinear_1_16(imageNames_original[i],'/content/gdrive/MyDrive/Colab Notebooks/EE610_FINAL_PROJECT/DIV2KDATASET_US_1_16_BILINEAR/Train')\n",
        "\n",
        "original_path = '/content/gdrive/MyDrive/Colab Notebooks/EE610_FINAL_PROJECT/DIV2KDATASET_DS_16_1/Validation'\n",
        "imageNames_original = []\n",
        "os.scandir(original_path)\n",
        "\n",
        "for i in os.scandir(original_path):\n",
        "  if(str(i.path).find(\"Thumbs\") ==-1): # To eliminate Thumbs.db from list\n",
        "      imageNames_original.append(i.path)\n",
        "\n",
        "for i in range(len(imageNames_original)):\n",
        "  upsampleImages_bilinear_1_16(imageNames_original[i],'/content/gdrive/MyDrive/Colab Notebooks/EE610_FINAL_PROJECT/DIV2KDATASET_US_1_16_BILINEAR/Validation')"
      ],
      "execution_count": null,
      "outputs": []
    },
    {
      "cell_type": "code",
      "metadata": {
        "id": "NuvVSMPcj2Nb"
      },
      "source": [
        "import cv2\n",
        "def upsampleImages_bicubic_1_16(imagepath,savepath):\n",
        "  img = cv2.imread(imagepath, cv2.IMREAD_UNCHANGED)\n",
        "\n",
        "  temp =imagepath.split(\"/\")\n",
        "  file_output_path=savepath+\"/\"+temp[len(temp)-1].split(\".\")[0].split(\"_ds_16_1\")[0]+\"_us_1_16_bicubic.png\"\n",
        " \n",
        "  scale_percent = 1600 # percent of original size\n",
        "  width = int(img.shape[1] * scale_percent / 100)\n",
        "  height = int(img.shape[0] * scale_percent / 100)\n",
        "  dimension = (width, height)\n",
        "  \n",
        "# resize image\n",
        "  resized = cv2.resize(img, dimension, interpolation = cv2.INTER_CUBIC)\n",
        "  cv2.imwrite(file_output_path, resized)\n",
        "\n",
        "\n",
        "original_path = '/content/gdrive/MyDrive/Colab Notebooks/EE610_FINAL_PROJECT/DIV2KDATASET_DS_16_1/Test'\n",
        "imageNames_original = []\n",
        "os.scandir(original_path)\n",
        "\n",
        "for i in os.scandir(original_path):\n",
        "  if(str(i.path).find(\"Thumbs\") ==-1): # To eliminate Thumbs.db from list\n",
        "      imageNames_original.append(i.path)\n",
        "\n",
        "for i in range(len(imageNames_original)):\n",
        "  upsampleImages_bicubic_1_16(imageNames_original[i],'/content/gdrive/MyDrive/Colab Notebooks/EE610_FINAL_PROJECT/DIV2KDATASET_US_1_16_BICUBIC/Test')\n",
        "\n",
        "original_path = '/content/gdrive/MyDrive/Colab Notebooks/EE610_FINAL_PROJECT/DIV2KDATASET_DS_16_1/Train'\n",
        "imageNames_original = []\n",
        "os.scandir(original_path)\n",
        "\n",
        "for i in os.scandir(original_path):\n",
        "  if(str(i.path).find(\"Thumbs\") ==-1): # To eliminate Thumbs.db from list\n",
        "      imageNames_original.append(i.path)\n",
        "\n",
        "for i in range(len(imageNames_original)):\n",
        "  upsampleImages_bicubic_1_16(imageNames_original[i],'/content/gdrive/MyDrive/Colab Notebooks/EE610_FINAL_PROJECT/DIV2KDATASET_US_1_16_BICUBIC/Train')\n",
        "\n",
        "original_path = '/content/gdrive/MyDrive/Colab Notebooks/EE610_FINAL_PROJECT/DIV2KDATASET_DS_16_1/Validation'\n",
        "imageNames_original = []\n",
        "os.scandir(original_path)\n",
        "\n",
        "for i in os.scandir(original_path):\n",
        "  if(str(i.path).find(\"Thumbs\") ==-1): # To eliminate Thumbs.db from list\n",
        "      imageNames_original.append(i.path)\n",
        "\n",
        "for i in range(len(imageNames_original)):\n",
        "  upsampleImages_bicubic_1_16(imageNames_original[i],'/content/gdrive/MyDrive/Colab Notebooks/EE610_FINAL_PROJECT/DIV2KDATASET_US_1_16_BICUBIC/Validation')"
      ],
      "execution_count": null,
      "outputs": []
    },
    {
      "cell_type": "code",
      "metadata": {
        "id": "5_eRSM0zlf9T"
      },
      "source": [
        "import cv2\n",
        "def upsampleImages_lanczos_1_16(imagepath,savepath):\n",
        "  img = cv2.imread(imagepath, cv2.IMREAD_UNCHANGED)\n",
        "\n",
        "  temp =imagepath.split(\"/\")\n",
        "  file_output_path=savepath+\"/\"+temp[len(temp)-1].split(\".\")[0].split(\"_ds_16_1\")[0]+\"_us_1_16_lanczos.png\"\n",
        " \n",
        "  scale_percent = 1600 # percent of original size\n",
        "  width = int(img.shape[1] * scale_percent / 100)\n",
        "  height = int(img.shape[0] * scale_percent / 100)\n",
        "  dimension = (width, height)\n",
        "  \n",
        "# resize image\n",
        "  resized = cv2.resize(img, dimension, interpolation = cv2.INTER_LANCZOS4)\n",
        "  cv2.imwrite(file_output_path, resized)\n",
        "\n",
        "\n",
        "original_path = '/content/gdrive/MyDrive/Colab Notebooks/EE610_FINAL_PROJECT/DIV2KDATASET_DS_16_1/Test'\n",
        "imageNames_original = []\n",
        "os.scandir(original_path)\n",
        "\n",
        "for i in os.scandir(original_path):\n",
        "  if(str(i.path).find(\"Thumbs\") ==-1): # To eliminate Thumbs.db from list\n",
        "      imageNames_original.append(i.path)\n",
        "\n",
        "for i in range(len(imageNames_original)):\n",
        "  upsampleImages_lanczos_1_16(imageNames_original[i],'/content/gdrive/MyDrive/Colab Notebooks/EE610_FINAL_PROJECT/DIV2KDATASET_US_1_16_LANCZOS/Test')\n",
        "\n",
        "original_path = '/content/gdrive/MyDrive/Colab Notebooks/EE610_FINAL_PROJECT/DIV2KDATASET_DS_16_1/Train'\n",
        "imageNames_original = []\n",
        "os.scandir(original_path)\n",
        "\n",
        "for i in os.scandir(original_path):\n",
        "  if(str(i.path).find(\"Thumbs\") ==-1): # To eliminate Thumbs.db from list\n",
        "      imageNames_original.append(i.path)\n",
        "\n",
        "for i in range(len(imageNames_original)):\n",
        "  upsampleImages_lanczos_1_16(imageNames_original[i],'/content/gdrive/MyDrive/Colab Notebooks/EE610_FINAL_PROJECT/DIV2KDATASET_US_1_16_LANCZOS/Train')\n",
        "\n",
        "original_path = '/content/gdrive/MyDrive/Colab Notebooks/EE610_FINAL_PROJECT/DIV2KDATASET_DS_16_1/Validation'\n",
        "imageNames_original = []\n",
        "os.scandir(original_path)\n",
        "\n",
        "for i in os.scandir(original_path):\n",
        "  if(str(i.path).find(\"Thumbs\") ==-1): # To eliminate Thumbs.db from list\n",
        "      imageNames_original.append(i.path)\n",
        "\n",
        "for i in range(len(imageNames_original)):\n",
        "  upsampleImages_lanczos_1_16(imageNames_original[i],'/content/gdrive/MyDrive/Colab Notebooks/EE610_FINAL_PROJECT/DIV2KDATASET_US_1_16_LANCZOS/Validation')"
      ],
      "execution_count": null,
      "outputs": []
    },
    {
      "cell_type": "code",
      "metadata": {
        "id": "bIbBEGXNoHQ1"
      },
      "source": [
        "def createPatches(filepath,filepath_original,test_or_validation,patch_size): \n",
        "  global noisyPatches_train\n",
        "  global centralPixel_train\n",
        "  global noisyPatches_val\n",
        "  global centralPixel_val\n",
        "  global noisyPatches_test\n",
        "  global centralPixel_test\n",
        "  img = cv2.imread(filepath)  \n",
        "  img_original = cv2.imread(filepath_original)  \n",
        "  if((img.shape[0]<100) or (img.shape[1]<100)):\n",
        "      return   \n",
        "\n",
        "  numPatches =patch_size # Extracting patches from image and normalizing\n",
        "  for i in range(numPatches): # For number of patches\n",
        "      x = random.randint(0, (img.shape[0]//W)-1) # Random x location so that the patch,remains within image boundaries\n",
        "      y = random.randint(0, (img.shape[1]//W)-1) # Random y location,remains within image boundaries\n",
        "      temp_data = np.copy(img[(x*W):((x*W)+W),(y*W):((y*W)+W),:])\n",
        "      temp_data_central = np.copy(img_original[(x*W):((x*W)+W),(y*W):((y*W)+W),:])\n",
        "      temp_data = temp_data/255.0 # Extract patch# Divide by 255 for float images\n",
        "      temp_data_central = temp_data_central/255.0\n",
        "      temp_central_pixel =np.copy(temp_data_central[(W//2),(W//2),])\n",
        "      temp_data = temp_data.reshape((W*W*3),1)\n",
        "    \n",
        "      temp_central_pixel = temp_central_pixel.reshape((3,1))  \n",
        "      if(test_or_validation ==\"TRAIN\"): #Appending the noise patches to numpy array for later usage\n",
        "          noisyPatches_train= np.append(noisyPatches_train,temp_data,axis=1)\n",
        "          centralPixel_train=np.append(centralPixel_train,temp_central_pixel,axis=1)\n",
        "      elif(test_or_validation ==\"VALIDATE\"):\n",
        "          noisyPatches_val= np.append(noisyPatches_val,temp_data,axis=1)\n",
        "          centralPixel_val=np.append(centralPixel_val,temp_central_pixel,axis=1)\n",
        "      elif(test_or_validation ==\"TEST\"):\n",
        "          noisyPatches_test= np.append(noisyPatches_test,temp_data,axis=1)\n",
        "          centralPixel_test=np.append(centralPixel_test,temp_central_pixel,axis=1)\n",
        "        \n"
      ],
      "execution_count": 3,
      "outputs": []
    },
    {
      "cell_type": "code",
      "metadata": {
        "colab": {
          "base_uri": "https://localhost:8080/"
        },
        "id": "gu2Rcne1qTdz",
        "outputId": "1f8188e6-a419-4083-edaf-af2639a03d14"
      },
      "source": [
        "train_path = '/content/gdrive/MyDrive/Colab Notebooks/EE610_FINAL_PROJECT/DIV2KDATASET_US_1_4_BILINEAR/Train'\n",
        "val_path = '/content/gdrive/MyDrive/Colab Notebooks/EE610_FINAL_PROJECT/DIV2KDATASET_US_1_4_BILINEAR/Validation'\n",
        "test_path = '/content/gdrive/MyDrive/Colab Notebooks/EE610_FINAL_PROJECT/DIV2KDATASET_US_1_4_BILINEAR/Test'\n",
        "original_train_path = '/content/gdrive/MyDrive/Colab Notebooks/EE610_FINAL_PROJECT/DIV2KDATASET_HR/Train'\n",
        "original_test_path = '/content/gdrive/MyDrive/Colab Notebooks/EE610_FINAL_PROJECT/DIV2KDATASET_HR/Test'\n",
        "original_val_path = '/content/gdrive/MyDrive/Colab Notebooks/EE610_FINAL_PROJECT/DIV2KDATASET_HR/Validation'\n",
        "\n",
        "imageNames_train = []\n",
        "imageNames_val = []\n",
        "imageNames_test = []\n",
        "original_imageNames_train =[]\n",
        "original_imageNames_test =[]\n",
        "original_imageNames_val =[]\n",
        "\n",
        "os.scandir(train_path)\n",
        "\n",
        "for i in os.scandir(train_path):\n",
        "  if(str(i.path).find(\"Thumbs\") ==-1): # To eliminate Thumbs.db from list\n",
        "      imageNames_train.append(i.path)\n",
        "for i in os.scandir(val_path):\n",
        "  if(str(i.path).find(\"Thumbs\") ==-1): # To eliminate Thumbs.db from list\n",
        "      imageNames_val.append(i.path)\n",
        "for i in os.scandir(test_path):\n",
        "  if(str(i.path).find(\"Thumbs\") ==-1): # To eliminate Thumbs.db from list\n",
        "      imageNames_test.append(i.path)\n",
        "for i in os.scandir(original_train_path):\n",
        "  if(str(i.path).find(\"Thumbs\") ==-1): # To eliminate Thumbs.db from list\n",
        "      original_imageNames_train.append(i.path)\n",
        "for i in os.scandir(original_test_path):\n",
        "  if(str(i.path).find(\"Thumbs\") ==-1): # To eliminate Thumbs.db from list\n",
        "      original_imageNames_test.append(i.path)\n",
        "for i in os.scandir(original_val_path):\n",
        "  if(str(i.path).find(\"Thumbs\") ==-1): # To eliminate Thumbs.db from list\n",
        "      original_imageNames_val.append(i.path)\n",
        "        \n",
        "imageNames_train =sorted(imageNames_train)     \n",
        "original_imageNames_train =sorted(original_imageNames_train)  \n",
        "imageNames_test =sorted(imageNames_test)     \n",
        "original_imageNames_test =sorted(original_imageNames_test) \n",
        "imageNames_val =sorted(imageNames_val)     \n",
        "original_imageNames_val =sorted(original_imageNames_val)   \n",
        "        \n",
        "training_set_size =len(imageNames_train)\n",
        "print(\"The no of images in the Train directory is : \"+str(training_set_size))\n",
        "\n",
        "val_set_size =len(imageNames_val)\n",
        "print(\"The no of images in the Validation directory is : \"+str(val_set_size))\n",
        "\n",
        "test_set_size =len(imageNames_test)\n",
        "print(\"The no of images in the Test directory is : \"+str(test_set_size))"
      ],
      "execution_count": null,
      "outputs": [
        {
          "output_type": "stream",
          "name": "stdout",
          "text": [
            "The no of images in the Train directory is : 243\n",
            "The no of images in the Validation directory is : 47\n",
            "The no of images in the Test directory is : 10\n"
          ]
        }
      ]
    },
    {
      "cell_type": "code",
      "metadata": {
        "colab": {
          "base_uri": "https://localhost:8080/"
        },
        "id": "RzjebkBzpL1o",
        "outputId": "3d3accd3-f094-490f-8e8d-7ed46e49777d"
      },
      "source": [
        "from matplotlib import pyplot as plt\n",
        "import cv2\n",
        "import numpy as np\n",
        "import random\n",
        "global noisyPatches_train\n",
        "global centralPixel_train\n",
        "global noisyPatches_val\n",
        "global centralPixel_val\n",
        "global noisyPatches_test\n",
        "global centralPixel_test\n",
        "\n",
        "global W\n",
        "W=27 \n",
        "\n",
        "noisyPatches_train = np.zeros((W*W*3,0),dtype=np.float64)\n",
        "centralPixel_train = np.zeros((3,0),dtype=np.float64)\n",
        "noisyPatches_val = np.zeros((W*W*3,0),dtype=np.float64)\n",
        "centralPixel_val = np.zeros((3,0),dtype=np.float64)\n",
        "noisyPatches_test = np.zeros((W*W*3,0),dtype=np.float64)\n",
        "centralPixel_test = np.zeros((3,0),dtype=np.float64)\n",
        "\n",
        "for i in range(len(imageNames_train)):\n",
        "    createPatches(imageNames_train[i],original_imageNames_train[i],\"TRAIN\",100)\n",
        "for i in range(len(imageNames_val)):\n",
        "    createPatches(imageNames_val[i],original_imageNames_val[i],\"VALIDATE\",100)\n",
        "for i in range(len(imageNames_test)):\n",
        "    createPatches(imageNames_test[i],original_imageNames_test[i],\"TEST\",100)    \n",
        "\n",
        "\n",
        "    \n",
        "np.save('/content/gdrive/MyDrive/Colab Notebooks/EE610_FINAL_PROJECT/Outputs/noisyPatches_train_bilinear_1_4', noisyPatches_train)\n",
        "np.save('/content/gdrive/MyDrive/Colab Notebooks/EE610_FINAL_PROJECT/Outputs/centralPixel_train_bilinear_1_4', centralPixel_train)\n",
        "np.save('/content/gdrive/MyDrive/Colab Notebooks/EE610_FINAL_PROJECT/Outputs/noisyPatches_val_bilinear_1_4', noisyPatches_val)\n",
        "np.save('/content/gdrive/MyDrive/Colab Notebooks/EE610_FINAL_PROJECT/Outputs/centralPixel_val_bilinear_1_4', centralPixel_val)\n",
        "np.save('/content/gdrive/MyDrive/Colab Notebooks/EE610_FINAL_PROJECT/Outputs/noisyPatches_test_bilinear_1_4', noisyPatches_test)\n",
        "np.save('/content/gdrive/MyDrive/Colab Notebooks/EE610_FINAL_PROJECT/Outputs/centralPixel_test_bilinear_1_4', centralPixel_test)\n",
        "\n",
        "print(\"Noise Patch (Train) shape : \",noisyPatches_train.shape)\n",
        "print(\"Central Pixel (Train) shape : \",centralPixel_train.shape)\n",
        "print(\"Noise Patch (Validation) shape : \",noisyPatches_val.shape)\n",
        "print(\"Central Pixel (Validation)  shape : \",centralPixel_val.shape)\n",
        "print(\"Noise Patch(Test) shape : \",noisyPatches_test.shape)\n",
        "print(\"Central Pixel (Test) shape : \",centralPixel_test.shape)"
      ],
      "execution_count": null,
      "outputs": [
        {
          "output_type": "stream",
          "name": "stdout",
          "text": [
            "Noise Patch (Train) shape :  (2187, 24300)\n",
            "Central Pixel (Train) shape :  (3, 24300)\n",
            "Noise Patch (Validation) shape :  (2187, 4700)\n",
            "Central Pixel (Validation)  shape :  (3, 4700)\n",
            "Noise Patch(Test) shape :  (2187, 1000)\n",
            "Central Pixel (Test) shape :  (3, 1000)\n"
          ]
        }
      ]
    },
    {
      "cell_type": "markdown",
      "metadata": {
        "id": "j-qTgtL4AaO6"
      },
      "source": [
        "# subPatchVector Function\n",
        "This module extact subpatches of (n\\*n) size where (n<=13) from the already extracted (13\\*13) patch vector."
      ]
    },
    {
      "cell_type": "code",
      "metadata": {
        "id": "uS7WkHRVAeDZ"
      },
      "source": [
        "global W\n",
        "W=27 \n",
        "def subPatchVectors(training_vector,sub_patch_size):\n",
        "    length =training_vector.shape[1]\n",
        "    start =int((W-sub_patch_size)/2)\n",
        "    \n",
        "    temp_var = np.copy(training_vector)\n",
        "    temp_var_1 = temp_var.reshape(W,W,3,length)\n",
        "    temp_var_1 =temp_var_1[start:W-start,start:W-start,:,:]\n",
        "    temp_var_1=temp_var_1.reshape(sub_patch_size*sub_patch_size*3,length)\n",
        "    \n",
        "    return temp_var_1 \n",
        "    "
      ],
      "execution_count": 13,
      "outputs": []
    },
    {
      "cell_type": "markdown",
      "metadata": {
        "id": "BopDhuK0BH_N"
      },
      "source": [
        "## Function to reconstruct image\n",
        "The function reconstructImage repair the image with the neural network model. The edges (W/2 pixels) are copied directly\n",
        "from the corrupted image. For all other pixels, a patch is mined from the corrupted image (W*W) with the corresponding image as \n",
        "central pixel. The image pixels from the patch is fed to the machine learning model. The central pixel is replaced by the output of machine learning model."
      ]
    },
    {
      "cell_type": "code",
      "metadata": {
        "id": "ymSM0XZ-BNAY"
      },
      "source": [
        "global W\n",
        "import cv2\n",
        "\n",
        "global model\n",
        "from sklearn.datasets import load_sample_image\n",
        "from sklearn.feature_extraction import image\n",
        "\n",
        "def reconstructImage_ANN(filepath,model_,subpatch_size):\n",
        "    img = cv2.imread(filepath)\n",
        "    rgb_img = cv2.cvtColor(img, cv2.COLOR_BGR2RGB)\n",
        "\n",
        "    img = img.astype(np.float64)\n",
        "    img = img/255.0\n",
        "\n",
        "    border = int(subpatch_size/2)\n",
        "    temp_image = cv2.copyMakeBorder(img, border, border, border, border, cv2.BORDER_REFLECT)\n",
        "    temp_image_patches=image.extract_patches_2d(temp_image, (subpatch_size,subpatch_size))\n",
        "\n",
        "    temp_image_patches = temp_image_patches.reshape(temp_image_patches.shape[0],subpatch_size*subpatch_size*3)\n",
        "    predicted_value =model_.predict(temp_image_patches)\n",
        "    predicted_value = predicted_value.reshape(img.shape[0],img.shape[1],img.shape[2])\n",
        "    predicted_value = predicted_value*255.0;\n",
        "    predicted_value = predicted_value.astype(np.uint8)\n",
        "\n",
        "\n",
        "\n",
        "    return predicted_value\n"
      ],
      "execution_count": 3,
      "outputs": []
    },
    {
      "cell_type": "code",
      "metadata": {
        "id": "Yp5fIRMRWttE"
      },
      "source": [
        "global W\n",
        "import cv2\n",
        "\n",
        "global model\n",
        "from sklearn.datasets import load_sample_image\n",
        "from sklearn.feature_extraction import image\n",
        "\n",
        "def reconstructImage_CNN(filepath,model_,sub_patch):\n",
        "    img = cv2.imread(filepath)\n",
        "    #print(img.shape)\n",
        "    rgb_img = cv2.cvtColor(img, cv2.COLOR_BGR2RGB)\n",
        "\n",
        "    img = img.astype(np.float64)\n",
        "    img = img/255.0\n",
        "\n",
        "    border = int(sub_patch/2)\n",
        "    temp_image = cv2.copyMakeBorder(img, border, border, border, border, cv2.BORDER_REFLECT)\n",
        "    temp_image_patches=image.extract_patches_2d(temp_image, (sub_patch,sub_patch))\n",
        "    print(temp_image_patches.shape)\n",
        "    predicted_value =model_.predict(temp_image_patches)\n",
        "    print(predicted_value.shape)\n",
        "    predicted_value = predicted_value.reshape(img.shape[0],img.shape[1],img.shape[2])\n",
        "    predicted_value = predicted_value*255.0;\n",
        "    predicted_value = predicted_value.astype(np.uint8)\n",
        "    return predicted_value"
      ],
      "execution_count": 14,
      "outputs": []
    },
    {
      "cell_type": "code",
      "metadata": {
        "id": "VjGjTPz5OuD1"
      },
      "source": [
        "import numpy as np\n",
        "def calculateNoise(filepath_original,filepath_downsampled,filepath_reconstructed):\n",
        "    img_original = cv2.imread(filepath_original)\n",
        "    rgb_original = cv2.cvtColor(img_original, cv2.COLOR_BGR2RGB)\n",
        "\n",
        "    img_downsampled = cv2.imread(filepath_downsampled)\n",
        "    rgb_downsampled = cv2.cvtColor(img_downsampled, cv2.COLOR_BGR2RGB)\n",
        "\n",
        "    img_reconstructed = cv2.imread(filepath_reconstructed)\n",
        "    rgb_reconstructed = cv2.cvtColor(img_reconstructed, cv2.COLOR_BGR2RGB)\n",
        "\n",
        "    height = img_original.shape[0]\n",
        "    width = img_original.shape[1]\n",
        "    depth = img_original.shape[2]\n",
        "\n",
        "    noise_downsampled = np.sqrt(np.sum(np.square(np.subtract(rgb_original,rgb_downsampled)))/(height*width*depth))\n",
        "    noise_reconstructed = np.sqrt(np.sum(np.square(np.subtract(rgb_original,rgb_reconstructed)))/(height*width*depth))\n",
        "\n",
        "    \n",
        "    return noise_downsampled,  noise_reconstructed"
      ],
      "execution_count": 4,
      "outputs": []
    },
    {
      "cell_type": "markdown",
      "metadata": {
        "id": "1J1anb7c-_ZJ"
      },
      "source": [
        "### Model-1 (Layer 11)Definition\n",
        "\n",
        "The function createModel implements and initialises a neural network regression model. No of layers in neural network is 11. \n",
        "The input layer and hidden layers have relu activation function. The output layer has sigmoid activation function as the output \n",
        "has to be finally scaled to [0 to 255] range. Sigmoid activation function returns value between 0 to 1 which when multiplied with 255 will revert back to [0 to 255] range. RELU activation function is selected for input and inner layers for fast training. Loss function is taken as 'mse'(mean squared error). Optimization algorithm selected is 'ADAM' for fast training. Stop loss function is implemented to avoid overfitting of data. Stop loss monitoring parameter is validation_loss with minimum delta of 0.0001. Restore best weight feature is enabled in stop loss function to revert the weight to the optimal value in the stop loss window.<br>\n",
        "\n",
        "Input layer : 507 (5\\*5\\*3)<br>\n",
        "Layer 1: 4096<br>\n",
        "Layer 2: 2048<br>\n",
        "Layer 3: 1024<br>\n",
        "Layer 4: 512<br>\n",
        "Layer 5: 256<br>\n",
        "Layer 6: 128<br>\n",
        "Layer 7: 64<br>\n",
        "Layer 8: 32<br>\n",
        "Layer 9: 16<br>\n",
        "Layer 10: 8<br>\n",
        "Layer 11(Output layer): 3<br>\n",
        "\n",
        "Subpatch Size : 5"
      ]
    },
    {
      "cell_type": "code",
      "metadata": {
        "id": "5lUYyTvj_Cw3"
      },
      "source": [
        "# import numpy as np\n",
        "from keras.models import Sequential\n",
        "from keras.layers import Dense\n",
        "import pandas as pd\n",
        "from keras.callbacks import EarlyStopping\n",
        "import numpy as np\n",
        "from matplotlib import pyplot as plt\n",
        "\n",
        "\n",
        "def createModel_1(noisyPatches_train1,centralPixel_train1,noisyPatches_val1,centralPixel_val1,noisyPatches_test1,centralPixel_test1,PatchSize,model_name):\n",
        "    print(\"Traiing and Validation sets size :\",noisyPatches_train1.shape,centralPixel_train1.shape,noisyPatches_val1.shape,centralPixel_val1.shape)\n",
        "    es = EarlyStopping(monitor='val_loss', mode='min',min_delta=0.0001, verbose=1,patience=15,restore_best_weights=True)\n",
        "    model = Sequential()\n",
        "    model.add(Dense(4096, input_dim=PatchSize*PatchSize*3, activation='relu'))\n",
        "    model.add(Dense(2048, activation='relu'))  \n",
        "    model.add(Dense(1024, activation='relu'))\n",
        "    model.add(Dense(512, activation='relu'))\n",
        "    model.add(Dense(256, activation='relu'))\n",
        "    model.add(Dense(128, activation='relu'))\n",
        "    model.add(Dense(64, activation='relu'))\n",
        "    model.add(Dense(32, activation='relu'))\n",
        "    model.add(Dense(16, activation='relu'))\n",
        "    model.add(Dense(8, activation='relu'))\n",
        "    model.add(Dense(3, activation='sigmoid'))\n",
        "    model.compile(loss='mse', optimizer='adam', metrics=['accuracy'])\n",
        "    history = model.fit(noisyPatches_train1.T, centralPixel_train1.T, epochs=1000,callbacks=[es],validation_data=(noisyPatches_val1.T, centralPixel_val1.T))\n",
        "\n",
        "    pd.DataFrame(history.history).plot(figsize=(8, 5))\n",
        "    plt.grid(True)\n",
        "    plt.gca().set_ylim(0, 1) # set the vertical range to [0-1]\n",
        "    plt.show()\n",
        "\n",
        "    _, accuracy =model.evaluate(noisyPatches_test1.T, centralPixel_test1.T)\n",
        "    print('Accuracy: %.2f' % (accuracy*100))\n",
        "    model.save(model_name) # Saving model information for later usage\n",
        "    #reconstructed_model = keras.models.load_model(\"my_model\")\n",
        "    return model"
      ],
      "execution_count": null,
      "outputs": []
    },
    {
      "cell_type": "markdown",
      "metadata": {
        "id": "6NfF5fcY_PxW"
      },
      "source": [
        "### Creating Model 1_5 (ANN Layer 7, Subpatch size:5)"
      ]
    },
    {
      "cell_type": "code",
      "metadata": {
        "colab": {
          "base_uri": "https://localhost:8080/",
          "height": 1000
        },
        "id": "Y-r_tK_k_TuL",
        "outputId": "fc7b5af9-967f-4ca9-8759-7f8f52adbfd8"
      },
      "source": [
        "\n",
        "import numpy as np\n",
        "noisyPatches_train_1 = np.load('/content/gdrive/MyDrive/Colab Notebooks/EE610_FINAL_PROJECT/Outputs/noisyPatches_train_bilinear_1_4.npy')\n",
        "centralPixel_train_1 = np.load('/content/gdrive/MyDrive/Colab Notebooks/EE610_FINAL_PROJECT/Outputs/centralPixel_train_bilinear_1_4.npy')\n",
        "noisyPatches_val_1 = np.load('/content/gdrive/MyDrive/Colab Notebooks/EE610_FINAL_PROJECT/Outputs/noisyPatches_val_bilinear_1_4.npy')\n",
        "centralPixel_val_1 = np.load('/content/gdrive/MyDrive/Colab Notebooks/EE610_FINAL_PROJECT/Outputs/centralPixel_val_bilinear_1_4.npy')\n",
        "noisyPatches_test_1 = np.load('/content/gdrive/MyDrive/Colab Notebooks/EE610_FINAL_PROJECT/Outputs/noisyPatches_test_bilinear_1_4.npy')\n",
        "centralPixel_test_1 = np.load('/content/gdrive/MyDrive/Colab Notebooks/EE610_FINAL_PROJECT/Outputs/centralPixel_test_bilinear_1_4.npy')\n",
        "\n",
        "noisyPatches_train_sub = subPatchVectors(noisyPatches_train_1,5)\n",
        "noisyPatches_val_sub = subPatchVectors(noisyPatches_val_1,5)\n",
        "noisyPatches_test_sub = subPatchVectors(noisyPatches_test_1,5)\n",
        "\n",
        "model1_5_1_4_bilinear = createModel_1(noisyPatches_train_sub,centralPixel_train_1,noisyPatches_val_sub,centralPixel_val_1,noisyPatches_test_sub,centralPixel_test_1,5,\"/content/gdrive/MyDrive/Colab Notebooks/EE610_FINAL_PROJECT/Outputs/model1_5_1_4_bilinear.h5\")"
      ],
      "execution_count": null,
      "outputs": [
        {
          "output_type": "stream",
          "name": "stdout",
          "text": [
            "Traiing and Validation sets size : (75, 24300) (3, 24300) (75, 4700) (3, 4700)\n",
            "Epoch 1/1000\n",
            "760/760 [==============================] - 4s 5ms/step - loss: 0.0101 - accuracy: 0.6795 - val_loss: 0.0115 - val_accuracy: 0.7064\n",
            "Epoch 2/1000\n",
            "760/760 [==============================] - 3s 4ms/step - loss: 0.0053 - accuracy: 0.7473 - val_loss: 0.0053 - val_accuracy: 0.6281\n",
            "Epoch 3/1000\n",
            "760/760 [==============================] - 3s 4ms/step - loss: 0.0052 - accuracy: 0.7478 - val_loss: 0.0050 - val_accuracy: 0.6647\n",
            "Epoch 4/1000\n",
            "760/760 [==============================] - 3s 4ms/step - loss: 0.0046 - accuracy: 0.7781 - val_loss: 0.0043 - val_accuracy: 0.8028\n",
            "Epoch 5/1000\n",
            "760/760 [==============================] - 3s 4ms/step - loss: 0.0043 - accuracy: 0.8238 - val_loss: 0.0040 - val_accuracy: 0.8123\n",
            "Epoch 6/1000\n",
            "760/760 [==============================] - 3s 4ms/step - loss: 0.0041 - accuracy: 0.8421 - val_loss: 0.0033 - val_accuracy: 0.8434\n",
            "Epoch 7/1000\n",
            "760/760 [==============================] - 3s 4ms/step - loss: 0.0040 - accuracy: 0.8441 - val_loss: 0.0043 - val_accuracy: 0.8419\n",
            "Epoch 8/1000\n",
            "760/760 [==============================] - 3s 4ms/step - loss: 0.0040 - accuracy: 0.8495 - val_loss: 0.0032 - val_accuracy: 0.8447\n",
            "Epoch 9/1000\n",
            "760/760 [==============================] - 3s 4ms/step - loss: 0.0038 - accuracy: 0.8577 - val_loss: 0.0033 - val_accuracy: 0.8864\n",
            "Epoch 10/1000\n",
            "760/760 [==============================] - 3s 4ms/step - loss: 0.0038 - accuracy: 0.8536 - val_loss: 0.0035 - val_accuracy: 0.8721\n",
            "Epoch 11/1000\n",
            "760/760 [==============================] - 3s 4ms/step - loss: 0.0037 - accuracy: 0.8581 - val_loss: 0.0038 - val_accuracy: 0.8379\n",
            "Epoch 12/1000\n",
            "760/760 [==============================] - 3s 4ms/step - loss: 0.0037 - accuracy: 0.8634 - val_loss: 0.0032 - val_accuracy: 0.8949\n",
            "Epoch 13/1000\n",
            "760/760 [==============================] - 3s 4ms/step - loss: 0.0037 - accuracy: 0.8609 - val_loss: 0.0030 - val_accuracy: 0.8798\n",
            "Epoch 14/1000\n",
            "760/760 [==============================] - 3s 4ms/step - loss: 0.0037 - accuracy: 0.8665 - val_loss: 0.0029 - val_accuracy: 0.8530\n",
            "Epoch 15/1000\n",
            "760/760 [==============================] - 3s 4ms/step - loss: 0.0037 - accuracy: 0.8677 - val_loss: 0.0030 - val_accuracy: 0.8809\n",
            "Epoch 16/1000\n",
            "760/760 [==============================] - 3s 4ms/step - loss: 0.0036 - accuracy: 0.8632 - val_loss: 0.0031 - val_accuracy: 0.8955\n",
            "Epoch 17/1000\n",
            "760/760 [==============================] - 3s 4ms/step - loss: 0.0036 - accuracy: 0.8658 - val_loss: 0.0032 - val_accuracy: 0.8562\n",
            "Epoch 18/1000\n",
            "760/760 [==============================] - 3s 4ms/step - loss: 0.0036 - accuracy: 0.8705 - val_loss: 0.0030 - val_accuracy: 0.8913\n",
            "Epoch 19/1000\n",
            "760/760 [==============================] - 3s 4ms/step - loss: 0.0035 - accuracy: 0.8767 - val_loss: 0.0029 - val_accuracy: 0.8909\n",
            "Epoch 20/1000\n",
            "760/760 [==============================] - 3s 4ms/step - loss: 0.0035 - accuracy: 0.8702 - val_loss: 0.0030 - val_accuracy: 0.8981\n",
            "Epoch 21/1000\n",
            "760/760 [==============================] - 3s 4ms/step - loss: 0.0035 - accuracy: 0.8751 - val_loss: 0.0029 - val_accuracy: 0.9128\n",
            "Epoch 22/1000\n",
            "760/760 [==============================] - 3s 4ms/step - loss: 0.0035 - accuracy: 0.8731 - val_loss: 0.0037 - val_accuracy: 0.8506\n",
            "Epoch 23/1000\n",
            "760/760 [==============================] - 3s 4ms/step - loss: 0.0035 - accuracy: 0.8725 - val_loss: 0.0032 - val_accuracy: 0.8509\n",
            "Epoch 24/1000\n",
            "760/760 [==============================] - 3s 4ms/step - loss: 0.0034 - accuracy: 0.8729 - val_loss: 0.0032 - val_accuracy: 0.8919\n",
            "Epoch 25/1000\n",
            "760/760 [==============================] - 3s 4ms/step - loss: 0.0035 - accuracy: 0.8737 - val_loss: 0.0029 - val_accuracy: 0.9115\n",
            "Epoch 26/1000\n",
            "760/760 [==============================] - 3s 4ms/step - loss: 0.0034 - accuracy: 0.8758 - val_loss: 0.0035 - val_accuracy: 0.9002\n",
            "Epoch 27/1000\n",
            "760/760 [==============================] - 3s 4ms/step - loss: 0.0035 - accuracy: 0.8808 - val_loss: 0.0028 - val_accuracy: 0.8979\n",
            "Epoch 28/1000\n",
            "760/760 [==============================] - 3s 4ms/step - loss: 0.0034 - accuracy: 0.8837 - val_loss: 0.0032 - val_accuracy: 0.8836\n",
            "Epoch 29/1000\n",
            "760/760 [==============================] - 3s 4ms/step - loss: 0.0034 - accuracy: 0.8822 - val_loss: 0.0029 - val_accuracy: 0.9126\n",
            "Epoch 30/1000\n",
            "760/760 [==============================] - 3s 4ms/step - loss: 0.0033 - accuracy: 0.8795 - val_loss: 0.0031 - val_accuracy: 0.8723\n",
            "Epoch 31/1000\n",
            "760/760 [==============================] - 3s 4ms/step - loss: 0.0034 - accuracy: 0.8844 - val_loss: 0.0028 - val_accuracy: 0.8823\n",
            "Epoch 32/1000\n",
            "760/760 [==============================] - 3s 4ms/step - loss: 0.0034 - accuracy: 0.8832 - val_loss: 0.0028 - val_accuracy: 0.8940\n",
            "Epoch 33/1000\n",
            "760/760 [==============================] - 3s 4ms/step - loss: 0.0034 - accuracy: 0.8797 - val_loss: 0.0028 - val_accuracy: 0.9043\n",
            "Epoch 34/1000\n",
            "760/760 [==============================] - 3s 4ms/step - loss: 0.0034 - accuracy: 0.8812 - val_loss: 0.0029 - val_accuracy: 0.8951\n",
            "Epoch 35/1000\n",
            "760/760 [==============================] - 3s 4ms/step - loss: 0.0033 - accuracy: 0.8852 - val_loss: 0.0027 - val_accuracy: 0.9140\n",
            "Epoch 36/1000\n",
            "760/760 [==============================] - 3s 4ms/step - loss: 0.0033 - accuracy: 0.8770 - val_loss: 0.0032 - val_accuracy: 0.8991\n",
            "Epoch 37/1000\n",
            "760/760 [==============================] - 3s 4ms/step - loss: 0.0033 - accuracy: 0.8802 - val_loss: 0.0029 - val_accuracy: 0.9094\n",
            "Epoch 38/1000\n",
            "760/760 [==============================] - 3s 4ms/step - loss: 0.0033 - accuracy: 0.8779 - val_loss: 0.0034 - val_accuracy: 0.8457\n",
            "Epoch 39/1000\n",
            "760/760 [==============================] - 3s 4ms/step - loss: 0.0034 - accuracy: 0.8832 - val_loss: 0.0028 - val_accuracy: 0.8917\n",
            "Epoch 40/1000\n",
            "760/760 [==============================] - 3s 4ms/step - loss: 0.0033 - accuracy: 0.8839 - val_loss: 0.0029 - val_accuracy: 0.8870\n",
            "Epoch 41/1000\n",
            "760/760 [==============================] - 3s 4ms/step - loss: 0.0033 - accuracy: 0.8798 - val_loss: 0.0030 - val_accuracy: 0.9115\n",
            "Epoch 42/1000\n",
            "751/760 [============================>.] - ETA: 0s - loss: 0.0033 - accuracy: 0.8847Restoring model weights from the end of the best epoch: 27.\n",
            "760/760 [==============================] - 3s 4ms/step - loss: 0.0033 - accuracy: 0.8850 - val_loss: 0.0028 - val_accuracy: 0.8811\n",
            "Epoch 00042: early stopping\n"
          ]
        },
        {
          "output_type": "display_data",
          "data": {
            "image/png": "[encoded data removed]",
            "text/plain": [
              "<Figure size 576x360 with 1 Axes>"
            ]
          },
          "metadata": {
            "needs_background": "light"
          }
        },
        {
          "output_type": "stream",
          "name": "stdout",
          "text": [
            "32/32 [==============================] - 0s 2ms/step - loss: 0.0029 - accuracy: 0.9380\n",
            "Accuracy: 93.80\n"
          ]
        }
      ]
    },
    {
      "cell_type": "code",
      "metadata": {
        "colab": {
          "base_uri": "https://localhost:8080/"
        },
        "id": "5jM77fNxq--Y",
        "outputId": "dfe2fe42-951f-49dc-a61d-dedefb96132d"
      },
      "source": [
        "corrrected_image1 =reconstructImage_ANN('/content/gdrive/MyDrive/Colab Notebooks/EE610_FINAL_PROJECT/DIV2KDATASET_US_1_4_BILINEAR/Test/0228_us_1_4_bilinear.png',model1_5_1_4_bilinear,5)\n",
        "cv2.imwrite('/content/gdrive/MyDrive/Colab Notebooks/EE610_FINAL_PROJECT/Outputs/0228_us_1_4_bilinear_model1_5_1_4_bilinear.png', corrrected_image1)"
      ],
      "execution_count": null,
      "outputs": [
        {
          "output_type": "execute_result",
          "data": {
            "text/plain": [
              "True"
            ]
          },
          "metadata": {},
          "execution_count": 19
        }
      ]
    },
    {
      "cell_type": "code",
      "metadata": {
        "colab": {
          "base_uri": "https://localhost:8080/"
        },
        "id": "DXqSst2BtTNr",
        "outputId": "f5de6c9d-2883-472b-d8cb-b3287c5958a0"
      },
      "source": [
        "noise_downsampled,  noise_reconstructed=calculateNoise('/content/gdrive/MyDrive/Colab Notebooks/EE610_FINAL_PROJECT/DIV2KDATASET_HR/Test/0228.png','/content/gdrive/MyDrive/Colab Notebooks/EE610_FINAL_PROJECT/DIV2KDATASET_US_1_4_BILINEAR/Test/0228_us_1_4_bilinear.png','/content/gdrive/MyDrive/Colab Notebooks/EE610_FINAL_PROJECT/Outputs/0228_us_1_4_bilinear_model1_5_1_4_bilinear.png')\n",
        "print(\"Noise in Downsampled and Upsampled Image :\",noise_downsampled)\n",
        "print(\"Noise in reconstructed Image :\",noise_reconstructed)"
      ],
      "execution_count": null,
      "outputs": [
        {
          "output_type": "stream",
          "name": "stdout",
          "text": [
            "Noise in Downsampled and Upsampled Image : 4.940680044513492\n",
            "Noise in reconstructed Image : 5.92486394675137\n"
          ]
        }
      ]
    },
    {
      "cell_type": "code",
      "metadata": {
        "colab": {
          "base_uri": "https://localhost:8080/"
        },
        "id": "KDNCJAuaHFEn",
        "outputId": "d8fdc583-46ab-43c3-955c-5ad4e5786682"
      },
      "source": [
        "corrrected_image1 =reconstructImage_ANN('/content/gdrive/MyDrive/Colab Notebooks/EE610_FINAL_PROJECT/Inputs/228_low_quality_bilinear.png',model1_5_1_4_bilinear,5)\n",
        "cv2.imwrite('/content/gdrive/MyDrive/Colab Notebooks/EE610_FINAL_PROJECT/Outputs/228_low_quality_bilinear_model1_5_1_4_bilinear.png', corrrected_image1)"
      ],
      "execution_count": null,
      "outputs": [
        {
          "output_type": "execute_result",
          "data": {
            "text/plain": [
              "True"
            ]
          },
          "metadata": {},
          "execution_count": 26
        }
      ]
    },
    {
      "cell_type": "code",
      "metadata": {
        "colab": {
          "base_uri": "https://localhost:8080/"
        },
        "id": "Dcin_Em8HzP7",
        "outputId": "b6689f29-aa4e-4546-98f6-a4eee21fbf10"
      },
      "source": [
        "noise_downsampled,  noise_reconstructed=calculateNoise('/content/gdrive/MyDrive/Colab Notebooks/EE610_FINAL_PROJECT/Inputs/228.png','/content/gdrive/MyDrive/Colab Notebooks/EE610_FINAL_PROJECT/Inputs/228_low_quality_bilinear.png','/content/gdrive/MyDrive/Colab Notebooks/EE610_FINAL_PROJECT/Outputs/228_low_quality_bilinear_model1_5_1_4_bilinear.png')\n",
        "print(\"Noise in Downsampled and Upsampled Image :\",noise_downsampled)\n",
        "print(\"Noise in reconstructed Image :\",noise_reconstructed)"
      ],
      "execution_count": null,
      "outputs": [
        {
          "output_type": "stream",
          "name": "stdout",
          "text": [
            "Noise in Downsampled and Upsampled Image : 7.053998730675352\n",
            "Noise in reconstructed Image : 7.3680850009568495\n"
          ]
        }
      ]
    },
    {
      "cell_type": "code",
      "metadata": {
        "colab": {
          "base_uri": "https://localhost:8080/"
        },
        "id": "E2qxL-CyJkuO",
        "outputId": "66f8e982-f990-4564-ec4f-bfa3f13abcf2"
      },
      "source": [
        "corrrected_image1 =reconstructImage_ANN('/content/gdrive/MyDrive/Colab Notebooks/EE610_FINAL_PROJECT/Inputs/butterfly_low_quality_bilinear.png',model1_5_1_4_bilinear,5)\n",
        "cv2.imwrite('/content/gdrive/MyDrive/Colab Notebooks/EE610_FINAL_PROJECT/Outputs/butterfly_low_quality_bilinear_model1_5_1_4_bilinear.png', corrrected_image1)"
      ],
      "execution_count": null,
      "outputs": [
        {
          "output_type": "execute_result",
          "data": {
            "text/plain": [
              "True"
            ]
          },
          "metadata": {},
          "execution_count": 28
        }
      ]
    },
    {
      "cell_type": "code",
      "metadata": {
        "colab": {
          "base_uri": "https://localhost:8080/"
        },
        "id": "FFDd6uYkJ05N",
        "outputId": "dc4bf8d8-2de4-4d2f-bb20-bf022118d8f9"
      },
      "source": [
        "noise_downsampled,  noise_reconstructed=calculateNoise('/content/gdrive/MyDrive/Colab Notebooks/EE610_FINAL_PROJECT/Inputs/butterfly.jpg','/content/gdrive/MyDrive/Colab Notebooks/EE610_FINAL_PROJECT/Inputs/butterfly_low_quality_bilinear.png','/content/gdrive/MyDrive/Colab Notebooks/EE610_FINAL_PROJECT/Outputs/butterfly_low_quality_bilinear_model1_5_1_4_bilinear.png')\n",
        "print(\"Noise in Downsampled and Upsampled Image :\",noise_downsampled)\n",
        "print(\"Noise in reconstructed Image :\",noise_reconstructed)"
      ],
      "execution_count": null,
      "outputs": [
        {
          "output_type": "stream",
          "name": "stdout",
          "text": [
            "Noise in Downsampled and Upsampled Image : 3.103158065897555\n",
            "Noise in reconstructed Image : 5.846677988415267\n"
          ]
        }
      ]
    },
    {
      "cell_type": "code",
      "metadata": {
        "colab": {
          "base_uri": "https://localhost:8080/"
        },
        "id": "AepEZtjUAXgR",
        "outputId": "7de64012-97da-4a2c-80bb-6b47feb59a6e"
      },
      "source": [
        "  import cv2\n",
        "  img = cv2.imread('/content/gdrive/MyDrive/Colab Notebooks/EE610_FINAL_PROJECT/Inputs/butterfly.jpg', cv2.IMREAD_UNCHANGED)\n",
        "  scale_percent = 25 # percent of original size\n",
        "  width = int(img.shape[1] * scale_percent / 100)\n",
        "  height = int(img.shape[0] * scale_percent / 100)\n",
        "  dimension = (width, height)\n",
        "  resized = cv2.resize(img, dimension, interpolation = cv2.INTER_LINEAR)\n",
        "  #cv2.imwrite('/content/gdrive/MyDrive/Colab Notebooks/EE610_FINAL_PROJECT/Inputs/butterfly_ds_4_1.png', resized)\n",
        "    \n",
        "  scale_percent = 400 # percent of original size\n",
        "  width = int(resized.shape[1] * scale_percent / 100)\n",
        "  height = int(resized.shape[0] * scale_percent / 100)\n",
        "  dimension = (width, height)\n",
        "  resized_ = cv2.resize(resized, dimension, interpolation = cv2.INTER_LINEAR)\n",
        "  cv2.imwrite('/content/gdrive/MyDrive/Colab Notebooks/EE610_FINAL_PROJECT/Inputs/butterfly_low_quality_bilinear.png', resized_)"
      ],
      "execution_count": null,
      "outputs": [
        {
          "output_type": "execute_result",
          "data": {
            "text/plain": [
              "True"
            ]
          },
          "metadata": {},
          "execution_count": 14
        }
      ]
    },
    {
      "cell_type": "code",
      "metadata": {
        "colab": {
          "base_uri": "https://localhost:8080/"
        },
        "id": "qSlsv6O8FgxJ",
        "outputId": "bdfbf4be-c6e4-4201-f703-5f08f2f571e5"
      },
      "source": [
        "  import cv2\n",
        "  img = cv2.imread('/content/gdrive/MyDrive/Colab Notebooks/EE610_FINAL_PROJECT/Inputs/228.png', cv2.IMREAD_UNCHANGED)\n",
        "  scale_percent = 25 # percent of original size\n",
        "  width = int(img.shape[1] * scale_percent / 100)\n",
        "  height = int(img.shape[0] * scale_percent / 100)\n",
        "  dimension = (width, height)\n",
        "  resized = cv2.resize(img, dimension, interpolation = cv2.INTER_LINEAR)\n",
        "  #cv2.imwrite('/content/gdrive/MyDrive/Colab Notebooks/EE610_FINAL_PROJECT/Inputs/butterfly_ds_4_1.png', resized)\n",
        "    \n",
        "  scale_percent = 400 # percent of original size\n",
        "  width = int(resized.shape[1] * scale_percent / 100)\n",
        "  height = int(resized.shape[0] * scale_percent / 100)\n",
        "  dimension = (width, height)\n",
        "  resized_ = cv2.resize(resized, dimension, interpolation = cv2.INTER_LINEAR)\n",
        "  cv2.imwrite('/content/gdrive/MyDrive/Colab Notebooks/EE610_FINAL_PROJECT/Inputs/228_low_quality_bilinear.png', resized_)"
      ],
      "execution_count": null,
      "outputs": [
        {
          "output_type": "execute_result",
          "data": {
            "text/plain": [
              "True"
            ]
          },
          "metadata": {},
          "execution_count": 25
        }
      ]
    },
    {
      "cell_type": "markdown",
      "metadata": {
        "id": "spZClnApKb-w"
      },
      "source": [
        "### Creating Model 1_15 (ANN Layer 7, Subpatch size:15)"
      ]
    },
    {
      "cell_type": "code",
      "metadata": {
        "colab": {
          "base_uri": "https://localhost:8080/",
          "height": 1000
        },
        "id": "j1Kfcu68A0Ri",
        "outputId": "eed7e6f1-08f3-49ea-dd05-d35c15f20c8a"
      },
      "source": [
        "\n",
        "import numpy as np\n",
        "noisyPatches_train_1 = np.load('/content/gdrive/MyDrive/Colab Notebooks/EE610_FINAL_PROJECT/Outputs/noisyPatches_train_bilinear_1_4.npy')\n",
        "centralPixel_train_1 = np.load('/content/gdrive/MyDrive/Colab Notebooks/EE610_FINAL_PROJECT/Outputs/centralPixel_train_bilinear_1_4.npy')\n",
        "noisyPatches_val_1 = np.load('/content/gdrive/MyDrive/Colab Notebooks/EE610_FINAL_PROJECT/Outputs/noisyPatches_val_bilinear_1_4.npy')\n",
        "centralPixel_val_1 = np.load('/content/gdrive/MyDrive/Colab Notebooks/EE610_FINAL_PROJECT/Outputs/centralPixel_val_bilinear_1_4.npy')\n",
        "noisyPatches_test_1 = np.load('/content/gdrive/MyDrive/Colab Notebooks/EE610_FINAL_PROJECT/Outputs/noisyPatches_test_bilinear_1_4.npy')\n",
        "centralPixel_test_1 = np.load('/content/gdrive/MyDrive/Colab Notebooks/EE610_FINAL_PROJECT/Outputs/centralPixel_test_bilinear_1_4.npy')\n",
        "\n",
        "noisyPatches_train_sub = subPatchVectors(noisyPatches_train_1,15)\n",
        "noisyPatches_val_sub = subPatchVectors(noisyPatches_val_1,15)\n",
        "noisyPatches_test_sub = subPatchVectors(noisyPatches_test_1,15)\n",
        "\n",
        "model1_15_1_4_bilinear = createModel_1(noisyPatches_train_sub,centralPixel_train_1,noisyPatches_val_sub,centralPixel_val_1,noisyPatches_test_sub,centralPixel_test_1,15,\"/content/gdrive/MyDrive/Colab Notebooks/EE610_FINAL_PROJECT/Outputs/model1_15_1_4_bilinear.h5\")"
      ],
      "execution_count": null,
      "outputs": [
        {
          "output_type": "stream",
          "name": "stdout",
          "text": [
            "Traiing and Validation sets size : (675, 24300) (3, 24300) (675, 4700) (3, 4700)\n",
            "Epoch 1/1000\n",
            "760/760 [==============================] - 4s 5ms/step - loss: 0.0171 - accuracy: 0.6195 - val_loss: 0.0052 - val_accuracy: 0.7045\n",
            "Epoch 2/1000\n",
            "760/760 [==============================] - 4s 5ms/step - loss: 0.0057 - accuracy: 0.7535 - val_loss: 0.0039 - val_accuracy: 0.8211\n",
            "Epoch 3/1000\n",
            "760/760 [==============================] - 3s 5ms/step - loss: 0.0048 - accuracy: 0.8243 - val_loss: 0.0053 - val_accuracy: 0.7928\n",
            "Epoch 4/1000\n",
            "760/760 [==============================] - 4s 5ms/step - loss: 0.0044 - accuracy: 0.8419 - val_loss: 0.0038 - val_accuracy: 0.8506\n",
            "Epoch 5/1000\n",
            "760/760 [==============================] - 4s 5ms/step - loss: 0.0045 - accuracy: 0.8330 - val_loss: 0.0033 - val_accuracy: 0.8811\n",
            "Epoch 6/1000\n",
            "760/760 [==============================] - 4s 5ms/step - loss: 0.0043 - accuracy: 0.8474 - val_loss: 0.0050 - val_accuracy: 0.8317\n",
            "Epoch 7/1000\n",
            "760/760 [==============================] - 4s 5ms/step - loss: 0.0043 - accuracy: 0.8385 - val_loss: 0.0036 - val_accuracy: 0.8074\n",
            "Epoch 8/1000\n",
            "760/760 [==============================] - 4s 5ms/step - loss: 0.0041 - accuracy: 0.8484 - val_loss: 0.0035 - val_accuracy: 0.8385\n",
            "Epoch 9/1000\n",
            "760/760 [==============================] - 4s 5ms/step - loss: 0.0041 - accuracy: 0.8485 - val_loss: 0.0033 - val_accuracy: 0.8811\n",
            "Epoch 10/1000\n",
            "760/760 [==============================] - 4s 5ms/step - loss: 0.0041 - accuracy: 0.8497 - val_loss: 0.0035 - val_accuracy: 0.8555\n",
            "Epoch 11/1000\n",
            "760/760 [==============================] - 4s 5ms/step - loss: 0.0039 - accuracy: 0.8542 - val_loss: 0.0029 - val_accuracy: 0.9143\n",
            "Epoch 12/1000\n",
            "760/760 [==============================] - 4s 5ms/step - loss: 0.0040 - accuracy: 0.8516 - val_loss: 0.0034 - val_accuracy: 0.8704\n",
            "Epoch 13/1000\n",
            "760/760 [==============================] - 4s 5ms/step - loss: 0.0039 - accuracy: 0.8579 - val_loss: 0.0031 - val_accuracy: 0.8253\n",
            "Epoch 14/1000\n",
            "760/760 [==============================] - 3s 5ms/step - loss: 0.0038 - accuracy: 0.8552 - val_loss: 0.0037 - val_accuracy: 0.8874\n",
            "Epoch 15/1000\n",
            "760/760 [==============================] - 3s 5ms/step - loss: 0.0038 - accuracy: 0.8570 - val_loss: 0.0037 - val_accuracy: 0.8298\n",
            "Epoch 16/1000\n",
            "760/760 [==============================] - 4s 5ms/step - loss: 0.0037 - accuracy: 0.8624 - val_loss: 0.0032 - val_accuracy: 0.8315\n",
            "Epoch 17/1000\n",
            "760/760 [==============================] - 3s 5ms/step - loss: 0.0038 - accuracy: 0.8582 - val_loss: 0.0037 - val_accuracy: 0.8677\n",
            "Epoch 18/1000\n",
            "760/760 [==============================] - 3s 5ms/step - loss: 0.0036 - accuracy: 0.8651 - val_loss: 0.0042 - val_accuracy: 0.8779\n",
            "Epoch 19/1000\n",
            "760/760 [==============================] - 3s 5ms/step - loss: 0.0037 - accuracy: 0.8605 - val_loss: 0.0039 - val_accuracy: 0.7279\n",
            "Epoch 20/1000\n",
            "760/760 [==============================] - 3s 5ms/step - loss: 0.0037 - accuracy: 0.8623 - val_loss: 0.0033 - val_accuracy: 0.8538\n",
            "Epoch 21/1000\n",
            "760/760 [==============================] - 3s 5ms/step - loss: 0.0037 - accuracy: 0.8579 - val_loss: 0.0029 - val_accuracy: 0.8679\n",
            "Epoch 22/1000\n",
            "760/760 [==============================] - 3s 5ms/step - loss: 0.0036 - accuracy: 0.8669 - val_loss: 0.0037 - val_accuracy: 0.8668\n",
            "Epoch 23/1000\n",
            "760/760 [==============================] - 3s 5ms/step - loss: 0.0035 - accuracy: 0.8636 - val_loss: 0.0052 - val_accuracy: 0.8630\n",
            "Epoch 24/1000\n",
            "760/760 [==============================] - 3s 5ms/step - loss: 0.0035 - accuracy: 0.8605 - val_loss: 0.0028 - val_accuracy: 0.8711\n",
            "Epoch 25/1000\n",
            "760/760 [==============================] - 3s 5ms/step - loss: 0.0035 - accuracy: 0.8676 - val_loss: 0.0027 - val_accuracy: 0.8798\n",
            "Epoch 26/1000\n",
            "760/760 [==============================] - 3s 5ms/step - loss: 0.0035 - accuracy: 0.8674 - val_loss: 0.0032 - val_accuracy: 0.8949\n",
            "Epoch 27/1000\n",
            "760/760 [==============================] - 3s 5ms/step - loss: 0.0035 - accuracy: 0.8641 - val_loss: 0.0029 - val_accuracy: 0.8738\n",
            "Epoch 28/1000\n",
            "760/760 [==============================] - 3s 5ms/step - loss: 0.0035 - accuracy: 0.8672 - val_loss: 0.0041 - val_accuracy: 0.8819\n",
            "Epoch 29/1000\n",
            "760/760 [==============================] - 4s 5ms/step - loss: 0.0035 - accuracy: 0.8723 - val_loss: 0.0034 - val_accuracy: 0.8734\n",
            "Epoch 30/1000\n",
            "760/760 [==============================] - 4s 5ms/step - loss: 0.0035 - accuracy: 0.8680 - val_loss: 0.0029 - val_accuracy: 0.8511\n",
            "Epoch 31/1000\n",
            "760/760 [==============================] - 4s 5ms/step - loss: 0.0034 - accuracy: 0.8696 - val_loss: 0.0034 - val_accuracy: 0.8994\n",
            "Epoch 32/1000\n",
            "760/760 [==============================] - 4s 5ms/step - loss: 0.0035 - accuracy: 0.8674 - val_loss: 0.0028 - val_accuracy: 0.8770\n",
            "Epoch 33/1000\n",
            "760/760 [==============================] - 3s 5ms/step - loss: 0.0034 - accuracy: 0.8698 - val_loss: 0.0028 - val_accuracy: 0.8672\n",
            "Epoch 34/1000\n",
            "760/760 [==============================] - 3s 5ms/step - loss: 0.0034 - accuracy: 0.8688 - val_loss: 0.0028 - val_accuracy: 0.8857\n",
            "Epoch 35/1000\n",
            "760/760 [==============================] - 3s 5ms/step - loss: 0.0034 - accuracy: 0.8744 - val_loss: 0.0028 - val_accuracy: 0.8940\n",
            "Epoch 36/1000\n",
            "760/760 [==============================] - 3s 5ms/step - loss: 0.0033 - accuracy: 0.8745 - val_loss: 0.0035 - val_accuracy: 0.8602\n",
            "Epoch 37/1000\n",
            "760/760 [==============================] - 3s 5ms/step - loss: 0.0034 - accuracy: 0.8717 - val_loss: 0.0032 - val_accuracy: 0.8666\n",
            "Epoch 38/1000\n",
            "760/760 [==============================] - 4s 5ms/step - loss: 0.0034 - accuracy: 0.8737 - val_loss: 0.0030 - val_accuracy: 0.8794\n",
            "Epoch 39/1000\n",
            "760/760 [==============================] - 4s 5ms/step - loss: 0.0034 - accuracy: 0.8691 - val_loss: 0.0029 - val_accuracy: 0.8787\n",
            "Epoch 40/1000\n",
            "756/760 [============================>.] - ETA: 0s - loss: 0.0033 - accuracy: 0.8791Restoring model weights from the end of the best epoch: 25.\n",
            "760/760 [==============================] - 4s 5ms/step - loss: 0.0033 - accuracy: 0.8791 - val_loss: 0.0027 - val_accuracy: 0.9032\n",
            "Epoch 00040: early stopping\n"
          ]
        },
        {
          "output_type": "display_data",
          "data": {
            "image/png": "[encoded data removed]",
            "text/plain": [
              "<Figure size 576x360 with 1 Axes>"
            ]
          },
          "metadata": {
            "needs_background": "light"
          }
        },
        {
          "output_type": "stream",
          "name": "stdout",
          "text": [
            "32/32 [==============================] - 0s 2ms/step - loss: 0.0028 - accuracy: 0.9360\n",
            "Accuracy: 93.60\n"
          ]
        }
      ]
    },
    {
      "cell_type": "code",
      "metadata": {
        "colab": {
          "base_uri": "https://localhost:8080/"
        },
        "id": "hbPKqKrACVfj",
        "outputId": "03558c2b-c63c-42b6-92ff-a452369e2e1b"
      },
      "source": [
        "corrrected_image1 =reconstructImage_ANN('/content/gdrive/MyDrive/Colab Notebooks/EE610_FINAL_PROJECT/Inputs/butterfly_low_quality_bilinear.png',model1_15_1_4_bilinear,15)\n",
        "cv2.imwrite('/content/gdrive/MyDrive/Colab Notebooks/EE610_FINAL_PROJECT/Outputs/butterfly_low_quality_bilinear_model1_15_1_4_bilinear.png', corrrected_image1)"
      ],
      "execution_count": null,
      "outputs": [
        {
          "output_type": "execute_result",
          "data": {
            "text/plain": [
              "True"
            ]
          },
          "metadata": {},
          "execution_count": 11
        }
      ]
    },
    {
      "cell_type": "code",
      "metadata": {
        "colab": {
          "base_uri": "https://localhost:8080/"
        },
        "id": "1ALdrmBKDrNy",
        "outputId": "aadd497d-6d1a-427c-9a7b-fb8e93ee5c75"
      },
      "source": [
        "noise_downsampled,  noise_reconstructed=calculateNoise('/content/gdrive/MyDrive/Colab Notebooks/EE610_FINAL_PROJECT/Inputs/butterfly.jpg','/content/gdrive/MyDrive/Colab Notebooks/EE610_FINAL_PROJECT/Inputs/butterfly_low_quality_bilinear.png','/content/gdrive/MyDrive/Colab Notebooks/EE610_FINAL_PROJECT/Outputs/butterfly_low_quality_bilinear_model1_15_1_4_bilinear.png')\n",
        "print(\"Noise in Downsampled and Upsampled Image :\",noise_downsampled)\n",
        "print(\"Noise in reconstructed Image :\",noise_reconstructed)"
      ],
      "execution_count": null,
      "outputs": [
        {
          "output_type": "stream",
          "name": "stdout",
          "text": [
            "Noise in Downsampled and Upsampled Image : 3.103158065897555\n",
            "Noise in reconstructed Image : 4.952044892918531\n"
          ]
        }
      ]
    },
    {
      "cell_type": "code",
      "metadata": {
        "id": "iDaj7eVkHS-b"
      },
      "source": [
        "# import numpy as np\n",
        "from keras.models import Sequential\n",
        "from keras.layers import Dense\n",
        "import pandas as pd\n",
        "from keras.callbacks import EarlyStopping\n",
        "import numpy as np\n",
        "from matplotlib import pyplot as plt\n",
        "\n",
        "\n",
        "def createModel_4(noisyPatches_train1,centralPixel_train1,noisyPatches_val1,centralPixel_val1,noisyPatches_test1,centralPixel_test1,PatchSize,model_name):\n",
        "    print(\"Traiing and Validation sets size :\",noisyPatches_train1.shape,centralPixel_train1.shape,noisyPatches_val1.shape,centralPixel_val1.shape)\n",
        "    es = EarlyStopping(monitor='val_loss', mode='min',min_delta=0.0001, verbose=1,patience=15,restore_best_weights=True)\n",
        "    model = Sequential()\n",
        "    model.add(Dense(1024, input_dim=PatchSize*PatchSize*3, activation='relu'))\n",
        "    model.add(Dense(512, activation='relu'))\n",
        "    model.add(Dense(256, activation='relu'))\n",
        "    model.add(Dense(128, activation='relu'))\n",
        "    model.add(Dense(64, activation='relu'))\n",
        "    model.add(Dense(32, activation='relu'))\n",
        "    model.add(Dense(16, activation='relu'))\n",
        "    model.add(Dense(8, activation='relu'))\n",
        "    model.add(Dense(3, activation='sigmoid'))\n",
        "    model.compile(loss='mse', optimizer='adam', metrics=['accuracy'])\n",
        "    history = model.fit(noisyPatches_train1.T, centralPixel_train1.T, epochs=1000,callbacks=[es],validation_data=(noisyPatches_val1.T, centralPixel_val1.T))\n",
        "\n",
        "    pd.DataFrame(history.history).plot(figsize=(8, 5))\n",
        "    plt.grid(True)\n",
        "    plt.gca().set_ylim(0, 1) # set the vertical range to [0-1]\n",
        "    plt.show()\n",
        "\n",
        "    _, accuracy =model.evaluate(noisyPatches_test1.T, centralPixel_test1.T)\n",
        "    print('Accuracy: %.2f' % (accuracy*100))\n",
        "    model.save(model_name) # Saving model information for later usage\n",
        "    #reconstructed_model = keras.models.load_model(\"my_model\")\n",
        "    return model"
      ],
      "execution_count": 10,
      "outputs": []
    },
    {
      "cell_type": "code",
      "metadata": {
        "colab": {
          "base_uri": "https://localhost:8080/",
          "height": 1000
        },
        "id": "mOF1N6bFHnHT",
        "outputId": "88f19de7-a64c-4940-89c5-780b1112c032"
      },
      "source": [
        "\n",
        "import numpy as np\n",
        "noisyPatches_train_1 = np.load('/content/gdrive/MyDrive/Colab Notebooks/EE610_FINAL_PROJECT/Outputs/noisyPatches_train_bilinear_1_4.npy')\n",
        "centralPixel_train_1 = np.load('/content/gdrive/MyDrive/Colab Notebooks/EE610_FINAL_PROJECT/Outputs/centralPixel_train_bilinear_1_4.npy')\n",
        "noisyPatches_val_1 = np.load('/content/gdrive/MyDrive/Colab Notebooks/EE610_FINAL_PROJECT/Outputs/noisyPatches_val_bilinear_1_4.npy')\n",
        "centralPixel_val_1 = np.load('/content/gdrive/MyDrive/Colab Notebooks/EE610_FINAL_PROJECT/Outputs/centralPixel_val_bilinear_1_4.npy')\n",
        "noisyPatches_test_1 = np.load('/content/gdrive/MyDrive/Colab Notebooks/EE610_FINAL_PROJECT/Outputs/noisyPatches_test_bilinear_1_4.npy')\n",
        "centralPixel_test_1 = np.load('/content/gdrive/MyDrive/Colab Notebooks/EE610_FINAL_PROJECT/Outputs/centralPixel_test_bilinear_1_4.npy')\n",
        "\n",
        "noisyPatches_train_sub = subPatchVectors(noisyPatches_train_1,5)\n",
        "noisyPatches_val_sub = subPatchVectors(noisyPatches_val_1,5)\n",
        "noisyPatches_test_sub = subPatchVectors(noisyPatches_test_1,5)\n",
        "\n",
        "model4_5_1_4_bilinear = createModel_4(noisyPatches_train_sub,centralPixel_train_1,noisyPatches_val_sub,centralPixel_val_1,noisyPatches_test_sub,centralPixel_test_1,5,\"/content/gdrive/MyDrive/Colab Notebooks/EE610_FINAL_PROJECT/Outputs/model4_5_1_4_bilinear.h5\")"
      ],
      "execution_count": 11,
      "outputs": [
        {
          "output_type": "stream",
          "name": "stdout",
          "text": [
            "Traiing and Validation sets size : (75, 24300) (3, 24300) (75, 4700) (3, 4700)\n",
            "Epoch 1/1000\n",
            "760/760 [==============================] - 4s 3ms/step - loss: 0.0107 - accuracy: 0.7239 - val_loss: 0.0048 - val_accuracy: 0.8513\n",
            "Epoch 2/1000\n",
            "760/760 [==============================] - 2s 3ms/step - loss: 0.0043 - accuracy: 0.8614 - val_loss: 0.0033 - val_accuracy: 0.8447\n",
            "Epoch 3/1000\n",
            "760/760 [==============================] - 2s 3ms/step - loss: 0.0041 - accuracy: 0.8622 - val_loss: 0.0045 - val_accuracy: 0.9087\n",
            "Epoch 4/1000\n",
            "760/760 [==============================] - 2s 3ms/step - loss: 0.0039 - accuracy: 0.8639 - val_loss: 0.0034 - val_accuracy: 0.8347\n",
            "Epoch 5/1000\n",
            "760/760 [==============================] - 2s 3ms/step - loss: 0.0039 - accuracy: 0.8566 - val_loss: 0.0030 - val_accuracy: 0.8796\n",
            "Epoch 6/1000\n",
            "760/760 [==============================] - 2s 3ms/step - loss: 0.0038 - accuracy: 0.8647 - val_loss: 0.0034 - val_accuracy: 0.8891\n",
            "Epoch 7/1000\n",
            "760/760 [==============================] - 2s 3ms/step - loss: 0.0037 - accuracy: 0.8663 - val_loss: 0.0032 - val_accuracy: 0.8964\n",
            "Epoch 8/1000\n",
            "760/760 [==============================] - 2s 3ms/step - loss: 0.0037 - accuracy: 0.8588 - val_loss: 0.0037 - val_accuracy: 0.8764\n",
            "Epoch 9/1000\n",
            "760/760 [==============================] - 2s 3ms/step - loss: 0.0037 - accuracy: 0.8635 - val_loss: 0.0032 - val_accuracy: 0.8689\n",
            "Epoch 10/1000\n",
            "760/760 [==============================] - 2s 3ms/step - loss: 0.0037 - accuracy: 0.8667 - val_loss: 0.0035 - val_accuracy: 0.8281\n",
            "Epoch 11/1000\n",
            "760/760 [==============================] - 2s 3ms/step - loss: 0.0036 - accuracy: 0.8718 - val_loss: 0.0038 - val_accuracy: 0.9134\n",
            "Epoch 12/1000\n",
            "760/760 [==============================] - 2s 3ms/step - loss: 0.0036 - accuracy: 0.8674 - val_loss: 0.0029 - val_accuracy: 0.8228\n",
            "Epoch 13/1000\n",
            "760/760 [==============================] - 2s 3ms/step - loss: 0.0036 - accuracy: 0.8673 - val_loss: 0.0032 - val_accuracy: 0.9049\n",
            "Epoch 14/1000\n",
            "760/760 [==============================] - 2s 3ms/step - loss: 0.0036 - accuracy: 0.8692 - val_loss: 0.0031 - val_accuracy: 0.8489\n",
            "Epoch 15/1000\n",
            "760/760 [==============================] - 2s 3ms/step - loss: 0.0035 - accuracy: 0.8700 - val_loss: 0.0029 - val_accuracy: 0.8964\n",
            "Epoch 16/1000\n",
            "760/760 [==============================] - 2s 3ms/step - loss: 0.0035 - accuracy: 0.8705 - val_loss: 0.0030 - val_accuracy: 0.8617\n",
            "Epoch 17/1000\n",
            "760/760 [==============================] - 2s 3ms/step - loss: 0.0035 - accuracy: 0.8752 - val_loss: 0.0028 - val_accuracy: 0.8694\n",
            "Epoch 18/1000\n",
            "760/760 [==============================] - 2s 3ms/step - loss: 0.0035 - accuracy: 0.8698 - val_loss: 0.0029 - val_accuracy: 0.8783\n",
            "Epoch 19/1000\n",
            "760/760 [==============================] - 2s 3ms/step - loss: 0.0035 - accuracy: 0.8726 - val_loss: 0.0028 - val_accuracy: 0.8974\n",
            "Epoch 20/1000\n",
            "760/760 [==============================] - 2s 3ms/step - loss: 0.0034 - accuracy: 0.8769 - val_loss: 0.0029 - val_accuracy: 0.8885\n",
            "Epoch 21/1000\n",
            "760/760 [==============================] - 2s 3ms/step - loss: 0.0035 - accuracy: 0.8737 - val_loss: 0.0029 - val_accuracy: 0.9102\n",
            "Epoch 22/1000\n",
            "760/760 [==============================] - 2s 3ms/step - loss: 0.0035 - accuracy: 0.8802 - val_loss: 0.0030 - val_accuracy: 0.8577\n",
            "Epoch 23/1000\n",
            "760/760 [==============================] - 2s 3ms/step - loss: 0.0034 - accuracy: 0.8764 - val_loss: 0.0029 - val_accuracy: 0.8640\n",
            "Epoch 24/1000\n",
            "760/760 [==============================] - 2s 3ms/step - loss: 0.0034 - accuracy: 0.8776 - val_loss: 0.0028 - val_accuracy: 0.9230\n",
            "Epoch 25/1000\n",
            "760/760 [==============================] - 2s 3ms/step - loss: 0.0034 - accuracy: 0.8791 - val_loss: 0.0028 - val_accuracy: 0.9168\n",
            "Epoch 26/1000\n",
            "760/760 [==============================] - 2s 3ms/step - loss: 0.0033 - accuracy: 0.8786 - val_loss: 0.0029 - val_accuracy: 0.8700\n",
            "Epoch 27/1000\n",
            "760/760 [==============================] - 2s 3ms/step - loss: 0.0033 - accuracy: 0.8837 - val_loss: 0.0028 - val_accuracy: 0.8849\n",
            "Epoch 28/1000\n",
            "760/760 [==============================] - 2s 3ms/step - loss: 0.0034 - accuracy: 0.8791 - val_loss: 0.0028 - val_accuracy: 0.8902\n",
            "Epoch 29/1000\n",
            "760/760 [==============================] - 2s 3ms/step - loss: 0.0034 - accuracy: 0.8836 - val_loss: 0.0030 - val_accuracy: 0.9140\n",
            "Epoch 30/1000\n",
            "760/760 [==============================] - 2s 3ms/step - loss: 0.0034 - accuracy: 0.8763 - val_loss: 0.0028 - val_accuracy: 0.8887\n",
            "Epoch 31/1000\n",
            "760/760 [==============================] - 2s 3ms/step - loss: 0.0034 - accuracy: 0.8863 - val_loss: 0.0037 - val_accuracy: 0.9072\n",
            "Epoch 32/1000\n",
            "760/760 [==============================] - 2s 3ms/step - loss: 0.0033 - accuracy: 0.8830 - val_loss: 0.0027 - val_accuracy: 0.9004\n",
            "Epoch 33/1000\n",
            "760/760 [==============================] - 2s 3ms/step - loss: 0.0033 - accuracy: 0.8846 - val_loss: 0.0029 - val_accuracy: 0.8794\n",
            "Epoch 34/1000\n",
            "760/760 [==============================] - 2s 3ms/step - loss: 0.0033 - accuracy: 0.8856 - val_loss: 0.0030 - val_accuracy: 0.9070\n",
            "Epoch 35/1000\n",
            "760/760 [==============================] - 2s 3ms/step - loss: 0.0033 - accuracy: 0.8857 - val_loss: 0.0028 - val_accuracy: 0.8589\n",
            "Epoch 36/1000\n",
            "760/760 [==============================] - 2s 3ms/step - loss: 0.0033 - accuracy: 0.8812 - val_loss: 0.0027 - val_accuracy: 0.8960\n",
            "Epoch 37/1000\n",
            "760/760 [==============================] - 2s 3ms/step - loss: 0.0033 - accuracy: 0.8871 - val_loss: 0.0031 - val_accuracy: 0.8909\n",
            "Epoch 38/1000\n",
            "760/760 [==============================] - 2s 3ms/step - loss: 0.0033 - accuracy: 0.8882 - val_loss: 0.0029 - val_accuracy: 0.8883\n",
            "Epoch 39/1000\n",
            "760/760 [==============================] - 2s 3ms/step - loss: 0.0033 - accuracy: 0.8870 - val_loss: 0.0030 - val_accuracy: 0.8860\n",
            "Epoch 40/1000\n",
            "760/760 [==============================] - 2s 3ms/step - loss: 0.0033 - accuracy: 0.8827 - val_loss: 0.0028 - val_accuracy: 0.8960\n",
            "Epoch 41/1000\n",
            "760/760 [==============================] - 2s 3ms/step - loss: 0.0033 - accuracy: 0.8867 - val_loss: 0.0027 - val_accuracy: 0.9109\n",
            "Epoch 42/1000\n",
            "760/760 [==============================] - 2s 3ms/step - loss: 0.0033 - accuracy: 0.8893 - val_loss: 0.0029 - val_accuracy: 0.8983\n",
            "Epoch 43/1000\n",
            "760/760 [==============================] - 2s 3ms/step - loss: 0.0032 - accuracy: 0.8875 - val_loss: 0.0030 - val_accuracy: 0.9074\n",
            "Epoch 44/1000\n",
            "760/760 [==============================] - 2s 3ms/step - loss: 0.0033 - accuracy: 0.8812 - val_loss: 0.0035 - val_accuracy: 0.8919\n",
            "Epoch 45/1000\n",
            "760/760 [==============================] - 2s 3ms/step - loss: 0.0032 - accuracy: 0.8859 - val_loss: 0.0030 - val_accuracy: 0.8764\n",
            "Epoch 46/1000\n",
            "760/760 [==============================] - 2s 3ms/step - loss: 0.0032 - accuracy: 0.8893 - val_loss: 0.0028 - val_accuracy: 0.8745\n",
            "Epoch 47/1000\n",
            "759/760 [============================>.] - ETA: 0s - loss: 0.0032 - accuracy: 0.8858Restoring model weights from the end of the best epoch: 32.\n",
            "760/760 [==============================] - 2s 3ms/step - loss: 0.0032 - accuracy: 0.8858 - val_loss: 0.0028 - val_accuracy: 0.9185\n",
            "Epoch 00047: early stopping\n"
          ]
        },
        {
          "output_type": "display_data",
          "data": {
            "image/png": "[encoded data removed]",
            "text/plain": [
              "<Figure size 576x360 with 1 Axes>"
            ]
          },
          "metadata": {
            "needs_background": "light"
          }
        },
        {
          "output_type": "stream",
          "name": "stdout",
          "text": [
            "32/32 [==============================] - 0s 2ms/step - loss: 0.0027 - accuracy: 0.9580\n",
            "Accuracy: 95.80\n"
          ]
        }
      ]
    },
    {
      "cell_type": "code",
      "metadata": {
        "colab": {
          "base_uri": "https://localhost:8080/"
        },
        "id": "YNdAdmekIoCM",
        "outputId": "35aa8cc2-aa3f-4088-8094-6acac748f083"
      },
      "source": [
        "corrrected_image1 =reconstructImage_ANN('/content/gdrive/MyDrive/Colab Notebooks/EE610_FINAL_PROJECT/DIV2KDATASET_US_1_4_BILINEAR/Test/0228_us_1_4_bilinear.png',model4_5_1_4_bilinear,5)\n",
        "cv2.imwrite('/content/gdrive/MyDrive/Colab Notebooks/EE610_FINAL_PROJECT/Outputs/0228_us_1_4_bilinear_model4_5_1_4_bilinear.png', corrrected_image1)"
      ],
      "execution_count": 12,
      "outputs": [
        {
          "output_type": "execute_result",
          "data": {
            "text/plain": [
              "True"
            ]
          },
          "metadata": {},
          "execution_count": 12
        }
      ]
    },
    {
      "cell_type": "code",
      "metadata": {
        "colab": {
          "base_uri": "https://localhost:8080/"
        },
        "id": "d49RkauRJUYY",
        "outputId": "4c5cb5f8-2aee-47f9-dd74-67e183924427"
      },
      "source": [
        "noise_downsampled,  noise_reconstructed=calculateNoise('/content/gdrive/MyDrive/Colab Notebooks/EE610_FINAL_PROJECT/DIV2KDATASET_HR/Test/0228.png','/content/gdrive/MyDrive/Colab Notebooks/EE610_FINAL_PROJECT/DIV2KDATASET_US_1_4_BILINEAR/Test/0228_us_1_4_bilinear.png','/content/gdrive/MyDrive/Colab Notebooks/EE610_FINAL_PROJECT/Outputs/0228_us_1_4_bilinear_model4_5_1_4_bilinear.png')\n",
        "print(\"Noise in Downsampled and Upsampled Image :\",noise_downsampled)\n",
        "print(\"Noise in reconstructed Image :\",noise_reconstructed)"
      ],
      "execution_count": 13,
      "outputs": [
        {
          "output_type": "stream",
          "name": "stdout",
          "text": [
            "Noise in Downsampled and Upsampled Image : 4.940680044513492\n",
            "Noise in reconstructed Image : 5.368597087934528\n"
          ]
        }
      ]
    },
    {
      "cell_type": "code",
      "metadata": {
        "colab": {
          "base_uri": "https://localhost:8080/"
        },
        "id": "5SaGsWmLk4wN",
        "outputId": "144f9ad6-4502-4548-b6dc-6f92f61a2509"
      },
      "source": [
        "corrrected_image1 =reconstructImage_ANN('/content/gdrive/MyDrive/Colab Notebooks/EE610_FINAL_PROJECT/DIV2KDATASET_US_1_4_BILINEAR/Test/0267_us_1_4_bilinear.png',model4_5_1_4_bilinear,5)\n",
        "cv2.imwrite('/content/gdrive/MyDrive/Colab Notebooks/EE610_FINAL_PROJECT/Outputs/0267_us_1_4_bilinear_model4_5_1_4_bilinear.png', corrrected_image1)"
      ],
      "execution_count": 14,
      "outputs": [
        {
          "output_type": "execute_result",
          "data": {
            "text/plain": [
              "True"
            ]
          },
          "metadata": {},
          "execution_count": 14
        }
      ]
    },
    {
      "cell_type": "code",
      "metadata": {
        "colab": {
          "base_uri": "https://localhost:8080/"
        },
        "id": "EaUMfzBJlAI9",
        "outputId": "b91383e5-4c0c-4bc2-e1b6-1c28e6000a44"
      },
      "source": [
        "noise_downsampled,  noise_reconstructed=calculateNoise('/content/gdrive/MyDrive/Colab Notebooks/EE610_FINAL_PROJECT/DIV2KDATASET_HR/Test/0267.png','/content/gdrive/MyDrive/Colab Notebooks/EE610_FINAL_PROJECT/DIV2KDATASET_US_1_4_BILINEAR/Test/0267_us_1_4_bilinear.png','/content/gdrive/MyDrive/Colab Notebooks/EE610_FINAL_PROJECT/Outputs/0267_us_1_4_bilinear_model4_5_1_4_bilinear.png')\n",
        "print(\"Noise in Downsampled and Upsampled Image :\",noise_downsampled)\n",
        "print(\"Noise in reconstructed Image :\",noise_reconstructed)"
      ],
      "execution_count": 15,
      "outputs": [
        {
          "output_type": "stream",
          "name": "stdout",
          "text": [
            "Noise in Downsampled and Upsampled Image : 3.9160674820383754\n",
            "Noise in reconstructed Image : 5.512952684344802\n"
          ]
        }
      ]
    },
    {
      "cell_type": "code",
      "metadata": {
        "colab": {
          "base_uri": "https://localhost:8080/",
          "height": 1000
        },
        "id": "BRqWixAjl4fL",
        "outputId": "3e93fd92-be02-48aa-bac6-5eeda65fea42"
      },
      "source": [
        "\n",
        "import numpy as np\n",
        "noisyPatches_train_1 = np.load('/content/gdrive/MyDrive/Colab Notebooks/EE610_FINAL_PROJECT/Outputs/noisyPatches_train_bilinear_1_4.npy')\n",
        "centralPixel_train_1 = np.load('/content/gdrive/MyDrive/Colab Notebooks/EE610_FINAL_PROJECT/Outputs/centralPixel_train_bilinear_1_4.npy')\n",
        "noisyPatches_val_1 = np.load('/content/gdrive/MyDrive/Colab Notebooks/EE610_FINAL_PROJECT/Outputs/noisyPatches_val_bilinear_1_4.npy')\n",
        "centralPixel_val_1 = np.load('/content/gdrive/MyDrive/Colab Notebooks/EE610_FINAL_PROJECT/Outputs/centralPixel_val_bilinear_1_4.npy')\n",
        "noisyPatches_test_1 = np.load('/content/gdrive/MyDrive/Colab Notebooks/EE610_FINAL_PROJECT/Outputs/noisyPatches_test_bilinear_1_4.npy')\n",
        "centralPixel_test_1 = np.load('/content/gdrive/MyDrive/Colab Notebooks/EE610_FINAL_PROJECT/Outputs/centralPixel_test_bilinear_1_4.npy')\n",
        "\n",
        "noisyPatches_train_sub = subPatchVectors(noisyPatches_train_1,15)\n",
        "noisyPatches_val_sub = subPatchVectors(noisyPatches_val_1,15)\n",
        "noisyPatches_test_sub = subPatchVectors(noisyPatches_test_1,15)\n",
        "\n",
        "model4_15_1_4_bilinear = createModel_4(noisyPatches_train_sub,centralPixel_train_1,noisyPatches_val_sub,centralPixel_val_1,noisyPatches_test_sub,centralPixel_test_1,15,\"/content/gdrive/MyDrive/Colab Notebooks/EE610_FINAL_PROJECT/Outputs/model4_15_1_4_bilinear.h5\")"
      ],
      "execution_count": 16,
      "outputs": [
        {
          "output_type": "stream",
          "name": "stdout",
          "text": [
            "Traiing and Validation sets size : (675, 24300) (3, 24300) (675, 4700) (3, 4700)\n",
            "Epoch 1/1000\n",
            "760/760 [==============================] - 3s 3ms/step - loss: 0.0198 - accuracy: 0.6764 - val_loss: 0.0060 - val_accuracy: 0.7049\n",
            "Epoch 2/1000\n",
            "760/760 [==============================] - 2s 3ms/step - loss: 0.0053 - accuracy: 0.8033 - val_loss: 0.0039 - val_accuracy: 0.8311\n",
            "Epoch 3/1000\n",
            "760/760 [==============================] - 2s 3ms/step - loss: 0.0047 - accuracy: 0.8456 - val_loss: 0.0036 - val_accuracy: 0.8700\n",
            "Epoch 4/1000\n",
            "760/760 [==============================] - 2s 3ms/step - loss: 0.0044 - accuracy: 0.8505 - val_loss: 0.0034 - val_accuracy: 0.8677\n",
            "Epoch 5/1000\n",
            "760/760 [==============================] - 2s 3ms/step - loss: 0.0043 - accuracy: 0.8544 - val_loss: 0.0042 - val_accuracy: 0.8464\n",
            "Epoch 6/1000\n",
            "760/760 [==============================] - 2s 3ms/step - loss: 0.0041 - accuracy: 0.8614 - val_loss: 0.0033 - val_accuracy: 0.8713\n",
            "Epoch 7/1000\n",
            "760/760 [==============================] - 2s 3ms/step - loss: 0.0042 - accuracy: 0.8594 - val_loss: 0.0033 - val_accuracy: 0.8828\n",
            "Epoch 8/1000\n",
            "760/760 [==============================] - 2s 3ms/step - loss: 0.0040 - accuracy: 0.8596 - val_loss: 0.0033 - val_accuracy: 0.8566\n",
            "Epoch 9/1000\n",
            "760/760 [==============================] - 2s 3ms/step - loss: 0.0039 - accuracy: 0.8586 - val_loss: 0.0032 - val_accuracy: 0.8581\n",
            "Epoch 10/1000\n",
            "760/760 [==============================] - 2s 3ms/step - loss: 0.0039 - accuracy: 0.8647 - val_loss: 0.0031 - val_accuracy: 0.8747\n",
            "Epoch 11/1000\n",
            "760/760 [==============================] - 2s 3ms/step - loss: 0.0038 - accuracy: 0.8692 - val_loss: 0.0043 - val_accuracy: 0.8504\n",
            "Epoch 12/1000\n",
            "760/760 [==============================] - 2s 3ms/step - loss: 0.0037 - accuracy: 0.8624 - val_loss: 0.0035 - val_accuracy: 0.9077\n",
            "Epoch 13/1000\n",
            "760/760 [==============================] - 2s 3ms/step - loss: 0.0038 - accuracy: 0.8654 - val_loss: 0.0031 - val_accuracy: 0.8877\n",
            "Epoch 14/1000\n",
            "760/760 [==============================] - 2s 3ms/step - loss: 0.0038 - accuracy: 0.8615 - val_loss: 0.0035 - val_accuracy: 0.9034\n",
            "Epoch 15/1000\n",
            "760/760 [==============================] - 2s 3ms/step - loss: 0.0036 - accuracy: 0.8664 - val_loss: 0.0030 - val_accuracy: 0.9081\n",
            "Epoch 16/1000\n",
            "760/760 [==============================] - 2s 3ms/step - loss: 0.0036 - accuracy: 0.8669 - val_loss: 0.0030 - val_accuracy: 0.9128\n",
            "Epoch 17/1000\n",
            "760/760 [==============================] - 2s 3ms/step - loss: 0.0036 - accuracy: 0.8686 - val_loss: 0.0029 - val_accuracy: 0.8943\n",
            "Epoch 18/1000\n",
            "760/760 [==============================] - 2s 3ms/step - loss: 0.0036 - accuracy: 0.8681 - val_loss: 0.0035 - val_accuracy: 0.8189\n",
            "Epoch 19/1000\n",
            "760/760 [==============================] - 2s 3ms/step - loss: 0.0036 - accuracy: 0.8711 - val_loss: 0.0028 - val_accuracy: 0.8762\n",
            "Epoch 20/1000\n",
            "760/760 [==============================] - 2s 3ms/step - loss: 0.0036 - accuracy: 0.8672 - val_loss: 0.0041 - val_accuracy: 0.8379\n",
            "Epoch 21/1000\n",
            "760/760 [==============================] - 2s 3ms/step - loss: 0.0035 - accuracy: 0.8749 - val_loss: 0.0033 - val_accuracy: 0.8811\n",
            "Epoch 22/1000\n",
            "760/760 [==============================] - 2s 3ms/step - loss: 0.0035 - accuracy: 0.8697 - val_loss: 0.0030 - val_accuracy: 0.9083\n",
            "Epoch 23/1000\n",
            "760/760 [==============================] - 2s 3ms/step - loss: 0.0034 - accuracy: 0.8688 - val_loss: 0.0029 - val_accuracy: 0.8691\n",
            "Epoch 24/1000\n",
            "760/760 [==============================] - 2s 3ms/step - loss: 0.0036 - accuracy: 0.8678 - val_loss: 0.0031 - val_accuracy: 0.8819\n",
            "Epoch 25/1000\n",
            "760/760 [==============================] - 2s 3ms/step - loss: 0.0034 - accuracy: 0.8758 - val_loss: 0.0043 - val_accuracy: 0.9045\n",
            "Epoch 26/1000\n",
            "760/760 [==============================] - 2s 3ms/step - loss: 0.0035 - accuracy: 0.8727 - val_loss: 0.0028 - val_accuracy: 0.8881\n",
            "Epoch 27/1000\n",
            "760/760 [==============================] - 2s 3ms/step - loss: 0.0034 - accuracy: 0.8801 - val_loss: 0.0029 - val_accuracy: 0.8783\n",
            "Epoch 28/1000\n",
            "760/760 [==============================] - 2s 3ms/step - loss: 0.0034 - accuracy: 0.8765 - val_loss: 0.0028 - val_accuracy: 0.9091\n",
            "Epoch 29/1000\n",
            "760/760 [==============================] - 2s 3ms/step - loss: 0.0034 - accuracy: 0.8760 - val_loss: 0.0042 - val_accuracy: 0.8913\n",
            "Epoch 30/1000\n",
            "760/760 [==============================] - 2s 3ms/step - loss: 0.0034 - accuracy: 0.8717 - val_loss: 0.0034 - val_accuracy: 0.8506\n",
            "Epoch 31/1000\n",
            "760/760 [==============================] - 2s 3ms/step - loss: 0.0034 - accuracy: 0.8766 - val_loss: 0.0027 - val_accuracy: 0.9002\n",
            "Epoch 32/1000\n",
            "760/760 [==============================] - 2s 3ms/step - loss: 0.0034 - accuracy: 0.8733 - val_loss: 0.0035 - val_accuracy: 0.8874\n",
            "Epoch 33/1000\n",
            "760/760 [==============================] - 2s 3ms/step - loss: 0.0033 - accuracy: 0.8742 - val_loss: 0.0028 - val_accuracy: 0.8849\n",
            "Epoch 34/1000\n",
            "760/760 [==============================] - 2s 3ms/step - loss: 0.0033 - accuracy: 0.8751 - val_loss: 0.0029 - val_accuracy: 0.8962\n",
            "Epoch 35/1000\n",
            "760/760 [==============================] - 2s 3ms/step - loss: 0.0033 - accuracy: 0.8779 - val_loss: 0.0027 - val_accuracy: 0.9034\n",
            "Epoch 36/1000\n",
            "760/760 [==============================] - 2s 3ms/step - loss: 0.0033 - accuracy: 0.8793 - val_loss: 0.0027 - val_accuracy: 0.9130\n",
            "Epoch 37/1000\n",
            "760/760 [==============================] - 2s 3ms/step - loss: 0.0033 - accuracy: 0.8774 - val_loss: 0.0028 - val_accuracy: 0.9100\n",
            "Epoch 38/1000\n",
            "760/760 [==============================] - 2s 3ms/step - loss: 0.0033 - accuracy: 0.8778 - val_loss: 0.0028 - val_accuracy: 0.8611\n",
            "Epoch 39/1000\n",
            "760/760 [==============================] - 2s 3ms/step - loss: 0.0033 - accuracy: 0.8725 - val_loss: 0.0034 - val_accuracy: 0.8653\n",
            "Epoch 40/1000\n",
            "760/760 [==============================] - 2s 3ms/step - loss: 0.0033 - accuracy: 0.8770 - val_loss: 0.0030 - val_accuracy: 0.8868\n",
            "Epoch 41/1000\n",
            "760/760 [==============================] - 2s 3ms/step - loss: 0.0033 - accuracy: 0.8799 - val_loss: 0.0030 - val_accuracy: 0.9091\n",
            "Epoch 42/1000\n",
            "760/760 [==============================] - 2s 3ms/step - loss: 0.0033 - accuracy: 0.8746 - val_loss: 0.0028 - val_accuracy: 0.8538\n",
            "Epoch 43/1000\n",
            "760/760 [==============================] - 2s 3ms/step - loss: 0.0032 - accuracy: 0.8743 - val_loss: 0.0028 - val_accuracy: 0.8670\n",
            "Epoch 44/1000\n",
            "760/760 [==============================] - 2s 3ms/step - loss: 0.0032 - accuracy: 0.8812 - val_loss: 0.0029 - val_accuracy: 0.8909\n",
            "Epoch 45/1000\n",
            "760/760 [==============================] - 2s 3ms/step - loss: 0.0032 - accuracy: 0.8781 - val_loss: 0.0026 - val_accuracy: 0.9040\n",
            "Epoch 46/1000\n",
            "751/760 [============================>.] - ETA: 0s - loss: 0.0032 - accuracy: 0.8748Restoring model weights from the end of the best epoch: 31.\n",
            "760/760 [==============================] - 2s 3ms/step - loss: 0.0032 - accuracy: 0.8749 - val_loss: 0.0032 - val_accuracy: 0.9047\n",
            "Epoch 00046: early stopping\n"
          ]
        },
        {
          "output_type": "display_data",
          "data": {
            "image/png": "[encoded data removed]",
            "text/plain": [
              "<Figure size 576x360 with 1 Axes>"
            ]
          },
          "metadata": {
            "needs_background": "light"
          }
        },
        {
          "output_type": "stream",
          "name": "stdout",
          "text": [
            "32/32 [==============================] - 0s 2ms/step - loss: 0.0028 - accuracy: 0.9340\n",
            "Accuracy: 93.40\n"
          ]
        }
      ]
    },
    {
      "cell_type": "code",
      "metadata": {
        "colab": {
          "base_uri": "https://localhost:8080/"
        },
        "id": "Erh8dQdCmk-2",
        "outputId": "06b23ccb-dc65-4588-847e-f339e0610810"
      },
      "source": [
        "import keras as keras\n",
        "model1_15_1_4_bilinear = keras.models.load_model(\"/content/gdrive/MyDrive/Colab Notebooks/EE610_FINAL_PROJECT/Outputs/model4_15_1_4_bilinear.h5\")\n",
        "corrrected_image1 =reconstructImage_ANN('/content/gdrive/MyDrive/Colab Notebooks/EE610_FINAL_PROJECT/Inputs/228_low_quality_bilinear.png',model1_15_1_4_bilinear,15)\n",
        "cv2.imwrite('/content/gdrive/MyDrive/Colab Notebooks/EE610_FINAL_PROJECT/Outputs/228_low_quality_bilinear_model4_15_1_4_bilinear.png', corrrected_image1)"
      ],
      "execution_count": 10,
      "outputs": [
        {
          "output_type": "execute_result",
          "data": {
            "text/plain": [
              "True"
            ]
          },
          "metadata": {},
          "execution_count": 10
        }
      ]
    },
    {
      "cell_type": "code",
      "metadata": {
        "colab": {
          "base_uri": "https://localhost:8080/"
        },
        "id": "QMhvyUOYm4ki",
        "outputId": "432bdec9-3796-4965-c304-907d6be30232"
      },
      "source": [
        "noise_downsampled,  noise_reconstructed=calculateNoise('/content/gdrive/MyDrive/Colab Notebooks/EE610_FINAL_PROJECT/Inputs/228.png','/content/gdrive/MyDrive/Colab Notebooks/EE610_FINAL_PROJECT/Inputs/228_low_quality_bilinear.png','/content/gdrive/MyDrive/Colab Notebooks/EE610_FINAL_PROJECT/Outputs/228_low_quality_bilinear_model1_15_1_4_bilinear.png')\n",
        "print(\"Noise in Downsampled and Upsampled Image :\",noise_downsampled)\n",
        "print(\"Noise in reconstructed Image :\",noise_reconstructed)"
      ],
      "execution_count": 9,
      "outputs": [
        {
          "output_type": "stream",
          "name": "stdout",
          "text": [
            "Noise in Downsampled and Upsampled Image : 7.053998730675352\n",
            "Noise in reconstructed Image : 7.418223644726053\n"
          ]
        }
      ]
    },
    {
      "cell_type": "code",
      "metadata": {
        "id": "bqfcCBe3oToD"
      },
      "source": [
        ""
      ],
      "execution_count": null,
      "outputs": []
    },
    {
      "cell_type": "markdown",
      "metadata": {
        "id": "xBge7IKkSEph"
      },
      "source": [
        "### Model-2 (Layer 2, Patch Size : 7)Definition CNN"
      ]
    },
    {
      "cell_type": "markdown",
      "metadata": {
        "id": "3d9zqELySLCk"
      },
      "source": [
        "### CNN Details\n",
        "Input : (7\\*7\\*3) <br>\n",
        "First layer : 256 filters, (7\\*7)<br>\n",
        "Max pooling layer<br>\n",
        "Second layer : 256 fliters(5\\*5)<br>\n",
        "Max pooling<br>\n",
        "Fully connected layer :64<br>\n",
        "FC layer : 16<br>\n",
        "FC layer :3<br>"
      ]
    },
    {
      "cell_type": "code",
      "metadata": {
        "id": "ZBDmhOsHSIre"
      },
      "source": [
        "# import numpy as np\n",
        "import keras.models as models\n",
        "import keras.layers as layers\n",
        "from keras.models import Sequential\n",
        "from keras.layers import Dense\n",
        "import pandas as pd\n",
        "from keras.callbacks import EarlyStopping\n",
        "import numpy as np\n",
        "from matplotlib import pyplot as plt\n",
        "\n",
        "def createModel_2(noisyPatches_train1,centralPixel_train1,noisyPatches_val1,centralPixel_val1,noisyPatches_test1,centralPixel_test1,PatchSize,model_name):\n",
        "    print(\"Traiing and Validation sets size :\",noisyPatches_train1.shape,centralPixel_train1.shape,noisyPatches_val1.shape,centralPixel_val1.shape)\n",
        "    \n",
        "    if(PatchSize!=7):\n",
        "      print(\"Expected Patch size is 7: Error condition\")\n",
        "      return\n",
        "\n",
        "    row =noisyPatches_train1.shape[0] #507\n",
        "    coloumn =noisyPatches_train1.shape[1]# 16250\n",
        "    noisyPatches_train_1 = np.swapaxes(noisyPatches_train1,0,1)\n",
        "    noisyPatches_train_1 = noisyPatches_train_1.reshape((coloumn,PatchSize,PatchSize,3))\n",
        "\n",
        "    row =noisyPatches_val1.shape[0] #507\n",
        "    coloumn =noisyPatches_val1.shape[1]# 16250\n",
        "    noisyPatches_val_1 = np.swapaxes(noisyPatches_val1,0,1)\n",
        "    noisyPatches_val_1 = noisyPatches_val_1.reshape((coloumn,PatchSize,PatchSize,3))\n",
        "\n",
        "    row =noisyPatches_test1.shape[0] #507\n",
        "    coloumn =noisyPatches_test1.shape[1]# 16250\n",
        "    noisyPatches_test_1 = np.swapaxes(noisyPatches_test1,0,1)\n",
        "    noisyPatches_test_1 = noisyPatches_test_1.reshape((coloumn,PatchSize,PatchSize,3))\n",
        "\n",
        "\n",
        "    es = EarlyStopping(monitor='val_loss', mode='min',min_delta=0.0001, verbose=1,patience=15,restore_best_weights=True)\n",
        "    model = models.Sequential()\n",
        "    model.add(layers.Conv2D(256, (7, 7), activation='relu',padding='same', input_shape=(7, 7, 3)))\n",
        "    model.add(layers.MaxPooling2D((2, 2)))\n",
        "    model.add(layers.Conv2D(256, (5, 5), activation='relu',padding='same'))\n",
        "    model.add(layers.MaxPooling2D((2, 2)))\n",
        "    model.add(layers.Flatten())\n",
        "    model.add(layers.Dense(64, activation='relu'))\n",
        "    model.add(layers.Dense(10))\n",
        "    model.add(layers.Dense(3, activation='sigmoid'))\n",
        "    model.summary()\n",
        "    model.compile(loss='mse', optimizer='adam', metrics=['accuracy'])\n",
        "    history = model.fit(noisyPatches_train_1, centralPixel_train1.T, epochs=1000,callbacks=[es],validation_data=(noisyPatches_val_1, centralPixel_val1.T))\n",
        "\n",
        "    pd.DataFrame(history.history).plot(figsize=(8, 5))\n",
        "    plt.grid(True)\n",
        "    plt.gca().set_ylim(0, 1) # set the vertical range to [0-1]\n",
        "    plt.show()\n",
        "\n",
        "    _, accuracy =model.evaluate(noisyPatches_test_1, centralPixel_test1.T)\n",
        "    print('Accuracy: %.2f' % (accuracy*100))\n",
        "    model.save(model_name) # Saving model information for later usage\n",
        "    #reconstructed_model = keras.models.load_model(\"my_model\")\n",
        "    return model\n",
        "\n"
      ],
      "execution_count": null,
      "outputs": []
    },
    {
      "cell_type": "code",
      "metadata": {
        "colab": {
          "base_uri": "https://localhost:8080/",
          "height": 1000
        },
        "id": "HwFoo0g7SaMb",
        "outputId": "7e380146-7092-407e-a887-d7a9d2f51d63"
      },
      "source": [
        "\n",
        "import numpy as np\n",
        "noisyPatches_train_1 = np.load('/content/gdrive/MyDrive/Colab Notebooks/EE610_FINAL_PROJECT/Outputs/noisyPatches_train_bilinear_1_4.npy')\n",
        "centralPixel_train_1 = np.load('/content/gdrive/MyDrive/Colab Notebooks/EE610_FINAL_PROJECT/Outputs/centralPixel_train_bilinear_1_4.npy')\n",
        "noisyPatches_val_1 = np.load('/content/gdrive/MyDrive/Colab Notebooks/EE610_FINAL_PROJECT/Outputs/noisyPatches_val_bilinear_1_4.npy')\n",
        "centralPixel_val_1 = np.load('/content/gdrive/MyDrive/Colab Notebooks/EE610_FINAL_PROJECT/Outputs/centralPixel_val_bilinear_1_4.npy')\n",
        "noisyPatches_test_1 = np.load('/content/gdrive/MyDrive/Colab Notebooks/EE610_FINAL_PROJECT/Outputs/noisyPatches_test_bilinear_1_4.npy')\n",
        "centralPixel_test_1 = np.load('/content/gdrive/MyDrive/Colab Notebooks/EE610_FINAL_PROJECT/Outputs/centralPixel_test_bilinear_1_4.npy')\n",
        "\n",
        "noisyPatches_train_sub = subPatchVectors(noisyPatches_train_1,7)\n",
        "noisyPatches_val_sub = subPatchVectors(noisyPatches_val_1,7)\n",
        "noisyPatches_test_sub = subPatchVectors(noisyPatches_test_1,7)\n",
        "\n",
        "model2_7_1_4_bilinear = createModel_2(noisyPatches_train_sub,centralPixel_train_1,noisyPatches_val_sub,centralPixel_val_1,noisyPatches_test_sub,centralPixel_test_1,7,\"/content/gdrive/MyDrive/Colab Notebooks/EE610_FINAL_PROJECT/Outputs/model2_7_1_4_bilinear.h5\")"
      ],
      "execution_count": null,
      "outputs": [
        {
          "output_type": "stream",
          "name": "stdout",
          "text": [
            "Traiing and Validation sets size : (147, 24300) (3, 24300) (147, 4700) (3, 4700)\n",
            "Model: \"sequential\"\n",
            "_________________________________________________________________\n",
            " Layer (type)                Output Shape              Param #   \n",
            "=================================================================\n",
            " conv2d (Conv2D)             (None, 7, 7, 256)         37888     \n",
            "                                                                 \n",
            " max_pooling2d (MaxPooling2D  (None, 3, 3, 256)        0         \n",
            " )                                                               \n",
            "                                                                 \n",
            " conv2d_1 (Conv2D)           (None, 3, 3, 256)         1638656   \n",
            "                                                                 \n",
            " max_pooling2d_1 (MaxPooling  (None, 1, 1, 256)        0         \n",
            " 2D)                                                             \n",
            "                                                                 \n",
            " flatten (Flatten)           (None, 256)               0         \n",
            "                                                                 \n",
            " dense (Dense)               (None, 64)                16448     \n",
            "                                                                 \n",
            " dense_1 (Dense)             (None, 10)                650       \n",
            "                                                                 \n",
            " dense_2 (Dense)             (None, 3)                 33        \n",
            "                                                                 \n",
            "=================================================================\n",
            "Total params: 1,693,675\n",
            "Trainable params: 1,693,675\n",
            "Non-trainable params: 0\n",
            "_________________________________________________________________\n",
            "Epoch 1/1000\n",
            "760/760 [==============================] - 20s 5ms/step - loss: 0.0073 - accuracy: 0.8410 - val_loss: 0.0032 - val_accuracy: 0.9115\n",
            "Epoch 2/1000\n",
            "760/760 [==============================] - 4s 5ms/step - loss: 0.0042 - accuracy: 0.8702 - val_loss: 0.0033 - val_accuracy: 0.8949\n",
            "Epoch 3/1000\n",
            "760/760 [==============================] - 4s 5ms/step - loss: 0.0038 - accuracy: 0.8816 - val_loss: 0.0035 - val_accuracy: 0.8809\n",
            "Epoch 4/1000\n",
            "760/760 [==============================] - 4s 5ms/step - loss: 0.0038 - accuracy: 0.8720 - val_loss: 0.0031 - val_accuracy: 0.8911\n",
            "Epoch 5/1000\n",
            "760/760 [==============================] - 4s 5ms/step - loss: 0.0037 - accuracy: 0.8689 - val_loss: 0.0045 - val_accuracy: 0.8747\n",
            "Epoch 6/1000\n",
            "760/760 [==============================] - 4s 6ms/step - loss: 0.0036 - accuracy: 0.8753 - val_loss: 0.0031 - val_accuracy: 0.9045\n",
            "Epoch 7/1000\n",
            "760/760 [==============================] - 4s 5ms/step - loss: 0.0036 - accuracy: 0.8762 - val_loss: 0.0031 - val_accuracy: 0.8962\n",
            "Epoch 8/1000\n",
            "760/760 [==============================] - 4s 6ms/step - loss: 0.0035 - accuracy: 0.8738 - val_loss: 0.0029 - val_accuracy: 0.8583\n",
            "Epoch 9/1000\n",
            "760/760 [==============================] - 4s 6ms/step - loss: 0.0034 - accuracy: 0.8787 - val_loss: 0.0029 - val_accuracy: 0.8570\n",
            "Epoch 10/1000\n",
            "760/760 [==============================] - 4s 6ms/step - loss: 0.0035 - accuracy: 0.8764 - val_loss: 0.0030 - val_accuracy: 0.8606\n",
            "Epoch 11/1000\n",
            "760/760 [==============================] - 4s 5ms/step - loss: 0.0034 - accuracy: 0.8793 - val_loss: 0.0031 - val_accuracy: 0.8387\n",
            "Epoch 12/1000\n",
            "760/760 [==============================] - 4s 6ms/step - loss: 0.0034 - accuracy: 0.8789 - val_loss: 0.0031 - val_accuracy: 0.8919\n",
            "Epoch 13/1000\n",
            "760/760 [==============================] - 4s 5ms/step - loss: 0.0033 - accuracy: 0.8852 - val_loss: 0.0028 - val_accuracy: 0.9143\n",
            "Epoch 14/1000\n",
            "760/760 [==============================] - 4s 6ms/step - loss: 0.0033 - accuracy: 0.8781 - val_loss: 0.0029 - val_accuracy: 0.8915\n",
            "Epoch 15/1000\n",
            "760/760 [==============================] - 4s 6ms/step - loss: 0.0033 - accuracy: 0.8849 - val_loss: 0.0028 - val_accuracy: 0.8743\n",
            "Epoch 16/1000\n",
            "760/760 [==============================] - 4s 5ms/step - loss: 0.0033 - accuracy: 0.8864 - val_loss: 0.0029 - val_accuracy: 0.9168\n",
            "Epoch 17/1000\n",
            "760/760 [==============================] - 4s 5ms/step - loss: 0.0032 - accuracy: 0.8863 - val_loss: 0.0027 - val_accuracy: 0.8849\n",
            "Epoch 18/1000\n",
            "760/760 [==============================] - 4s 6ms/step - loss: 0.0032 - accuracy: 0.8860 - val_loss: 0.0027 - val_accuracy: 0.8836\n",
            "Epoch 19/1000\n",
            "760/760 [==============================] - 4s 5ms/step - loss: 0.0032 - accuracy: 0.8898 - val_loss: 0.0028 - val_accuracy: 0.8755\n",
            "Epoch 20/1000\n",
            "760/760 [==============================] - 4s 5ms/step - loss: 0.0032 - accuracy: 0.8874 - val_loss: 0.0029 - val_accuracy: 0.9013\n",
            "Epoch 21/1000\n",
            "760/760 [==============================] - 4s 5ms/step - loss: 0.0032 - accuracy: 0.8882 - val_loss: 0.0030 - val_accuracy: 0.8732\n",
            "Epoch 22/1000\n",
            "760/760 [==============================] - 4s 5ms/step - loss: 0.0031 - accuracy: 0.8928 - val_loss: 0.0028 - val_accuracy: 0.9009\n",
            "Epoch 23/1000\n",
            "760/760 [==============================] - 4s 6ms/step - loss: 0.0031 - accuracy: 0.8864 - val_loss: 0.0031 - val_accuracy: 0.9049\n",
            "Epoch 24/1000\n",
            "760/760 [==============================] - 4s 6ms/step - loss: 0.0032 - accuracy: 0.8913 - val_loss: 0.0027 - val_accuracy: 0.9213\n",
            "Epoch 25/1000\n",
            "760/760 [==============================] - 4s 5ms/step - loss: 0.0031 - accuracy: 0.8898 - val_loss: 0.0028 - val_accuracy: 0.9111\n",
            "Epoch 26/1000\n",
            "760/760 [==============================] - 4s 6ms/step - loss: 0.0031 - accuracy: 0.8892 - val_loss: 0.0028 - val_accuracy: 0.9170\n",
            "Epoch 27/1000\n",
            "760/760 [==============================] - 4s 6ms/step - loss: 0.0031 - accuracy: 0.8893 - val_loss: 0.0027 - val_accuracy: 0.8696\n",
            "Epoch 28/1000\n",
            "760/760 [==============================] - 4s 6ms/step - loss: 0.0031 - accuracy: 0.8914 - val_loss: 0.0027 - val_accuracy: 0.8898\n",
            "Epoch 29/1000\n",
            "760/760 [==============================] - 4s 5ms/step - loss: 0.0030 - accuracy: 0.8906 - val_loss: 0.0027 - val_accuracy: 0.9021\n",
            "Epoch 30/1000\n",
            "760/760 [==============================] - 4s 6ms/step - loss: 0.0030 - accuracy: 0.8916 - val_loss: 0.0028 - val_accuracy: 0.9194\n",
            "Epoch 31/1000\n",
            "760/760 [==============================] - 4s 6ms/step - loss: 0.0030 - accuracy: 0.8903 - val_loss: 0.0027 - val_accuracy: 0.9081\n",
            "Epoch 32/1000\n",
            "760/760 [==============================] - 4s 5ms/step - loss: 0.0030 - accuracy: 0.8889 - val_loss: 0.0027 - val_accuracy: 0.8896\n",
            "Epoch 33/1000\n",
            "760/760 [==============================] - ETA: 0s - loss: 0.0030 - accuracy: 0.8930Restoring model weights from the end of the best epoch: 18.\n",
            "760/760 [==============================] - 4s 6ms/step - loss: 0.0030 - accuracy: 0.8930 - val_loss: 0.0027 - val_accuracy: 0.8811\n",
            "Epoch 00033: early stopping\n"
          ]
        },
        {
          "output_type": "display_data",
          "data": {
            "image/png": "[encoded data removed]",
            "text/plain": [
              "<Figure size 576x360 with 1 Axes>"
            ]
          },
          "metadata": {
            "needs_background": "light"
          }
        },
        {
          "output_type": "stream",
          "name": "stdout",
          "text": [
            "32/32 [==============================] - 0s 3ms/step - loss: 0.0027 - accuracy: 0.9640\n",
            "Accuracy: 96.40\n"
          ]
        }
      ]
    },
    {
      "cell_type": "code",
      "metadata": {
        "colab": {
          "base_uri": "https://localhost:8080/"
        },
        "id": "zCHoJAlGV7IZ",
        "outputId": "f58e06e9-f1e8-4167-adab-15c59dee4ae6"
      },
      "source": [
        "corrrected_image1 =reconstructImage_CNN('/content/gdrive/MyDrive/Colab Notebooks/EE610_FINAL_PROJECT/Inputs/butterfly_low_quality_bilinear.png',model2_7_1_4_bilinear,7)\n",
        "cv2.imwrite('/content/gdrive/MyDrive/Colab Notebooks/EE610_FINAL_PROJECT/Outputs/butterfly_low_quality_bilinear_model2_7_1_4_bilinear.png', corrrected_image1)"
      ],
      "execution_count": null,
      "outputs": [
        {
          "output_type": "stream",
          "name": "stdout",
          "text": [
            "(437184, 7, 7, 3)\n",
            "(437184, 3)\n"
          ]
        },
        {
          "output_type": "execute_result",
          "data": {
            "text/plain": [
              "True"
            ]
          },
          "metadata": {},
          "execution_count": 50
        }
      ]
    },
    {
      "cell_type": "code",
      "metadata": {
        "colab": {
          "base_uri": "https://localhost:8080/"
        },
        "id": "r9BqhEi3W-74",
        "outputId": "6535cf9d-a13d-4465-eb22-1674bd1c6389"
      },
      "source": [
        "noise_downsampled,  noise_reconstructed=calculateNoise('/content/gdrive/MyDrive/Colab Notebooks/EE610_FINAL_PROJECT/Inputs/butterfly.jpg','/content/gdrive/MyDrive/Colab Notebooks/EE610_FINAL_PROJECT/Inputs/butterfly_low_quality_bilinear.png','/content/gdrive/MyDrive/Colab Notebooks/EE610_FINAL_PROJECT/Outputs/butterfly_low_quality_bilinear_model2_7_1_4_bilinear.png')\n",
        "print(\"Noise in Downsampled and Upsampled Image :\",noise_downsampled)\n",
        "print(\"Noise in reconstructed Image :\",noise_reconstructed)"
      ],
      "execution_count": null,
      "outputs": [
        {
          "output_type": "stream",
          "name": "stdout",
          "text": [
            "Noise in Downsampled and Upsampled Image : 3.103158065897555\n",
            "Noise in reconstructed Image : 5.244477353340917\n"
          ]
        }
      ]
    },
    {
      "cell_type": "code",
      "metadata": {
        "colab": {
          "base_uri": "https://localhost:8080/"
        },
        "id": "CRz80pDtXr-0",
        "outputId": "62f0c9f3-ed32-4f08-d1c0-659a5126ac41"
      },
      "source": [
        "corrrected_image1 =reconstructImage_CNN('/content/gdrive/MyDrive/Colab Notebooks/EE610_FINAL_PROJECT/Inputs/228_low_quality_bilinear.png',model2_7_1_4_bilinear,7)\n",
        "cv2.imwrite('/content/gdrive/MyDrive/Colab Notebooks/EE610_FINAL_PROJECT/Outputs/228_low_quality_bilinear_model2_7_1_4_bilinear.png', corrrected_image1)\n",
        "noise_downsampled,  noise_reconstructed=calculateNoise('/content/gdrive/MyDrive/Colab Notebooks/EE610_FINAL_PROJECT/Inputs/228.png','/content/gdrive/MyDrive/Colab Notebooks/EE610_FINAL_PROJECT/Inputs/228_low_quality_bilinear.png','/content/gdrive/MyDrive/Colab Notebooks/EE610_FINAL_PROJECT/Outputs/228_low_quality_bilinear_model2_7_1_4_bilinear.png')\n",
        "print(\"Noise in Downsampled and Upsampled Image :\",noise_downsampled)\n",
        "print(\"Noise in reconstructed Image :\",noise_reconstructed)"
      ],
      "execution_count": null,
      "outputs": [
        {
          "output_type": "stream",
          "name": "stdout",
          "text": [
            "(106240, 7, 7, 3)\n",
            "(106240, 3)\n",
            "Noise in Downsampled and Upsampled Image : 7.053998730675352\n",
            "Noise in reconstructed Image : 7.658158161116988\n"
          ]
        }
      ]
    },
    {
      "cell_type": "code",
      "metadata": {
        "id": "-ftV3Ndypyaj"
      },
      "source": [
        "# import numpy as np\n",
        "import keras.models as models\n",
        "import keras.layers as layers\n",
        "from keras.models import Sequential\n",
        "from keras.layers import Dense\n",
        "import pandas as pd\n",
        "from keras.callbacks import EarlyStopping\n",
        "import numpy as np\n",
        "from matplotlib import pyplot as plt\n",
        "\n",
        "def createModel_5(noisyPatches_train1,centralPixel_train1,noisyPatches_val1,centralPixel_val1,noisyPatches_test1,centralPixel_test1,PatchSize,model_name):\n",
        "    print(\"Traiing and Validation sets size :\",noisyPatches_train1.shape,centralPixel_train1.shape,noisyPatches_val1.shape,centralPixel_val1.shape)\n",
        "    \n",
        "    if(PatchSize!=7):\n",
        "      print(\"Expected Patch size is 7: Error condition\")\n",
        "      return\n",
        "\n",
        "    row =noisyPatches_train1.shape[0] #507\n",
        "    coloumn =noisyPatches_train1.shape[1]# 16250\n",
        "    noisyPatches_train_1 = np.swapaxes(noisyPatches_train1,0,1)\n",
        "    noisyPatches_train_1 = noisyPatches_train_1.reshape((coloumn,PatchSize,PatchSize,3))\n",
        "\n",
        "    row =noisyPatches_val1.shape[0] #507\n",
        "    coloumn =noisyPatches_val1.shape[1]# 16250\n",
        "    noisyPatches_val_1 = np.swapaxes(noisyPatches_val1,0,1)\n",
        "    noisyPatches_val_1 = noisyPatches_val_1.reshape((coloumn,PatchSize,PatchSize,3))\n",
        "\n",
        "    row =noisyPatches_test1.shape[0] #507\n",
        "    coloumn =noisyPatches_test1.shape[1]# 16250\n",
        "    noisyPatches_test_1 = np.swapaxes(noisyPatches_test1,0,1)\n",
        "    noisyPatches_test_1 = noisyPatches_test_1.reshape((coloumn,PatchSize,PatchSize,3))\n",
        "\n",
        "\n",
        "    es = EarlyStopping(monitor='val_loss', mode='min',min_delta=0.0001, verbose=1,patience=15,restore_best_weights=True)\n",
        "    model = models.Sequential()\n",
        "    model.add(layers.Conv2D(256, (7, 7), activation='relu',padding='same', input_shape=(7, 7, 3)))\n",
        "    model.add(layers.MaxPooling2D((2, 2)))\n",
        "    model.add(layers.Conv2D(256, (5, 5), activation='relu',padding='same'))\n",
        "    model.add(layers.MaxPooling2D((2, 2)))\n",
        "    model.add(layers.Conv2D(256, (3, 3), activation='relu',padding='same'))\n",
        "    model.add(layers.Flatten())\n",
        "    model.add(layers.Dense(64, activation='relu'))\n",
        "    model.add(layers.Dense(10))\n",
        "    model.add(layers.Dense(3, activation='sigmoid'))\n",
        "    model.summary()\n",
        "    model.compile(loss='mse', optimizer='adam', metrics=['accuracy'])\n",
        "    history = model.fit(noisyPatches_train_1, centralPixel_train1.T, epochs=1000,callbacks=[es],validation_data=(noisyPatches_val_1, centralPixel_val1.T))\n",
        "\n",
        "    pd.DataFrame(history.history).plot(figsize=(8, 5))\n",
        "    plt.grid(True)\n",
        "    plt.gca().set_ylim(0, 1) # set the vertical range to [0-1]\n",
        "    plt.show()\n",
        "\n",
        "    _, accuracy =model.evaluate(noisyPatches_test_1, centralPixel_test1.T)\n",
        "    print('Accuracy: %.2f' % (accuracy*100))\n",
        "    model.save(model_name) # Saving model information for later usage\n",
        "    #reconstructed_model = keras.models.load_model(\"my_model\")\n",
        "    return model\n",
        "\n"
      ],
      "execution_count": 16,
      "outputs": []
    },
    {
      "cell_type": "code",
      "metadata": {
        "colab": {
          "base_uri": "https://localhost:8080/",
          "height": 1000
        },
        "id": "rawvF8RAqSI0",
        "outputId": "e6a36d38-5603-4f0e-e05a-edec984e8b1f"
      },
      "source": [
        "\n",
        "import numpy as np\n",
        "noisyPatches_train_1 = np.load('/content/gdrive/MyDrive/Colab Notebooks/EE610_FINAL_PROJECT/Outputs/noisyPatches_train_bilinear_1_4.npy')\n",
        "centralPixel_train_1 = np.load('/content/gdrive/MyDrive/Colab Notebooks/EE610_FINAL_PROJECT/Outputs/centralPixel_train_bilinear_1_4.npy')\n",
        "noisyPatches_val_1 = np.load('/content/gdrive/MyDrive/Colab Notebooks/EE610_FINAL_PROJECT/Outputs/noisyPatches_val_bilinear_1_4.npy')\n",
        "centralPixel_val_1 = np.load('/content/gdrive/MyDrive/Colab Notebooks/EE610_FINAL_PROJECT/Outputs/centralPixel_val_bilinear_1_4.npy')\n",
        "noisyPatches_test_1 = np.load('/content/gdrive/MyDrive/Colab Notebooks/EE610_FINAL_PROJECT/Outputs/noisyPatches_test_bilinear_1_4.npy')\n",
        "centralPixel_test_1 = np.load('/content/gdrive/MyDrive/Colab Notebooks/EE610_FINAL_PROJECT/Outputs/centralPixel_test_bilinear_1_4.npy')\n",
        "\n",
        "noisyPatches_train_sub = subPatchVectors(noisyPatches_train_1,7)\n",
        "noisyPatches_val_sub = subPatchVectors(noisyPatches_val_1,7)\n",
        "noisyPatches_test_sub = subPatchVectors(noisyPatches_test_1,7)\n",
        "\n",
        "model5_7_1_4_bilinear = createModel_5(noisyPatches_train_sub,centralPixel_train_1,noisyPatches_val_sub,centralPixel_val_1,noisyPatches_test_sub,centralPixel_test_1,7,\"/content/gdrive/MyDrive/Colab Notebooks/EE610_FINAL_PROJECT/Outputs/model5_7_1_4_bilinear.h5\")"
      ],
      "execution_count": 17,
      "outputs": [
        {
          "output_type": "stream",
          "name": "stdout",
          "text": [
            "Traiing and Validation sets size : (147, 24300) (3, 24300) (147, 4700) (3, 4700)\n",
            "Model: \"sequential_1\"\n",
            "_________________________________________________________________\n",
            " Layer (type)                Output Shape              Param #   \n",
            "=================================================================\n",
            " conv2d_3 (Conv2D)           (None, 7, 7, 256)         37888     \n",
            "                                                                 \n",
            " max_pooling2d_3 (MaxPooling  (None, 3, 3, 256)        0         \n",
            " 2D)                                                             \n",
            "                                                                 \n",
            " conv2d_4 (Conv2D)           (None, 3, 3, 256)         1638656   \n",
            "                                                                 \n",
            " max_pooling2d_4 (MaxPooling  (None, 1, 1, 256)        0         \n",
            " 2D)                                                             \n",
            "                                                                 \n",
            " conv2d_5 (Conv2D)           (None, 1, 1, 256)         590080    \n",
            "                                                                 \n",
            " flatten (Flatten)           (None, 256)               0         \n",
            "                                                                 \n",
            " dense (Dense)               (None, 64)                16448     \n",
            "                                                                 \n",
            " dense_1 (Dense)             (None, 10)                650       \n",
            "                                                                 \n",
            " dense_2 (Dense)             (None, 3)                 33        \n",
            "                                                                 \n",
            "=================================================================\n",
            "Total params: 2,283,755\n",
            "Trainable params: 2,283,755\n",
            "Non-trainable params: 0\n",
            "_________________________________________________________________\n",
            "Epoch 1/1000\n",
            "760/760 [==============================] - 11s 6ms/step - loss: 0.0079 - accuracy: 0.8037 - val_loss: 0.0038 - val_accuracy: 0.8649\n",
            "Epoch 2/1000\n",
            "760/760 [==============================] - 4s 5ms/step - loss: 0.0041 - accuracy: 0.8559 - val_loss: 0.0033 - val_accuracy: 0.8891\n",
            "Epoch 3/1000\n",
            "760/760 [==============================] - 4s 5ms/step - loss: 0.0040 - accuracy: 0.8694 - val_loss: 0.0035 - val_accuracy: 0.8796\n",
            "Epoch 4/1000\n",
            "760/760 [==============================] - 4s 5ms/step - loss: 0.0039 - accuracy: 0.8607 - val_loss: 0.0032 - val_accuracy: 0.8377\n",
            "Epoch 5/1000\n",
            "760/760 [==============================] - 4s 5ms/step - loss: 0.0036 - accuracy: 0.8716 - val_loss: 0.0032 - val_accuracy: 0.8557\n",
            "Epoch 6/1000\n",
            "760/760 [==============================] - 4s 5ms/step - loss: 0.0036 - accuracy: 0.8668 - val_loss: 0.0032 - val_accuracy: 0.8496\n",
            "Epoch 7/1000\n",
            "760/760 [==============================] - 4s 5ms/step - loss: 0.0035 - accuracy: 0.8655 - val_loss: 0.0030 - val_accuracy: 0.8830\n",
            "Epoch 8/1000\n",
            "760/760 [==============================] - 4s 5ms/step - loss: 0.0036 - accuracy: 0.8646 - val_loss: 0.0031 - val_accuracy: 0.8734\n",
            "Epoch 9/1000\n",
            "760/760 [==============================] - 4s 5ms/step - loss: 0.0036 - accuracy: 0.8634 - val_loss: 0.0034 - val_accuracy: 0.8611\n",
            "Epoch 10/1000\n",
            "760/760 [==============================] - 4s 5ms/step - loss: 0.0035 - accuracy: 0.8695 - val_loss: 0.0033 - val_accuracy: 0.9077\n",
            "Epoch 11/1000\n",
            "760/760 [==============================] - 4s 5ms/step - loss: 0.0035 - accuracy: 0.8754 - val_loss: 0.0029 - val_accuracy: 0.8768\n",
            "Epoch 12/1000\n",
            "760/760 [==============================] - 4s 5ms/step - loss: 0.0034 - accuracy: 0.8682 - val_loss: 0.0030 - val_accuracy: 0.8117\n",
            "Epoch 13/1000\n",
            "760/760 [==============================] - 4s 5ms/step - loss: 0.0033 - accuracy: 0.8730 - val_loss: 0.0031 - val_accuracy: 0.8504\n",
            "Epoch 14/1000\n",
            "760/760 [==============================] - 4s 5ms/step - loss: 0.0034 - accuracy: 0.8730 - val_loss: 0.0028 - val_accuracy: 0.8521\n",
            "Epoch 15/1000\n",
            "760/760 [==============================] - 4s 5ms/step - loss: 0.0033 - accuracy: 0.8755 - val_loss: 0.0027 - val_accuracy: 0.8694\n",
            "Epoch 16/1000\n",
            "760/760 [==============================] - 4s 5ms/step - loss: 0.0033 - accuracy: 0.8790 - val_loss: 0.0028 - val_accuracy: 0.8823\n",
            "Epoch 17/1000\n",
            "760/760 [==============================] - 4s 5ms/step - loss: 0.0033 - accuracy: 0.8798 - val_loss: 0.0028 - val_accuracy: 0.9083\n",
            "Epoch 18/1000\n",
            "760/760 [==============================] - 4s 5ms/step - loss: 0.0033 - accuracy: 0.8803 - val_loss: 0.0028 - val_accuracy: 0.8732\n",
            "Epoch 19/1000\n",
            "760/760 [==============================] - 4s 5ms/step - loss: 0.0032 - accuracy: 0.8783 - val_loss: 0.0028 - val_accuracy: 0.9064\n",
            "Epoch 20/1000\n",
            "760/760 [==============================] - 4s 6ms/step - loss: 0.0032 - accuracy: 0.8832 - val_loss: 0.0027 - val_accuracy: 0.8923\n",
            "Epoch 21/1000\n",
            "760/760 [==============================] - 4s 5ms/step - loss: 0.0032 - accuracy: 0.8791 - val_loss: 0.0028 - val_accuracy: 0.8719\n",
            "Epoch 22/1000\n",
            "760/760 [==============================] - 4s 5ms/step - loss: 0.0032 - accuracy: 0.8831 - val_loss: 0.0027 - val_accuracy: 0.8911\n",
            "Epoch 23/1000\n",
            "760/760 [==============================] - 4s 5ms/step - loss: 0.0032 - accuracy: 0.8794 - val_loss: 0.0028 - val_accuracy: 0.9062\n",
            "Epoch 24/1000\n",
            "760/760 [==============================] - 4s 5ms/step - loss: 0.0031 - accuracy: 0.8881 - val_loss: 0.0028 - val_accuracy: 0.9183\n",
            "Epoch 25/1000\n",
            "760/760 [==============================] - 4s 6ms/step - loss: 0.0032 - accuracy: 0.8839 - val_loss: 0.0029 - val_accuracy: 0.9170\n",
            "Epoch 26/1000\n",
            "760/760 [==============================] - 4s 6ms/step - loss: 0.0031 - accuracy: 0.8863 - val_loss: 0.0033 - val_accuracy: 0.9085\n",
            "Epoch 27/1000\n",
            "760/760 [==============================] - 4s 6ms/step - loss: 0.0031 - accuracy: 0.8895 - val_loss: 0.0030 - val_accuracy: 0.8840\n",
            "Epoch 28/1000\n",
            "760/760 [==============================] - 4s 6ms/step - loss: 0.0031 - accuracy: 0.8899 - val_loss: 0.0027 - val_accuracy: 0.9226\n",
            "Epoch 29/1000\n",
            "760/760 [==============================] - 4s 5ms/step - loss: 0.0031 - accuracy: 0.8884 - val_loss: 0.0031 - val_accuracy: 0.9043\n",
            "Epoch 30/1000\n",
            "753/760 [============================>.] - ETA: 0s - loss: 0.0031 - accuracy: 0.8823Restoring model weights from the end of the best epoch: 15.\n",
            "760/760 [==============================] - 4s 5ms/step - loss: 0.0031 - accuracy: 0.8821 - val_loss: 0.0029 - val_accuracy: 0.8770\n",
            "Epoch 00030: early stopping\n"
          ]
        },
        {
          "output_type": "display_data",
          "data": {
            "image/png": "[encoded data removed]",
            "text/plain": [
              "<Figure size 576x360 with 1 Axes>"
            ]
          },
          "metadata": {
            "needs_background": "light"
          }
        },
        {
          "output_type": "stream",
          "name": "stdout",
          "text": [
            "32/32 [==============================] - 0s 3ms/step - loss: 0.0027 - accuracy: 0.9310\n",
            "Accuracy: 93.10\n"
          ]
        }
      ]
    },
    {
      "cell_type": "code",
      "metadata": {
        "colab": {
          "base_uri": "https://localhost:8080/"
        },
        "id": "aAd66UYhtEDU",
        "outputId": "fc287267-80cd-4c19-df75-12e84b554422"
      },
      "source": [
        "corrrected_image1 =reconstructImage_CNN('/content/gdrive/MyDrive/Colab Notebooks/EE610_FINAL_PROJECT/Inputs/228_low_quality_bilinear.png',model5_7_1_4_bilinear,7)\n",
        "cv2.imwrite('/content/gdrive/MyDrive/Colab Notebooks/EE610_FINAL_PROJECT/Outputs/228_low_quality_bilinear_model5_7_1_4_bilinear.png', corrrected_image1)"
      ],
      "execution_count": 20,
      "outputs": [
        {
          "output_type": "stream",
          "name": "stdout",
          "text": [
            "(106240, 7, 7, 3)\n",
            "(106240, 3)\n"
          ]
        },
        {
          "output_type": "execute_result",
          "data": {
            "text/plain": [
              "True"
            ]
          },
          "metadata": {},
          "execution_count": 20
        }
      ]
    },
    {
      "cell_type": "code",
      "metadata": {
        "colab": {
          "base_uri": "https://localhost:8080/"
        },
        "id": "1AZ7UmCPtUCJ",
        "outputId": "011e5af6-6d5a-4b25-ac2b-137cd6b35c57"
      },
      "source": [
        "noise_downsampled,  noise_reconstructed=calculateNoise('/content/gdrive/MyDrive/Colab Notebooks/EE610_FINAL_PROJECT/Inputs/228.png','/content/gdrive/MyDrive/Colab Notebooks/EE610_FINAL_PROJECT/Inputs/228_low_quality_bilinear.png','/content/gdrive/MyDrive/Colab Notebooks/EE610_FINAL_PROJECT/Outputs/228_low_quality_bilinear_model7_7_1_4_bilinear.png')\n",
        "print(\"Noise in Downsampled and Upsampled Image :\",noise_downsampled)\n",
        "print(\"Noise in reconstructed Image :\",noise_reconstructed)"
      ],
      "execution_count": 21,
      "outputs": [
        {
          "output_type": "stream",
          "name": "stdout",
          "text": [
            "Noise in Downsampled and Upsampled Image : 7.053998730675352\n",
            "Noise in reconstructed Image : 7.366538224747542\n"
          ]
        }
      ]
    },
    {
      "cell_type": "code",
      "metadata": {
        "id": "Z8cy8hwAWzht"
      },
      "source": [
        "def extract_patches(full_imgs, crop_size, stride_size):\n",
        "    patch_height = crop_size\n",
        "    patch_width = crop_size\n",
        "    stride_height = stride_size\n",
        "    stride_width = stride_size\n",
        "\n",
        "    assert (len(full_imgs.shape) == 4)  # 4D arrays\n",
        "    img_h = full_imgs.shape[1]  # height of the full image\n",
        "    img_w = full_imgs.shape[2]  # width of the full image\n",
        "\n",
        "    assert ((img_h - patch_height) % stride_height == 0 and (img_w - patch_width) % stride_width == 0)\n",
        "    N_patches_img = ((img_h - patch_height) // stride_height + 1) * (\n",
        "            (img_w - patch_width) // stride_width + 1)  # // --> division between integers\n",
        "    N_patches_tot = N_patches_img * full_imgs.shape[0]\n",
        "\n",
        "    patches = np.empty((N_patches_tot, patch_height, patch_width, full_imgs.shape[3]))\n",
        "    iter_tot = 0  # iter over the total number of patches (N_patches)\n",
        "    for i in range(full_imgs.shape[0]):  # loop over the full images\n",
        "        for h in range((img_h - patch_height) // stride_height + 1):\n",
        "            for w in range((img_w - patch_width) // stride_width + 1):\n",
        "                patch = full_imgs[i, h * stride_height:(h * stride_height) + patch_height,\n",
        "                        w * stride_width:(w * stride_width) + patch_width, :]\n",
        "                patches[iter_tot] = patch\n",
        "                iter_tot += 1  # total\n",
        "    assert (iter_tot == N_patches_tot)\n",
        "    return patches"
      ],
      "execution_count": null,
      "outputs": []
    },
    {
      "cell_type": "code",
      "metadata": {
        "id": "ufRvAqAfW9xc"
      },
      "source": [
        "# import numpy as np\n",
        "import keras.models as models\n",
        "import keras.layers as layers\n",
        "from keras.models import Sequential\n",
        "from keras.layers import Dense\n",
        "import pandas as pd\n",
        "from keras.callbacks import EarlyStopping\n",
        "import numpy as np\n",
        "from matplotlib import pyplot as plt\n",
        "\n",
        "def createModel_SRCNN(noisyPatches_train1,centralPixel_train1,noisyPatches_val1,centralPixel_val1,noisyPatches_test1,centralPixel_test1,PatchSize,model_name):\n",
        "    print(\"Traiing and Validation sets size :\",noisyPatches_train1.shape,centralPixel_train1.shape,noisyPatches_val1.shape,centralPixel_val1.shape)\n",
        "    \n",
        "    if(PatchSize!=7):\n",
        "      print(\"Expected Patch size is 7: Error condition\")\n",
        "      return\n",
        "    row =noisyPatches_train1.shape[0] #507\n",
        "    coloumn =noisyPatches_train1.shape[1]# 16250\n",
        "    noisyPatches_train_1 = np.swapaxes(noisyPatches_train1,0,1)\n",
        "    noisyPatches_train_1 = noisyPatches_train_1.reshape((coloumn,PatchSize,PatchSize,3))\n",
        "\n",
        "    row =noisyPatches_val1.shape[0] #507\n",
        "    coloumn =noisyPatches_val1.shape[1]# 16250\n",
        "    noisyPatches_val_1 = np.swapaxes(noisyPatches_val1,0,1)\n",
        "    noisyPatches_val_1 = noisyPatches_val_1.reshape((coloumn,PatchSize,PatchSize,3))\n",
        "\n",
        "    row =centralPixel_train1.shape[0] #507\n",
        "    coloumn =centralPixel_train1.shape[1]# 16250\n",
        "    centralPixel_train_1 = np.swapaxes(centralPixel_train1,0,1)\n",
        "    centralPixel_train_1 = centralPixel_train_1.reshape((coloumn,PatchSize,PatchSize,3))\n",
        "\n",
        "    row =centralPixel_val1.shape[0] #507\n",
        "    coloumn =centralPixel_val1.shape[1]# 16250\n",
        "    centralPixel_val_1 = np.swapaxes(centralPixel_val1,0,1)\n",
        "    centralPixel_val_1 = centralPixel_val_1.reshape((coloumn,PatchSize,PatchSize,3))\n",
        "\n",
        "    \n",
        "    es = EarlyStopping(monitor='val_loss', mode='min',min_delta=0.0001, verbose=1,patience=15,restore_best_weights=True)\n",
        "    model = Sequential()\n",
        "    model.add(layers.Conv2D(64,9,padding='same',input_shape=(7,7,3),activation='relu'))\n",
        "    model.add(layers.Conv2D(32,1,padding='same',activation='relu'))\n",
        "    model.add(layers.Conv2D(3,5,padding='same'))\n",
        "    model.summary()\n",
        "    model.compile(loss='mse', optimizer='adam', metrics=['accuracy'])\n",
        "    print(\"Traiing and Validation sets size :\",noisyPatches_train1.shape,centralPixel_train1.shape,noisyPatches_val1.shape,centralPixel_val1.shape)\n",
        "    history = model.fit(noisyPatches_train_1, centralPixel_train_1, epochs=1000,callbacks=[es],validation_data=(noisyPatches_val_1, centralPixel_val_1))\n",
        "\n",
        "    pd.DataFrame(history.history).plot(figsize=(8, 5))\n",
        "    plt.grid(True)\n",
        "    plt.gca().set_ylim(0, 1) # set the vertical range to [0-1]\n",
        "    plt.show()\n",
        "\n",
        "   # _, accuracy =model.evaluate(noisyPatches_test_1, centralPixel_test1.T)\n",
        "   # print('Accuracy: %.2f' % (accuracy*100))\n",
        "    return model\n",
        "\n"
      ],
      "execution_count": null,
      "outputs": []
    },
    {
      "cell_type": "code",
      "metadata": {
        "colab": {
          "base_uri": "https://localhost:8080/",
          "height": 1000
        },
        "id": "-oRQaHzKXMcv",
        "outputId": "0ce32290-7562-419d-997a-1039d2693b93"
      },
      "source": [
        "\n",
        "import numpy as np\n",
        "noisyPatches_train_1 = np.load('/content/gdrive/MyDrive/Colab Notebooks/EE610_FINAL_PROJECT/Outputs/noisyPatches_train_bilinear_1_4_SRCNN.npy')\n",
        "centralPixel_train_1 = np.load('/content/gdrive/MyDrive/Colab Notebooks/EE610_FINAL_PROJECT/Outputs/centralPixel_train_bilinear_1_4_SRCNN.npy')\n",
        "noisyPatches_val_1 = np.load('/content/gdrive/MyDrive/Colab Notebooks/EE610_FINAL_PROJECT/Outputs/noisyPatches_val_bilinear_1_4_SRCNN.npy')\n",
        "centralPixel_val_1 = np.load('/content/gdrive/MyDrive/Colab Notebooks/EE610_FINAL_PROJECT/Outputs/centralPixel_val_bilinear_1_4_SRCNN.npy')\n",
        "noisyPatches_test_1 = np.load('/content/gdrive/MyDrive/Colab Notebooks/EE610_FINAL_PROJECT/Outputs/noisyPatches_test_bilinear_1_4_SRCNN.npy')\n",
        "centralPixel_test_1 = np.load('/content/gdrive/MyDrive/Colab Notebooks/EE610_FINAL_PROJECT/Outputs/centralPixel_test_bilinear_1_4_SRCNN.npy')\n",
        "\n",
        "noisyPatches_train_sub = subPatchVectors(noisyPatches_train_1,7)\n",
        "noisyPatches_val_sub = subPatchVectors(noisyPatches_val_1,7)\n",
        "noisyPatches_test_sub = subPatchVectors(noisyPatches_test_1,7)\n",
        "\n",
        "CentralPatches_train_sub = subPatchVectors(centralPixel_train_1,7)\n",
        "CentralPatches_val_sub = subPatchVectors(centralPixel_val_1,7)\n",
        "CentralPatches_test_sub = subPatchVectors(centralPixel_test_1,7)\n",
        "\n",
        "print(noisyPatches_train_sub.shape,CentralPatches_train_sub.shape)\n",
        "\n",
        "model_SRCNN = createModel_SRCNN(noisyPatches_train_sub,CentralPatches_train_sub,noisyPatches_val_sub,CentralPatches_val_sub,noisyPatches_test_sub,CentralPatches_test_sub,7,\"/content/gdrive/MyDrive/Colab Notebooks/EE610_FINAL_PROJECT/Outputs/model_SRCNN.h5\")\n"
      ],
      "execution_count": null,
      "outputs": [
        {
          "output_type": "stream",
          "name": "stdout",
          "text": [
            "(147, 24300) (147, 24300)\n",
            "Traiing and Validation sets size : (147, 24300) (147, 24300) (147, 4700) (147, 4700)\n",
            "Model: \"sequential\"\n",
            "_________________________________________________________________\n",
            " Layer (type)                Output Shape              Param #   \n",
            "=================================================================\n",
            " conv2d (Conv2D)             (None, 7, 7, 64)          15616     \n",
            "                                                                 \n",
            " conv2d_1 (Conv2D)           (None, 7, 7, 32)          2080      \n",
            "                                                                 \n",
            " conv2d_2 (Conv2D)           (None, 7, 7, 3)           2403      \n",
            "                                                                 \n",
            "=================================================================\n",
            "Total params: 20,099\n",
            "Trainable params: 20,099\n",
            "Non-trainable params: 0\n",
            "_________________________________________________________________\n",
            "Traiing and Validation sets size : (147, 24300) (147, 24300) (147, 4700) (147, 4700)\n",
            "Epoch 1/1000\n",
            "760/760 [==============================] - 19s 4ms/step - loss: 0.0069 - accuracy: 0.8023 - val_loss: 0.0049 - val_accuracy: 0.8546\n",
            "Epoch 2/1000\n",
            "760/760 [==============================] - 3s 4ms/step - loss: 0.0039 - accuracy: 0.8711 - val_loss: 0.0033 - val_accuracy: 0.8669\n",
            "Epoch 3/1000\n",
            "760/760 [==============================] - 3s 4ms/step - loss: 0.0037 - accuracy: 0.8760 - val_loss: 0.0031 - val_accuracy: 0.8928\n",
            "Epoch 4/1000\n",
            "760/760 [==============================] - 3s 4ms/step - loss: 0.0036 - accuracy: 0.8802 - val_loss: 0.0036 - val_accuracy: 0.8864\n",
            "Epoch 5/1000\n",
            "760/760 [==============================] - 3s 4ms/step - loss: 0.0036 - accuracy: 0.8812 - val_loss: 0.0030 - val_accuracy: 0.8830\n",
            "Epoch 6/1000\n",
            "760/760 [==============================] - 3s 4ms/step - loss: 0.0035 - accuracy: 0.8838 - val_loss: 0.0030 - val_accuracy: 0.8987\n",
            "Epoch 7/1000\n",
            "760/760 [==============================] - 3s 4ms/step - loss: 0.0035 - accuracy: 0.8806 - val_loss: 0.0030 - val_accuracy: 0.8905\n",
            "Epoch 8/1000\n",
            "760/760 [==============================] - 3s 4ms/step - loss: 0.0035 - accuracy: 0.8844 - val_loss: 0.0030 - val_accuracy: 0.8866\n",
            "Epoch 9/1000\n",
            "760/760 [==============================] - 3s 4ms/step - loss: 0.0035 - accuracy: 0.8849 - val_loss: 0.0030 - val_accuracy: 0.8830\n",
            "Epoch 10/1000\n",
            "760/760 [==============================] - 3s 4ms/step - loss: 0.0035 - accuracy: 0.8855 - val_loss: 0.0029 - val_accuracy: 0.8980\n",
            "Epoch 11/1000\n",
            "760/760 [==============================] - 3s 4ms/step - loss: 0.0034 - accuracy: 0.8862 - val_loss: 0.0028 - val_accuracy: 0.8907\n",
            "Epoch 12/1000\n",
            "760/760 [==============================] - 3s 4ms/step - loss: 0.0035 - accuracy: 0.8808 - val_loss: 0.0030 - val_accuracy: 0.9082\n",
            "Epoch 13/1000\n",
            "760/760 [==============================] - 3s 4ms/step - loss: 0.0034 - accuracy: 0.8866 - val_loss: 0.0029 - val_accuracy: 0.8896\n",
            "Epoch 14/1000\n",
            "760/760 [==============================] - 3s 4ms/step - loss: 0.0034 - accuracy: 0.8872 - val_loss: 0.0028 - val_accuracy: 0.8886\n",
            "Epoch 15/1000\n",
            "760/760 [==============================] - 3s 4ms/step - loss: 0.0034 - accuracy: 0.8832 - val_loss: 0.0028 - val_accuracy: 0.9092\n",
            "Epoch 16/1000\n",
            "760/760 [==============================] - 3s 4ms/step - loss: 0.0034 - accuracy: 0.8886 - val_loss: 0.0029 - val_accuracy: 0.8880\n",
            "Epoch 17/1000\n",
            "760/760 [==============================] - 3s 4ms/step - loss: 0.0034 - accuracy: 0.8909 - val_loss: 0.0028 - val_accuracy: 0.9123\n",
            "Epoch 18/1000\n",
            "760/760 [==============================] - 3s 4ms/step - loss: 0.0034 - accuracy: 0.8860 - val_loss: 0.0030 - val_accuracy: 0.8910\n",
            "Epoch 19/1000\n",
            "760/760 [==============================] - 3s 4ms/step - loss: 0.0034 - accuracy: 0.8878 - val_loss: 0.0028 - val_accuracy: 0.8919\n",
            "Epoch 20/1000\n",
            "760/760 [==============================] - 3s 4ms/step - loss: 0.0034 - accuracy: 0.8941 - val_loss: 0.0029 - val_accuracy: 0.8921\n",
            "Epoch 21/1000\n",
            "760/760 [==============================] - 3s 4ms/step - loss: 0.0034 - accuracy: 0.8913 - val_loss: 0.0029 - val_accuracy: 0.8824\n",
            "Epoch 22/1000\n",
            "760/760 [==============================] - 3s 4ms/step - loss: 0.0034 - accuracy: 0.8914 - val_loss: 0.0028 - val_accuracy: 0.9108\n",
            "Epoch 23/1000\n",
            "760/760 [==============================] - 3s 4ms/step - loss: 0.0034 - accuracy: 0.8951 - val_loss: 0.0028 - val_accuracy: 0.8835\n",
            "Epoch 24/1000\n",
            "760/760 [==============================] - 3s 4ms/step - loss: 0.0034 - accuracy: 0.8908 - val_loss: 0.0028 - val_accuracy: 0.9001\n",
            "Epoch 25/1000\n",
            "745/760 [============================>.] - ETA: 0s - loss: 0.0034 - accuracy: 0.8901Restoring model weights from the end of the best epoch: 10.\n",
            "760/760 [==============================] - 3s 4ms/step - loss: 0.0034 - accuracy: 0.8902 - val_loss: 0.0029 - val_accuracy: 0.8995\n",
            "Epoch 00025: early stopping\n"
          ]
        },
        {
          "output_type": "display_data",
          "data": {
            "image/png": "[encoded data removed]",
            "text/plain": [
              "<Figure size 576x360 with 1 Axes>"
            ]
          },
          "metadata": {
            "needs_background": "light"
          }
        }
      ]
    },
    {
      "cell_type": "code",
      "metadata": {
        "id": "3lq2137Ne7Jj"
      },
      "source": [
        "global W\n",
        "import cv2\n",
        "\n",
        "global model\n",
        "from sklearn.datasets import load_sample_image\n",
        "from sklearn.feature_extraction import image\n",
        "\n",
        "def reconstructImage_SRCNN(filepath,model_,sub_patch):\n",
        "    img = cv2.imread(filepath)\n",
        "    #print(img.shape)\n",
        "    #rgb_img = cv2.cvtColor(img, cv2.COLOR_BGR2RGB)\n",
        "\n",
        "    img = img.astype(np.float64)\n",
        "    img = img/255.0\n",
        "\n",
        "    border = int(sub_patch/2)\n",
        "    output_image = np.zeros((img.shape[0],img.shape[1],img.shape[2]),dtype=np.int8)\n",
        "    #temp_image = cv2.copyMakeBorder(img, border, border, border, border, cv2.BORDER_REFLECT)\n",
        "    for r in range(0,img.shape[0] - sub_patch, sub_patch):\n",
        "        for c in range(0,img.shape[1] - sub_patch, sub_patch):\n",
        "            window = img[r:r+sub_patch,c:c+sub_patch,:]\n",
        "            window = window.reshape(1,7,7,3)\n",
        "            predicted_value =model_.predict(window)\n",
        "            predicted_value = predicted_value*254.0;\n",
        "            predicted_value = predicted_value.astype(np.uint8)\n",
        "            output_image[r:r+sub_patch,c:c+sub_patch] = predicted_value\n",
        "    #rgb_img = cv2.cvtColor(output_image, cv2.COLOR_RGB2BGR)\n",
        "    return output_image"
      ],
      "execution_count": null,
      "outputs": []
    },
    {
      "cell_type": "code",
      "metadata": {
        "colab": {
          "base_uri": "https://localhost:8080/"
        },
        "id": "kQm_J28VexLh",
        "outputId": "1ee1fe7f-ede0-4f96-f969-010446b27803"
      },
      "source": [
        "corrrected_image1 =reconstructImage_SRCNN('/content/gdrive/MyDrive/Colab Notebooks/EE610_FINAL_PROJECT/Inputs/228_low_quality_bilinear.png',model_SRCNN,7)\n",
        "cv2.imwrite('/content/gdrive/MyDrive/Colab Notebooks/EE610_FINAL_PROJECT/Outputs/228_low_quality_bilinear_model_SRCNN_.png', corrrected_image1)"
      ],
      "execution_count": null,
      "outputs": [
        {
          "output_type": "execute_result",
          "data": {
            "text/plain": [
              "True"
            ]
          },
          "metadata": {},
          "execution_count": 11
        }
      ]
    },
    {
      "cell_type": "code",
      "metadata": {
        "colab": {
          "base_uri": "https://localhost:8080/"
        },
        "id": "VprfiB3kHR_Z",
        "outputId": "a3a6a9c9-f5f6-415d-dc5f-e2f01203810c"
      },
      "source": [
        "noise_downsampled,  noise_reconstructed=calculateNoise('/content/gdrive/MyDrive/Colab Notebooks/EE610_FINAL_PROJECT/Inputs/228.png','/content/gdrive/MyDrive/Colab Notebooks/EE610_FINAL_PROJECT/Inputs/228_low_quality_bilinear.png','/content/gdrive/MyDrive/Colab Notebooks/EE610_FINAL_PROJECT/Outputs/228_low_quality_bilinear_model_SRCNN_.png')\n",
        "print(\"Noise in Downsampled and Upsampled Image :\",noise_downsampled)\n",
        "print(\"Noise in reconstructed Image :\",noise_reconstructed)"
      ],
      "execution_count": null,
      "outputs": [
        {
          "output_type": "stream",
          "name": "stdout",
          "text": [
            "Noise in Downsampled and Upsampled Image : 7.053998730675352\n",
            "Noise in reconstructed Image : 6.417314436218096\n"
          ]
        }
      ]
    },
    {
      "cell_type": "code",
      "metadata": {
        "id": "SqNLwXtnK8x4"
      },
      "source": [
        "import matplotlib.image as mpimg\n",
        "def rgbtoGrayScale(imagepath,savepath):\n",
        "  img = cv2.imread(imagepath)\n",
        "  temp =imagepath.split(\"/\")\n",
        "  file_output_path=savepath+\"/\"+temp[len(temp)-1].split(\".\")[0]+\"gray.png\"\n",
        "  lum_img = img[:,:,0]\n",
        "  cv2.imwrite(file_output_path,lum_img)\n",
        "\n",
        "rgbtoGrayScale('/content/gdrive/MyDrive/Colab Notebooks/EE610_FINAL_PROJECT/Inputs/228_low_quality_bilinear.png','/content/gdrive/MyDrive/Colab Notebooks/EE610_FINAL_PROJECT/Inputs')\n"
      ],
      "execution_count": null,
      "outputs": []
    },
    {
      "cell_type": "code",
      "metadata": {
        "id": "WqfSI5UVNEdF"
      },
      "source": [
        "\n",
        "original_path = '/content/gdrive/MyDrive/Colab Notebooks/EE610_FINAL_PROJECT/DIV2KDATASET_US_1_4_BILINEAR/Test'\n",
        "imageNames_original = []\n",
        "os.scandir(original_path)\n",
        "\n",
        "for i in os.scandir(original_path):\n",
        "  if(str(i.path).find(\"Thumbs\") ==-1): # To eliminate Thumbs.db from list\n",
        "      imageNames_original.append(i.path)\n",
        "\n",
        "for i in range(len(imageNames_original)):\n",
        "  rgbtoGrayScale(imageNames_original[i],'/content/gdrive/MyDrive/Colab Notebooks/EE610_FINAL_PROJECT/DIV2KDATASET_US_1_4_BILINEAR_GRAY/Test')\n",
        "\n",
        "original_path = '/content/gdrive/MyDrive/Colab Notebooks/EE610_FINAL_PROJECT/DIV2KDATASET_US_1_4_BILINEAR/Train'\n",
        "imageNames_original = []\n",
        "os.scandir(original_path)\n",
        "\n",
        "for i in os.scandir(original_path):\n",
        "  if(str(i.path).find(\"Thumbs\") ==-1): # To eliminate Thumbs.db from list\n",
        "      imageNames_original.append(i.path)\n",
        "\n",
        "for i in range(len(imageNames_original)):\n",
        "  rgbtoGrayScale(imageNames_original[i],'/content/gdrive/MyDrive/Colab Notebooks/EE610_FINAL_PROJECT/DIV2KDATASET_US_1_4_BILINEAR_GRAY/Train')\n",
        "\n",
        "original_path = '/content/gdrive/MyDrive/Colab Notebooks/EE610_FINAL_PROJECT/DIV2KDATASET_US_1_4_BILINEAR/Validation'\n",
        "imageNames_original = []\n",
        "os.scandir(original_path)\n",
        "\n",
        "for i in os.scandir(original_path):\n",
        "  if(str(i.path).find(\"Thumbs\") ==-1): # To eliminate Thumbs.db from list\n",
        "      imageNames_original.append(i.path)\n",
        "\n",
        "for i in range(len(imageNames_original)):\n",
        "  rgbtoGrayScale(imageNames_original[i],'/content/gdrive/MyDrive/Colab Notebooks/EE610_FINAL_PROJECT/DIV2KDATASET_US_1_4_BILINEAR_GRAY/Validation')"
      ],
      "execution_count": null,
      "outputs": []
    },
    {
      "cell_type": "code",
      "metadata": {
        "id": "80BwsqiFqjQI"
      },
      "source": [
        "\n",
        "original_path = '/content/gdrive/MyDrive/Colab Notebooks/EE610_FINAL_PROJECT/DIV2KDATASET_HR/Test'\n",
        "imageNames_original = []\n",
        "os.scandir(original_path)\n",
        "\n",
        "for i in os.scandir(original_path):\n",
        "  if(str(i.path).find(\"Thumbs\") ==-1): # To eliminate Thumbs.db from list\n",
        "      imageNames_original.append(i.path)\n",
        "\n",
        "for i in range(len(imageNames_original)):\n",
        "  rgbtoGrayScale(imageNames_original[i],'/content/gdrive/MyDrive/Colab Notebooks/EE610_FINAL_PROJECT/DIV2KDATASET_HR_Gray/Test')\n",
        "\n",
        "original_path = '/content/gdrive/MyDrive/Colab Notebooks/EE610_FINAL_PROJECT/DIV2KDATASET_HR/Train'\n",
        "imageNames_original = []\n",
        "os.scandir(original_path)\n",
        "\n",
        "for i in os.scandir(original_path):\n",
        "  if(str(i.path).find(\"Thumbs\") ==-1): # To eliminate Thumbs.db from list\n",
        "      imageNames_original.append(i.path)\n",
        "\n",
        "for i in range(len(imageNames_original)):\n",
        "  rgbtoGrayScale(imageNames_original[i],'/content/gdrive/MyDrive/Colab Notebooks/EE610_FINAL_PROJECT/DIV2KDATASET_HR_Gray/Train')\n",
        "\n",
        "original_path = '/content/gdrive/MyDrive/Colab Notebooks/EE610_FINAL_PROJECT/DIV2KDATASET_HR/Validation'\n",
        "imageNames_original = []\n",
        "os.scandir(original_path)\n",
        "\n",
        "for i in os.scandir(original_path):\n",
        "  if(str(i.path).find(\"Thumbs\") ==-1): # To eliminate Thumbs.db from list\n",
        "      imageNames_original.append(i.path)\n",
        "\n",
        "for i in range(len(imageNames_original)):\n",
        "  rgbtoGrayScale(imageNames_original[i],'/content/gdrive/MyDrive/Colab Notebooks/EE610_FINAL_PROJECT/DIV2KDATASET_HR_Gray/Validation')"
      ],
      "execution_count": null,
      "outputs": []
    },
    {
      "cell_type": "code",
      "metadata": {
        "id": "m8EfPkqQQVQk"
      },
      "source": [
        "original_path = '/content/gdrive/MyDrive/Colab Notebooks/EE610_FINAL_PROJECT/DIV2KDATASET_HR/Test'\n",
        "imageNames_original = []\n",
        "os.scandir(original_path)\n",
        "\n",
        "for i in os.scandir(original_path):\n",
        "  if(str(i.path).find(\"Thumbs\") ==-1): # To eliminate Thumbs.db from list\n",
        "      imageNames_original.append(i.path)\n",
        "\n",
        "for i in range(len(imageNames_original)):\n",
        "  rgbtoGrayScale(imageNames_original[i],'/content/gdrive/MyDrive/Colab Notebooks/EE610_FINAL_PROJECT/DIV2KDATASET_HR/Test_Gray')"
      ],
      "execution_count": null,
      "outputs": []
    },
    {
      "cell_type": "code",
      "metadata": {
        "colab": {
          "base_uri": "https://localhost:8080/"
        },
        "id": "doY-zpsCRM_W",
        "outputId": "374f5a51-5347-4c64-9f26-458e5b36ce71"
      },
      "source": [
        "import random\n",
        "import numpy as np\n",
        "import matplotlib.pyplot as plt\n",
        "\n",
        "import pywt\n",
        "import pywt.data\n",
        "W=500\n",
        "img = cv2.imread('/content/gdrive/MyDrive/Colab Notebooks/EE610_FINAL_PROJECT/DIV2KDATASET_HR/Test_Gray/0228gray.png')\n",
        "x = random.randint(0, (img.shape[0]//W)-1) # Random x location so that the patch,remains within image boundaries\n",
        "y = random.randint(0, (img.shape[1]//W)-1) # Random y location,remains within image boundaries\n",
        "temp_data = np.copy(img[(x*W):((x*W)+W),(y*W):((y*W)+W),:])\n",
        "cv2.imwrite('/content/gdrive/MyDrive/Colab Notebooks/EE610_FINAL_PROJECT/Outputs/tset.png',temp_data)\n",
        "\n",
        "\n",
        "\n",
        "\n",
        "# Load image\n",
        "original = temp_data[:,:,0]\n",
        "\n",
        "# Wavelet transform of image, and plot approximation and details\n",
        "titles = ['Approximation', ' Horizontal detail',\n",
        "          'Vertical detail', 'Diagonal detail']\n",
        "print(original.shape)\n",
        "coeffs2 = pywt.dwt2(original, 'haar')\n",
        "LL, (LH, HL, HH) = coeffs2\n",
        "print(LL.shape)\n",
        "\n",
        "reconstructed = pywt.idwt2(coeffs2, 'bior1.3')\n",
        "print(reconstructed.shape)\n",
        "cv2.imwrite('/content/gdrive/MyDrive/Colab Notebooks/EE610_FINAL_PROJECT/Outputs/tset2.png',reconstructed)\n"
      ],
      "execution_count": null,
      "outputs": [
        {
          "output_type": "stream",
          "name": "stdout",
          "text": [
            "(500, 500)\n",
            "(250, 250)\n",
            "(496, 496)\n"
          ]
        },
        {
          "output_type": "execute_result",
          "data": {
            "text/plain": [
              "True"
            ]
          },
          "metadata": {},
          "execution_count": 60
        }
      ]
    },
    {
      "cell_type": "code",
      "metadata": {
        "id": "zBSpYlGuTHIV"
      },
      "source": [
        "import random\n",
        "import numpy as np\n",
        "import matplotlib.pyplot as plt\n",
        "\n",
        "import pywt\n",
        "import pywt.data\n",
        "\n",
        "\n",
        "def createPatches_Gray(filepath,filepath_original,test_or_validation,patch_size): \n",
        "  global noisyPatches_train_LL\n",
        "  global centralPixel_train_LL\n",
        "  global noisyPatches_val_LL\n",
        "  global centralPixel_val_LL\n",
        "\n",
        "  global noisyPatches_train_LH\n",
        "  global centralPixel_train_LH\n",
        "  global noisyPatches_val_LH\n",
        "  global centralPixel_val_LH\n",
        "\n",
        "  global noisyPatches_train_HL\n",
        "  global centralPixel_train_HL\n",
        "  global noisyPatches_val_HL\n",
        "  global centralPixel_val_HL\n",
        "\n",
        "  global noisyPatches_train_HH\n",
        "  global centralPixel_train_HH\n",
        "  global noisyPatches_val_HH\n",
        "  global centralPixel_val_HH\n",
        "\n",
        "  img = cv2.imread(filepath)  \n",
        "  img_original = cv2.imread(filepath_original)  \n",
        "  if((img.shape[0]<300) or (img.shape[1]<300)):\n",
        "      return   \n",
        "  W=101\n",
        "  numPatches =patch_size # Extracting patches from image and normalizing\n",
        "  for i in range(numPatches): # For number of patches\n",
        "\n",
        "      x = random.randint(0, (img.shape[0]//W)-1) # Random x location so that the patch,remains within image boundaries\n",
        "      y = random.randint(0, (img.shape[1]//W)-1) # Random y location,remains within image boundaries\n",
        "      temp_data = np.copy(img[(x*W):((x*W)+W),(y*W):((y*W)+W),:])\n",
        "      temp_data_central = np.copy(img_original[(x*W):((x*W)+W),(y*W):((y*W)+W),:])\n",
        "\n",
        "      temp_data_ = temp_data[:,:,0]\n",
        "      temp_data_central_ =temp_data_central[:,:,0]\n",
        "      \n",
        "      coeffs2_data = pywt.dwt2(temp_data_, 'db1')\n",
        "      LL_data, (LH_data, HL_data, HH_data) = coeffs2_data\n",
        "\n",
        "      coeffs2_central = pywt.dwt2(temp_data_central_, 'db1')\n",
        "      LL_central, (LH_central, HL_central, HH_central) = coeffs2_central\n",
        "\n",
        "      Y = LL_central.shape[0]\n",
        "\n",
        "      #LL_data = LL_data/255.0\n",
        "      #LH_data = LH_data/255.0\n",
        "      #HL_data =HL_data/255.0\n",
        "      #HH_data = HH_data/255.0\n",
        "\n",
        "      #LL_central = LL_central/255.0\n",
        "      #LH_central = LH_central/255.0\n",
        "      #HL_central = HL_central/255.0\n",
        "      #HH_central = HH_central/255.0\n",
        "\n",
        "      LL_data =LL_central-LL_data\n",
        "      LH_data =LH_central-LH_data\n",
        "      HL_data =HL_central-HL_data\n",
        "      HH_data =HH_central-HH_data\n",
        "\n",
        "\n",
        "      LL_data = LL_data.reshape((Y*Y),1)\n",
        "      LH_data = LH_data.reshape((Y*Y),1)\n",
        "      HL_data = HL_data.reshape((Y*Y),1)\n",
        "      HH_data = HH_data.reshape((Y*Y),1)\n",
        "      LL_central = LL_central.reshape((Y*Y),1)\n",
        "      LH_central = LH_central.reshape((Y*Y),1)\n",
        "      HL_central = HL_central.reshape((Y*Y),1)\n",
        "      HH_central = HH_central.reshape((Y*Y),1)\n",
        "      \n",
        "      if(test_or_validation ==\"TRAIN\"): #Appending the noise patches to numpy array for later usage\n",
        "          noisyPatches_train_LL= np.append(noisyPatches_train_LL,LL_data,axis=1)\n",
        "          centralPixel_train_LL=np.append(centralPixel_train_LL,LL_central,axis=1)\n",
        "          noisyPatches_train_LH= np.append(noisyPatches_train_LH,LH_data,axis=1)\n",
        "          centralPixel_train_LH=np.append(centralPixel_train_LH,LH_central,axis=1)\n",
        "          noisyPatches_train_HL= np.append(noisyPatches_train_HL,HL_data,axis=1)\n",
        "          centralPixel_train_HL=np.append(centralPixel_train_HL,HL_central,axis=1)\n",
        "          noisyPatches_train_HH= np.append(noisyPatches_train_HH,HH_data,axis=1)\n",
        "          centralPixel_train_HH=np.append(centralPixel_train_HH,HH_central,axis=1)\n",
        "      elif(test_or_validation ==\"VALIDATE\"):\n",
        "          noisyPatches_val_LL= np.append(noisyPatches_val_LL,LL_data,axis=1)\n",
        "          centralPixel_val_LL=np.append(centralPixel_val_LL,LL_central,axis=1)\n",
        "          noisyPatches_val_LH= np.append(noisyPatches_val_LH,LH_data,axis=1)\n",
        "          centralPixel_val_LH=np.append(centralPixel_val_LH,LH_central,axis=1)\n",
        "          noisyPatches_val_HL= np.append(noisyPatches_val_HL,HL_data,axis=1)\n",
        "          centralPixel_val_HL=np.append(centralPixel_val_HL,HL_central,axis=1)\n",
        "          noisyPatches_val_HH= np.append(noisyPatches_val_HH,HH_data,axis=1)\n",
        "          centralPixel_val_HH=np.append(centralPixel_val_HH,HH_central,axis=1)\n",
        "      elif(test_or_validation ==\"TEST\"):\n",
        "          noisyPatches_test_LL= np.append(noisyPatches_test_LL,LL_data,axis=1)\n",
        "          centralPixel_test_LL=np.append(centralPixel_test_LL,LL_central,axis=1)\n",
        "          noisyPatches_test_LH= np.append(noisyPatches_test_LH,LH_data,axis=1)\n",
        "          centralPixel_test_LH=np.append(centralPixel_test_LH,LH_central,axis=1)\n",
        "          noisyPatches_test_HL= np.append(noisyPatches_test_HL,HL_data,axis=1)\n",
        "          centralPixel_test_HL=np.append(centralPixel_test_HL,HL_central,axis=1)\n",
        "          noisyPatches_test_HH= np.append(noisyPatches_test_HH,HH_data,axis=1)\n",
        "          centralPixel_test_HH=np.append(centralPixel_test_HH,HH_central,axis=1)\n"
      ],
      "execution_count": 17,
      "outputs": []
    },
    {
      "cell_type": "code",
      "metadata": {
        "colab": {
          "base_uri": "https://localhost:8080/"
        },
        "id": "DQ1aKk0Of-NK",
        "outputId": "14a19191-62f1-4b9c-c0e0-c0f1140a5614"
      },
      "source": [
        "global noisyPatches_train_LL\n",
        "global centralPixel_train_LL\n",
        "global noisyPatches_val_LL\n",
        "global centralPixel_val_LL\n",
        "\n",
        "global noisyPatches_train_LH\n",
        "global centralPixel_train_LH\n",
        "global noisyPatches_val_LH\n",
        "global centralPixel_val_LH\n",
        "\n",
        "global noisyPatches_train_HL\n",
        "global centralPixel_train_HL\n",
        "global noisyPatches_val_HL\n",
        "global centralPixel_val_HL\n",
        "\n",
        "global noisyPatches_train_HH\n",
        "global centralPixel_train_HH\n",
        "global noisyPatches_val_HH\n",
        "global centralPixel_val_HH    \n",
        "W=51\n",
        "noisyPatches_train_LL = np.zeros((W*W,0),dtype=np.float64)\n",
        "centralPixel_train_LL = np.zeros((W*W,0),dtype=np.float64)\n",
        "noisyPatches_val_LL = np.zeros((W*W,0),dtype=np.float64)\n",
        "centralPixel_val_LL = np.zeros((W*W,0),dtype=np.float64)\n",
        "noisyPatches_train_LH = np.zeros((W*W,0),dtype=np.float64)\n",
        "centralPixel_train_LH = np.zeros((W*W,0),dtype=np.float64)\n",
        "noisyPatches_val_LH = np.zeros((W*W,0),dtype=np.float64)\n",
        "centralPixel_val_LH = np.zeros((W*W,0),dtype=np.float64)\n",
        "noisyPatches_train_HL = np.zeros((W*W,0),dtype=np.float64)\n",
        "centralPixel_train_HL = np.zeros((W*W,0),dtype=np.float64)\n",
        "noisyPatches_val_HL = np.zeros((W*W,0),dtype=np.float64)\n",
        "centralPixel_val_HL = np.zeros((W*W,0),dtype=np.float64)\n",
        "noisyPatches_train_HH = np.zeros((W*W,0),dtype=np.float64)\n",
        "centralPixel_train_HH = np.zeros((W*W,0),dtype=np.float64)\n",
        "noisyPatches_val_HH = np.zeros((W*W,0),dtype=np.float64)\n",
        "centralPixel_val_HH = np.zeros((W*W,0),dtype=np.float64)\n",
        "\n",
        "\n",
        "train_path = '/content/gdrive/MyDrive/Colab Notebooks/EE610_FINAL_PROJECT/DIV2KDATASET_US_1_4_BILINEAR_GRAY/Train'\n",
        "val_path = '/content/gdrive/MyDrive/Colab Notebooks/EE610_FINAL_PROJECT/DIV2KDATASET_US_1_4_BILINEAR_GRAY/Validation'\n",
        "test_path = '/content/gdrive/MyDrive/Colab Notebooks/EE610_FINAL_PROJECT/DIV2KDATASET_US_1_4_BILINEAR_GRAY/Test'\n",
        "original_train_path = '/content/gdrive/MyDrive/Colab Notebooks/EE610_FINAL_PROJECT/DIV2KDATASET_HR_Gray/Train'\n",
        "original_test_path = '/content/gdrive/MyDrive/Colab Notebooks/EE610_FINAL_PROJECT/DIV2KDATASET_HR_Gray/Test'\n",
        "original_val_path = '/content/gdrive/MyDrive/Colab Notebooks/EE610_FINAL_PROJECT/DIV2KDATASET_HR_Gray/Validation'\n",
        "\n",
        "imageNames_train = []\n",
        "imageNames_val = []\n",
        "imageNames_test = []\n",
        "original_imageNames_train =[]\n",
        "original_imageNames_test =[]\n",
        "original_imageNames_val =[]\n",
        "\n",
        "os.scandir(train_path)\n",
        "\n",
        "for i in os.scandir(train_path):\n",
        "  if(str(i.path).find(\"Thumbs\") ==-1): # To eliminate Thumbs.db from list\n",
        "      imageNames_train.append(i.path)\n",
        "for i in os.scandir(val_path):\n",
        "  if(str(i.path).find(\"Thumbs\") ==-1): # To eliminate Thumbs.db from list\n",
        "      imageNames_val.append(i.path)\n",
        "for i in os.scandir(test_path):\n",
        "  if(str(i.path).find(\"Thumbs\") ==-1): # To eliminate Thumbs.db from list\n",
        "      imageNames_test.append(i.path)\n",
        "for i in os.scandir(original_train_path):\n",
        "  if(str(i.path).find(\"Thumbs\") ==-1): # To eliminate Thumbs.db from list\n",
        "      original_imageNames_train.append(i.path)\n",
        "for i in os.scandir(original_test_path):\n",
        "  if(str(i.path).find(\"Thumbs\") ==-1): # To eliminate Thumbs.db from list\n",
        "      original_imageNames_test.append(i.path)\n",
        "for i in os.scandir(original_val_path):\n",
        "  if(str(i.path).find(\"Thumbs\") ==-1): # To eliminate Thumbs.db from list\n",
        "      original_imageNames_val.append(i.path)\n",
        "        \n",
        "imageNames_train =sorted(imageNames_train)     \n",
        "original_imageNames_train =sorted(original_imageNames_train)  \n",
        "imageNames_test =sorted(imageNames_test)     \n",
        "original_imageNames_test =sorted(original_imageNames_test) \n",
        "imageNames_val =sorted(imageNames_val)     \n",
        "original_imageNames_val =sorted(original_imageNames_val)   \n",
        "        \n",
        "training_set_size =len(imageNames_train)\n",
        "print(\"The no of images in the Train directory is : \"+str(training_set_size))\n",
        "\n",
        "val_set_size =len(imageNames_val)\n",
        "print(\"The no of images in the Validation directory is : \"+str(val_set_size))\n",
        "\n",
        "test_set_size =len(imageNames_test)\n",
        "print(\"The no of images in the Test directory is : \"+str(test_set_size))"
      ],
      "execution_count": 18,
      "outputs": [
        {
          "output_type": "stream",
          "name": "stdout",
          "text": [
            "The no of images in the Train directory is : 243\n",
            "The no of images in the Validation directory is : 47\n",
            "The no of images in the Test directory is : 10\n"
          ]
        }
      ]
    },
    {
      "cell_type": "code",
      "metadata": {
        "colab": {
          "base_uri": "https://localhost:8080/"
        },
        "id": "3NKtTWTcqIAv",
        "outputId": "1e74a848-f829-4837-d187-8c4deac2fbbe"
      },
      "source": [
        "from matplotlib import pyplot as plt\n",
        "import cv2\n",
        "import numpy as np\n",
        "import random\n",
        "global noisyPatches_train_LL\n",
        "global centralPixel_train_LL\n",
        "global noisyPatches_val_LL\n",
        "global centralPixel_val_LL\n",
        "\n",
        "global noisyPatches_train_LH\n",
        "global centralPixel_train_LH\n",
        "global noisyPatches_val_LH\n",
        "global centralPixel_val_LH\n",
        "\n",
        "global noisyPatches_train_HL\n",
        "global centralPixel_train_HL\n",
        "global noisyPatches_val_HL\n",
        "global centralPixel_val_HL\n",
        "\n",
        "global noisyPatches_train_HH\n",
        "global centralPixel_train_HH\n",
        "global noisyPatches_val_HH\n",
        "global centralPixel_val_HH\n",
        "\n",
        "W=51\n",
        "noisyPatches_train_LL = np.zeros((W*W,0),dtype=np.float64)\n",
        "centralPixel_train_LL = np.zeros((W*W,0),dtype=np.float64)\n",
        "noisyPatches_val_LL = np.zeros((W*W,0),dtype=np.float64)\n",
        "centralPixel_val_LL = np.zeros((W*W,0),dtype=np.float64)\n",
        "noisyPatches_train_LH = np.zeros((W*W,0),dtype=np.float64)\n",
        "centralPixel_train_LH = np.zeros((W*W,0),dtype=np.float64)\n",
        "noisyPatches_val_LH = np.zeros((W*W,0),dtype=np.float64)\n",
        "centralPixel_val_LH = np.zeros((W*W,0),dtype=np.float64)\n",
        "noisyPatches_train_HL = np.zeros((W*W,0),dtype=np.float64)\n",
        "centralPixel_train_HL = np.zeros((W*W,0),dtype=np.float64)\n",
        "noisyPatches_val_HL = np.zeros((W*W,0),dtype=np.float64)\n",
        "centralPixel_val_HL = np.zeros((W*W,0),dtype=np.float64)\n",
        "noisyPatches_train_HH = np.zeros((W*W,0),dtype=np.float64)\n",
        "centralPixel_train_HH = np.zeros((W*W,0),dtype=np.float64)\n",
        "noisyPatches_val_HH = np.zeros((W*W,0),dtype=np.float64)\n",
        "centralPixel_val_HH = np.zeros((W*W,0),dtype=np.float64)\n",
        "\n",
        "for i in range(len(imageNames_train)):\n",
        "    createPatches_Gray(imageNames_train[i],original_imageNames_train[i],\"TRAIN\",20)\n",
        "for i in range(len(imageNames_val)):\n",
        "    createPatches_Gray(imageNames_val[i],original_imageNames_val[i],\"VALIDATE\",20)\n",
        "\n",
        "\n",
        "\n",
        "    \n",
        "np.save('/content/gdrive/MyDrive/Colab Notebooks/EE610_FINAL_PROJECT/Outputs/noisyPatches_train_LL', noisyPatches_train_LL)\n",
        "np.save('/content/gdrive/MyDrive/Colab Notebooks/EE610_FINAL_PROJECT/Outputs/centralPixel_train_LL', centralPixel_train_LL)\n",
        "np.save('/content/gdrive/MyDrive/Colab Notebooks/EE610_FINAL_PROJECT/Outputs/noisyPatches_val_LL', noisyPatches_val_LL)\n",
        "np.save('/content/gdrive/MyDrive/Colab Notebooks/EE610_FINAL_PROJECT/Outputs/centralPixel_val_LL', centralPixel_val_LL)\n",
        "\n",
        "np.save('/content/gdrive/MyDrive/Colab Notebooks/EE610_FINAL_PROJECT/Outputs/noisyPatches_train_LH', noisyPatches_train_LH)\n",
        "np.save('/content/gdrive/MyDrive/Colab Notebooks/EE610_FINAL_PROJECT/Outputs/centralPixel_train_LH', centralPixel_train_LH)\n",
        "np.save('/content/gdrive/MyDrive/Colab Notebooks/EE610_FINAL_PROJECT/Outputs/noisyPatches_val_LH', noisyPatches_val_LH)\n",
        "np.save('/content/gdrive/MyDrive/Colab Notebooks/EE610_FINAL_PROJECT/Outputs/centralPixel_val_LH', centralPixel_val_LH)\n",
        "\n",
        "np.save('/content/gdrive/MyDrive/Colab Notebooks/EE610_FINAL_PROJECT/Outputs/noisyPatches_train_HL', noisyPatches_train_HL)\n",
        "np.save('/content/gdrive/MyDrive/Colab Notebooks/EE610_FINAL_PROJECT/Outputs/centralPixel_train_HL', centralPixel_train_HL)\n",
        "np.save('/content/gdrive/MyDrive/Colab Notebooks/EE610_FINAL_PROJECT/Outputs/noisyPatches_val_HL', noisyPatches_val_HL)\n",
        "np.save('/content/gdrive/MyDrive/Colab Notebooks/EE610_FINAL_PROJECT/Outputs/centralPixel_val_HL', centralPixel_val_HL)\n",
        "\n",
        "np.save('/content/gdrive/MyDrive/Colab Notebooks/EE610_FINAL_PROJECT/Outputs/noisyPatches_train_HH', noisyPatches_train_HH)\n",
        "np.save('/content/gdrive/MyDrive/Colab Notebooks/EE610_FINAL_PROJECT/Outputs/centralPixel_train_HH', centralPixel_train_HH)\n",
        "np.save('/content/gdrive/MyDrive/Colab Notebooks/EE610_FINAL_PROJECT/Outputs/noisyPatches_val_HH', noisyPatches_val_HH)\n",
        "np.save('/content/gdrive/MyDrive/Colab Notebooks/EE610_FINAL_PROJECT/Outputs/centralPixel_val_HH', centralPixel_val_HH)\n",
        "\n",
        "\n",
        "\n",
        "print(\"Noise Patch (Train) shape : \",noisyPatches_train_LL.shape)\n",
        "print(\"Central Pixel (Train) shape : \",centralPixel_train_LL.shape)\n",
        "print(\"Noise Patch (Validation) shape : \",noisyPatches_val_LL.shape)\n",
        "print(\"Central Pixel (Validation)  shape : \",centralPixel_val_LL.shape)\n",
        "print(\"Noise Patch (Train) shape : \",noisyPatches_train_LH.shape)\n",
        "print(\"Central Pixel (Train) shape : \",centralPixel_train_LH.shape)\n",
        "print(\"Noise Patch (Validation) shape : \",noisyPatches_val_LH.shape)\n",
        "print(\"Central Pixel (Validation)  shape : \",centralPixel_val_LH.shape)\n",
        "print(\"Noise Patch (Train) shape : \",noisyPatches_train_HL.shape)\n",
        "print(\"Central Pixel (Train) shape : \",centralPixel_train_HL.shape)\n",
        "print(\"Noise Patch (Validation) shape : \",noisyPatches_val_HL.shape)\n",
        "print(\"Central Pixel (Validation)  shape : \",centralPixel_val_HL.shape)\n",
        "print(\"Noise Patch (Train) shape : \",noisyPatches_train_HH.shape)\n",
        "print(\"Central Pixel (Train) shape : \",centralPixel_train_HH.shape)\n",
        "print(\"Noise Patch (Validation) shape : \",noisyPatches_val_HH.shape)\n",
        "print(\"Central Pixel (Validation)  shape : \",centralPixel_val_HH.shape)\n"
      ],
      "execution_count": 19,
      "outputs": [
        {
          "output_type": "stream",
          "name": "stdout",
          "text": [
            "Noise Patch (Train) shape :  (2601, 4860)\n",
            "Central Pixel (Train) shape :  (2601, 4860)\n",
            "Noise Patch (Validation) shape :  (2601, 940)\n",
            "Central Pixel (Validation)  shape :  (2601, 940)\n",
            "Noise Patch (Train) shape :  (2601, 4860)\n",
            "Central Pixel (Train) shape :  (2601, 4860)\n",
            "Noise Patch (Validation) shape :  (2601, 940)\n",
            "Central Pixel (Validation)  shape :  (2601, 940)\n",
            "Noise Patch (Train) shape :  (2601, 4860)\n",
            "Central Pixel (Train) shape :  (2601, 4860)\n",
            "Noise Patch (Validation) shape :  (2601, 940)\n",
            "Central Pixel (Validation)  shape :  (2601, 940)\n",
            "Noise Patch (Train) shape :  (2601, 4860)\n",
            "Central Pixel (Train) shape :  (2601, 4860)\n",
            "Noise Patch (Validation) shape :  (2601, 940)\n",
            "Central Pixel (Validation)  shape :  (2601, 940)\n"
          ]
        }
      ]
    },
    {
      "cell_type": "code",
      "metadata": {
        "colab": {
          "base_uri": "https://localhost:8080/"
        },
        "id": "081PDlucM1GT",
        "outputId": "fc53cf13-ee30-4cce-db38-f19b9d08b9f5"
      },
      "source": [
        "np.save('/content/gdrive/MyDrive/Colab Notebooks/EE610_FINAL_PROJECT/Outputs/noisyPatches_train_LL', noisyPatches_train_LL)\n",
        "np.save('/content/gdrive/MyDrive/Colab Notebooks/EE610_FINAL_PROJECT/Outputs/centralPixel_train_LL', centralPixel_train_LL)\n",
        "np.save('/content/gdrive/MyDrive/Colab Notebooks/EE610_FINAL_PROJECT/Outputs/noisyPatches_val_LL', noisyPatches_val_LL)\n",
        "np.save('/content/gdrive/MyDrive/Colab Notebooks/EE610_FINAL_PROJECT/Outputs/centralPixel_val_LL', centralPixel_val_LL)\n",
        "\n",
        "np.save('/content/gdrive/MyDrive/Colab Notebooks/EE610_FINAL_PROJECT/Outputs/noisyPatches_train_LH', noisyPatches_train_LH)\n",
        "np.save('/content/gdrive/MyDrive/Colab Notebooks/EE610_FINAL_PROJECT/Outputs/centralPixel_train_LH', centralPixel_train_LH)\n",
        "np.save('/content/gdrive/MyDrive/Colab Notebooks/EE610_FINAL_PROJECT/Outputs/noisyPatches_val_LH', noisyPatches_val_LH)\n",
        "np.save('/content/gdrive/MyDrive/Colab Notebooks/EE610_FINAL_PROJECT/Outputs/centralPixel_val_LH', centralPixel_val_LH)\n",
        "\n",
        "np.save('/content/gdrive/MyDrive/Colab Notebooks/EE610_FINAL_PROJECT/Outputs/noisyPatches_train_HL', noisyPatches_train_HL)\n",
        "np.save('/content/gdrive/MyDrive/Colab Notebooks/EE610_FINAL_PROJECT/Outputs/centralPixel_train_HL', centralPixel_train_HL)\n",
        "np.save('/content/gdrive/MyDrive/Colab Notebooks/EE610_FINAL_PROJECT/Outputs/noisyPatches_val_HL', noisyPatches_val_HL)\n",
        "np.save('/content/gdrive/MyDrive/Colab Notebooks/EE610_FINAL_PROJECT/Outputs/centralPixel_val_HL', centralPixel_val_HL)\n",
        "\n",
        "np.save('/content/gdrive/MyDrive/Colab Notebooks/EE610_FINAL_PROJECT/Outputs/noisyPatches_train_HH', noisyPatches_train_HH)\n",
        "np.save('/content/gdrive/MyDrive/Colab Notebooks/EE610_FINAL_PROJECT/Outputs/centralPixel_train_HH', centralPixel_train_HH)\n",
        "np.save('/content/gdrive/MyDrive/Colab Notebooks/EE610_FINAL_PROJECT/Outputs/noisyPatches_val_HH', noisyPatches_val_HH)\n",
        "np.save('/content/gdrive/MyDrive/Colab Notebooks/EE610_FINAL_PROJECT/Outputs/centralPixel_val_HH', centralPixel_val_HH)\n",
        "\n",
        "\n",
        "\n",
        "print(\"Noise Patch (Train) shape : \",noisyPatches_train_LL.shape)\n",
        "print(\"Central Pixel (Train) shape : \",centralPixel_train_LL.shape)\n",
        "print(\"Noise Patch (Validation) shape : \",noisyPatches_val_LL.shape)\n",
        "print(\"Central Pixel (Validation)  shape : \",centralPixel_val_LL.shape)\n",
        "print(\"Noise Patch (Train) shape : \",noisyPatches_train_LH.shape)\n",
        "print(\"Central Pixel (Train) shape : \",centralPixel_train_LH.shape)\n",
        "print(\"Noise Patch (Validation) shape : \",noisyPatches_val_LH.shape)\n",
        "print(\"Central Pixel (Validation)  shape : \",centralPixel_val_LH.shape)\n",
        "print(\"Noise Patch (Train) shape : \",noisyPatches_train_HL.shape)\n",
        "print(\"Central Pixel (Train) shape : \",centralPixel_train_HL.shape)\n",
        "print(\"Noise Patch (Validation) shape : \",noisyPatches_val_HL.shape)\n",
        "print(\"Central Pixel (Validation)  shape : \",centralPixel_val_HL.shape)\n",
        "print(\"Noise Patch (Train) shape : \",noisyPatches_train_HH.shape)\n",
        "print(\"Central Pixel (Train) shape : \",centralPixel_train_HH.shape)\n",
        "print(\"Noise Patch (Validation) shape : \",noisyPatches_val_HH.shape)\n",
        "print(\"Central Pixel (Validation)  shape : \",centralPixel_val_HH.shape)"
      ],
      "execution_count": 20,
      "outputs": [
        {
          "output_type": "stream",
          "name": "stdout",
          "text": [
            "Noise Patch (Train) shape :  (2601, 4860)\n",
            "Central Pixel (Train) shape :  (2601, 4860)\n",
            "Noise Patch (Validation) shape :  (2601, 940)\n",
            "Central Pixel (Validation)  shape :  (2601, 940)\n",
            "Noise Patch (Train) shape :  (2601, 4860)\n",
            "Central Pixel (Train) shape :  (2601, 4860)\n",
            "Noise Patch (Validation) shape :  (2601, 940)\n",
            "Central Pixel (Validation)  shape :  (2601, 940)\n",
            "Noise Patch (Train) shape :  (2601, 4860)\n",
            "Central Pixel (Train) shape :  (2601, 4860)\n",
            "Noise Patch (Validation) shape :  (2601, 940)\n",
            "Central Pixel (Validation)  shape :  (2601, 940)\n",
            "Noise Patch (Train) shape :  (2601, 4860)\n",
            "Central Pixel (Train) shape :  (2601, 4860)\n",
            "Noise Patch (Validation) shape :  (2601, 940)\n",
            "Central Pixel (Validation)  shape :  (2601, 940)\n"
          ]
        }
      ]
    },
    {
      "cell_type": "code",
      "metadata": {
        "colab": {
          "base_uri": "https://localhost:8080/",
          "height": 1000
        },
        "id": "AyNMCKjDM8De",
        "outputId": "e43e3046-3abe-45c5-a26c-d0c6619ded24"
      },
      "source": [
        "\n",
        "import numpy as np\n",
        "noisyPatches_train_1 = np.load('/content/gdrive/MyDrive/Colab Notebooks/EE610_FINAL_PROJECT/Outputs/noisyPatches_train_LL.npy')\n",
        "centralPixel_train_1 = np.load('/content/gdrive/MyDrive/Colab Notebooks/EE610_FINAL_PROJECT/Outputs/centralPixel_train_LL.npy')\n",
        "noisyPatches_val_1 = np.load('/content/gdrive/MyDrive/Colab Notebooks/EE610_FINAL_PROJECT/Outputs/noisyPatches_val_LL.npy')\n",
        "centralPixel_val_1 = np.load('/content/gdrive/MyDrive/Colab Notebooks/EE610_FINAL_PROJECT/Outputs/centralPixel_val_LL.npy')\n",
        "\n",
        "print(\"Noise Patch (Train) shape : \",noisyPatches_train_LL.shape)\n",
        "print(\"Central Pixel (Train) shape : \",centralPixel_train_LL.shape)\n",
        "print(\"Noise Patch (Validation) shape : \",noisyPatches_val_LL.shape)\n",
        "print(\"Central Pixel (Validation)  shape : \",centralPixel_val_LL.shape)\n",
        "\n",
        "\n",
        "model_LL = createModel_3(noisyPatches_train_1,noisyPatches_train_1,noisyPatches_val_1,centralPixel_val_1,51,\"/content/gdrive/MyDrive/Colab Notebooks/EE610_FINAL_PROJECT/Outputs/model_LL.h5\")"
      ],
      "execution_count": 23,
      "outputs": [
        {
          "output_type": "stream",
          "name": "stdout",
          "text": [
            "Noise Patch (Train) shape :  (2601, 4860)\n",
            "Central Pixel (Train) shape :  (2601, 4860)\n",
            "Noise Patch (Validation) shape :  (2601, 940)\n",
            "Central Pixel (Validation)  shape :  (2601, 940)\n",
            "Traiing and Validation sets size : (2601, 4860) (2601, 4860) (2601, 940) (2601, 940)\n",
            "Model: \"sequential_3\"\n",
            "_________________________________________________________________\n",
            " Layer (type)                Output Shape              Param #   \n",
            "=================================================================\n",
            " conv2d_9 (Conv2D)           (None, 51, 51, 8)         656       \n",
            "                                                                 \n",
            " conv2d_10 (Conv2D)          (None, 51, 51, 16)        6288      \n",
            "                                                                 \n",
            " conv2d_11 (Conv2D)          (None, 51, 51, 1)         401       \n",
            "                                                                 \n",
            "=================================================================\n",
            "Total params: 7,345\n",
            "Trainable params: 7,345\n",
            "Non-trainable params: 0\n",
            "_________________________________________________________________\n",
            "Traiing and Validation sets size : (2601, 4860) (2601, 4860) (2601, 940) (2601, 940)\n",
            "Epoch 1/10000\n",
            "152/152 [==============================] - 1s 6ms/step - loss: 282.8657 - accuracy: 0.0889 - val_loss: 60121.5430 - val_accuracy: 0.0036\n",
            "Epoch 2/10000\n",
            "152/152 [==============================] - 1s 5ms/step - loss: 255.3689 - accuracy: 0.0949 - val_loss: 59963.6016 - val_accuracy: 0.0036\n",
            "Epoch 3/10000\n",
            "152/152 [==============================] - 1s 5ms/step - loss: 251.1630 - accuracy: 0.0973 - val_loss: 60121.5156 - val_accuracy: 0.0036\n",
            "Epoch 4/10000\n",
            "152/152 [==============================] - 1s 5ms/step - loss: 247.8542 - accuracy: 0.0995 - val_loss: 60152.0391 - val_accuracy: 0.0035\n",
            "Epoch 5/10000\n",
            "152/152 [==============================] - 1s 5ms/step - loss: 245.3292 - accuracy: 0.1026 - val_loss: 60152.1914 - val_accuracy: 0.0035\n",
            "Epoch 6/10000\n",
            "152/152 [==============================] - 1s 5ms/step - loss: 244.3009 - accuracy: 0.1045 - val_loss: 60095.3711 - val_accuracy: 0.0036\n",
            "Epoch 7/10000\n",
            "152/152 [==============================] - 1s 5ms/step - loss: 247.8891 - accuracy: 0.1021 - val_loss: 60201.4609 - val_accuracy: 0.0036\n",
            "Epoch 8/10000\n",
            "152/152 [==============================] - 1s 5ms/step - loss: 243.9101 - accuracy: 0.1059 - val_loss: 60115.7266 - val_accuracy: 0.0036\n",
            "Epoch 9/10000\n",
            "152/152 [==============================] - 1s 5ms/step - loss: 243.4780 - accuracy: 0.1074 - val_loss: 60106.4961 - val_accuracy: 0.0036\n",
            "Epoch 10/10000\n",
            "152/152 [==============================] - 1s 5ms/step - loss: 243.3279 - accuracy: 0.1081 - val_loss: 60115.7578 - val_accuracy: 0.0036\n",
            "Epoch 11/10000\n",
            "152/152 [==============================] - 1s 5ms/step - loss: 243.2236 - accuracy: 0.1086 - val_loss: 60115.2305 - val_accuracy: 0.0036\n",
            "Epoch 12/10000\n",
            "152/152 [==============================] - 1s 5ms/step - loss: 243.1430 - accuracy: 0.1090 - val_loss: 60107.6992 - val_accuracy: 0.0036\n",
            "Epoch 13/10000\n",
            "152/152 [==============================] - 1s 5ms/step - loss: 243.0796 - accuracy: 0.1094 - val_loss: 60126.6133 - val_accuracy: 0.0036\n",
            "Epoch 14/10000\n",
            "152/152 [==============================] - 1s 5ms/step - loss: 243.0339 - accuracy: 0.1096 - val_loss: 60128.3906 - val_accuracy: 0.0036\n",
            "Epoch 15/10000\n",
            "152/152 [==============================] - 1s 5ms/step - loss: 242.9923 - accuracy: 0.1098 - val_loss: 60104.8750 - val_accuracy: 0.0036\n",
            "Epoch 16/10000\n",
            "152/152 [==============================] - 1s 5ms/step - loss: 242.9678 - accuracy: 0.1099 - val_loss: 60085.0469 - val_accuracy: 0.0036\n",
            "Epoch 17/10000\n",
            "152/152 [==============================] - 1s 5ms/step - loss: 242.9299 - accuracy: 0.1102 - val_loss: 60107.8008 - val_accuracy: 0.0036\n",
            "Epoch 18/10000\n",
            "152/152 [==============================] - 1s 5ms/step - loss: 242.8999 - accuracy: 0.1104 - val_loss: 60100.6172 - val_accuracy: 0.0036\n",
            "Epoch 19/10000\n",
            "152/152 [==============================] - 1s 5ms/step - loss: 242.9896 - accuracy: 0.1096 - val_loss: 60068.0742 - val_accuracy: 0.0036\n",
            "Epoch 20/10000\n",
            "152/152 [==============================] - 1s 5ms/step - loss: 242.8950 - accuracy: 0.1102 - val_loss: 60119.4727 - val_accuracy: 0.0036\n",
            "Epoch 21/10000\n",
            "152/152 [==============================] - 1s 5ms/step - loss: 242.8530 - accuracy: 0.1106 - val_loss: 60146.1602 - val_accuracy: 0.0036\n",
            "Epoch 22/10000\n",
            "152/152 [==============================] - 1s 5ms/step - loss: 243.8393 - accuracy: 0.1069 - val_loss: 60018.2305 - val_accuracy: 0.0036\n",
            "Epoch 23/10000\n",
            "152/152 [==============================] - 1s 5ms/step - loss: 243.4510 - accuracy: 0.1081 - val_loss: 60115.9258 - val_accuracy: 0.0036\n",
            "Epoch 24/10000\n",
            "152/152 [==============================] - 1s 5ms/step - loss: 242.8337 - accuracy: 0.1105 - val_loss: 60109.2852 - val_accuracy: 0.0036\n",
            "Epoch 25/10000\n",
            "152/152 [==============================] - 1s 5ms/step - loss: 242.8092 - accuracy: 0.1107 - val_loss: 60110.0820 - val_accuracy: 0.0036\n",
            "Epoch 26/10000\n",
            "152/152 [==============================] - 1s 5ms/step - loss: 242.8011 - accuracy: 0.1108 - val_loss: 60096.5156 - val_accuracy: 0.0036\n",
            "Epoch 27/10000\n",
            "152/152 [==============================] - 1s 5ms/step - loss: 242.7889 - accuracy: 0.1109 - val_loss: 60118.1133 - val_accuracy: 0.0036\n",
            "Epoch 28/10000\n",
            "152/152 [==============================] - 1s 5ms/step - loss: 242.7862 - accuracy: 0.1109 - val_loss: 60151.8359 - val_accuracy: 0.0036\n",
            "Epoch 29/10000\n",
            "152/152 [==============================] - 1s 5ms/step - loss: 243.0994 - accuracy: 0.1090 - val_loss: 60162.2656 - val_accuracy: 0.0036\n",
            "Epoch 30/10000\n",
            "152/152 [==============================] - 1s 5ms/step - loss: 242.7725 - accuracy: 0.1109 - val_loss: 60117.0664 - val_accuracy: 0.0036\n",
            "Epoch 31/10000\n",
            "152/152 [==============================] - 1s 5ms/step - loss: 242.7601 - accuracy: 0.1110 - val_loss: 60128.0273 - val_accuracy: 0.0036\n",
            "Epoch 32/10000\n",
            "152/152 [==============================] - 1s 5ms/step - loss: 242.7583 - accuracy: 0.1110 - val_loss: 60111.7266 - val_accuracy: 0.0036\n",
            "Epoch 33/10000\n",
            "152/152 [==============================] - 1s 5ms/step - loss: 242.7472 - accuracy: 0.1111 - val_loss: 60101.3750 - val_accuracy: 0.0036\n",
            "Epoch 34/10000\n",
            "152/152 [==============================] - 1s 5ms/step - loss: 243.3523 - accuracy: 0.1086 - val_loss: 60124.1523 - val_accuracy: 0.0036\n",
            "Epoch 35/10000\n",
            "152/152 [==============================] - 1s 5ms/step - loss: 242.7556 - accuracy: 0.1109 - val_loss: 60106.7148 - val_accuracy: 0.0036\n",
            "Epoch 36/10000\n",
            "152/152 [==============================] - 1s 5ms/step - loss: 242.7443 - accuracy: 0.1111 - val_loss: 60122.6758 - val_accuracy: 0.0036\n",
            "Epoch 37/10000\n",
            "152/152 [==============================] - 1s 5ms/step - loss: 242.7460 - accuracy: 0.1111 - val_loss: 60094.8594 - val_accuracy: 0.0036\n",
            "Epoch 38/10000\n",
            "152/152 [==============================] - 1s 5ms/step - loss: 242.7299 - accuracy: 0.1112 - val_loss: 60111.0938 - val_accuracy: 0.0036\n",
            "Epoch 39/10000\n",
            "152/152 [==============================] - 1s 5ms/step - loss: 242.7458 - accuracy: 0.1111 - val_loss: 60092.7461 - val_accuracy: 0.0036\n",
            "Epoch 40/10000\n",
            "152/152 [==============================] - 1s 5ms/step - loss: 243.0304 - accuracy: 0.1092 - val_loss: 60096.2383 - val_accuracy: 0.0036\n",
            "Epoch 41/10000\n",
            "152/152 [==============================] - 1s 5ms/step - loss: 242.7368 - accuracy: 0.1111 - val_loss: 60091.5977 - val_accuracy: 0.0036\n",
            "Epoch 42/10000\n",
            "152/152 [==============================] - 1s 5ms/step - loss: 242.7210 - accuracy: 0.1113 - val_loss: 60111.4922 - val_accuracy: 0.0036\n",
            "Epoch 43/10000\n",
            "152/152 [==============================] - 1s 5ms/step - loss: 242.7186 - accuracy: 0.1113 - val_loss: 60111.3242 - val_accuracy: 0.0036\n",
            "Epoch 44/10000\n",
            "152/152 [==============================] - 1s 5ms/step - loss: 242.7269 - accuracy: 0.1112 - val_loss: 60104.0586 - val_accuracy: 0.0036\n",
            "Epoch 45/10000\n",
            "152/152 [==============================] - 1s 5ms/step - loss: 242.8260 - accuracy: 0.1104 - val_loss: 60119.4727 - val_accuracy: 0.0036\n",
            "Epoch 46/10000\n",
            "152/152 [==============================] - 1s 5ms/step - loss: 242.7141 - accuracy: 0.1113 - val_loss: 60113.5820 - val_accuracy: 0.0036\n",
            "Epoch 47/10000\n",
            "152/152 [==============================] - 1s 5ms/step - loss: 243.4403 - accuracy: 0.1088 - val_loss: 59984.3477 - val_accuracy: 0.0036\n",
            "Epoch 48/10000\n",
            "152/152 [==============================] - 1s 5ms/step - loss: 242.8085 - accuracy: 0.1103 - val_loss: 60106.2344 - val_accuracy: 0.0036\n",
            "Epoch 49/10000\n",
            "152/152 [==============================] - 1s 5ms/step - loss: 242.7118 - accuracy: 0.1113 - val_loss: 60095.8008 - val_accuracy: 0.0036\n",
            "Epoch 50/10000\n",
            "152/152 [==============================] - 1s 5ms/step - loss: 242.7091 - accuracy: 0.1114 - val_loss: 60110.3164 - val_accuracy: 0.0036\n",
            "Epoch 51/10000\n",
            "152/152 [==============================] - 1s 5ms/step - loss: 242.7034 - accuracy: 0.1114 - val_loss: 60104.7500 - val_accuracy: 0.0036\n",
            "Epoch 52/10000\n",
            "152/152 [==============================] - 1s 5ms/step - loss: 242.7718 - accuracy: 0.1108 - val_loss: 60107.9141 - val_accuracy: 0.0036\n",
            "Epoch 53/10000\n",
            "152/152 [==============================] - 1s 5ms/step - loss: 242.7039 - accuracy: 0.1114 - val_loss: 60109.2695 - val_accuracy: 0.0036\n",
            "Epoch 54/10000\n",
            "152/152 [==============================] - 1s 5ms/step - loss: 242.7218 - accuracy: 0.1113 - val_loss: 60122.3594 - val_accuracy: 0.0036\n",
            "Epoch 55/10000\n",
            "152/152 [==============================] - 1s 5ms/step - loss: 242.9133 - accuracy: 0.1104 - val_loss: 60211.4375 - val_accuracy: 0.0035\n",
            "Epoch 56/10000\n",
            "152/152 [==============================] - 1s 5ms/step - loss: 242.8543 - accuracy: 0.1102 - val_loss: 60112.4023 - val_accuracy: 0.0036\n",
            "Epoch 57/10000\n",
            "152/152 [==============================] - 1s 5ms/step - loss: 242.7010 - accuracy: 0.1114 - val_loss: 60118.9336 - val_accuracy: 0.0036\n",
            "Epoch 58/10000\n",
            "152/152 [==============================] - 1s 5ms/step - loss: 242.6980 - accuracy: 0.1115 - val_loss: 60112.8398 - val_accuracy: 0.0036\n",
            "Epoch 59/10000\n",
            "152/152 [==============================] - 1s 5ms/step - loss: 242.7232 - accuracy: 0.1113 - val_loss: 60141.9922 - val_accuracy: 0.0036\n",
            "Epoch 60/10000\n",
            "152/152 [==============================] - 1s 5ms/step - loss: 242.7377 - accuracy: 0.1112 - val_loss: 59963.5977 - val_accuracy: 0.0036\n",
            "Epoch 61/10000\n",
            "152/152 [==============================] - 1s 5ms/step - loss: 242.7460 - accuracy: 0.1110 - val_loss: 60118.6328 - val_accuracy: 0.0036\n",
            "Epoch 62/10000\n",
            "152/152 [==============================] - 1s 5ms/step - loss: 242.6985 - accuracy: 0.1115 - val_loss: 60125.1094 - val_accuracy: 0.0036\n",
            "Epoch 63/10000\n",
            "152/152 [==============================] - 1s 5ms/step - loss: 242.7014 - accuracy: 0.1115 - val_loss: 60146.2422 - val_accuracy: 0.0036\n",
            "Epoch 64/10000\n",
            "152/152 [==============================] - 1s 5ms/step - loss: 243.2999 - accuracy: 0.1086 - val_loss: 60183.5195 - val_accuracy: 0.0036\n",
            "Epoch 65/10000\n",
            "152/152 [==============================] - 1s 5ms/step - loss: 242.7346 - accuracy: 0.1110 - val_loss: 60116.2422 - val_accuracy: 0.0036\n",
            "Epoch 66/10000\n",
            "152/152 [==============================] - 1s 5ms/step - loss: 242.6976 - accuracy: 0.1115 - val_loss: 60114.4805 - val_accuracy: 0.0036\n",
            "Epoch 67/10000\n",
            "152/152 [==============================] - 1s 5ms/step - loss: 242.6943 - accuracy: 0.1116 - val_loss: 60113.3867 - val_accuracy: 0.0036\n",
            "Epoch 68/10000\n",
            "152/152 [==============================] - 1s 5ms/step - loss: 242.6932 - accuracy: 0.1116 - val_loss: 60112.5195 - val_accuracy: 0.0036\n",
            "Epoch 69/10000\n",
            "152/152 [==============================] - 1s 5ms/step - loss: 242.6935 - accuracy: 0.1116 - val_loss: 60125.8008 - val_accuracy: 0.0036\n",
            "Epoch 70/10000\n",
            "152/152 [==============================] - 1s 5ms/step - loss: 242.7903 - accuracy: 0.1108 - val_loss: 60196.2109 - val_accuracy: 0.0035\n",
            "Epoch 71/10000\n",
            "152/152 [==============================] - 1s 5ms/step - loss: 242.7480 - accuracy: 0.1110 - val_loss: 60113.8945 - val_accuracy: 0.0036\n",
            "Epoch 72/10000\n",
            "152/152 [==============================] - 1s 5ms/step - loss: 242.6923 - accuracy: 0.1116 - val_loss: 60115.5508 - val_accuracy: 0.0036\n",
            "Epoch 73/10000\n",
            "152/152 [==============================] - 1s 5ms/step - loss: 242.6915 - accuracy: 0.1116 - val_loss: 60113.8398 - val_accuracy: 0.0036\n",
            "Epoch 74/10000\n",
            "152/152 [==============================] - 1s 5ms/step - loss: 242.6914 - accuracy: 0.1117 - val_loss: 60104.1133 - val_accuracy: 0.0036\n",
            "Epoch 75/10000\n",
            "152/152 [==============================] - 1s 5ms/step - loss: 242.7577 - accuracy: 0.1110 - val_loss: 60069.3516 - val_accuracy: 0.0036\n",
            "Epoch 76/10000\n",
            "152/152 [==============================] - 1s 5ms/step - loss: 242.9016 - accuracy: 0.1100 - val_loss: 60154.4375 - val_accuracy: 0.0036\n",
            "Epoch 77/10000\n",
            "152/152 [==============================] - 1s 5ms/step - loss: 242.6994 - accuracy: 0.1115 - val_loss: 60113.0312 - val_accuracy: 0.0036\n",
            "Epoch 78/10000\n",
            "152/152 [==============================] - 1s 5ms/step - loss: 242.8278 - accuracy: 0.1109 - val_loss: 60110.2305 - val_accuracy: 0.0036\n",
            "Epoch 79/10000\n",
            "152/152 [==============================] - 1s 5ms/step - loss: 242.7834 - accuracy: 0.1107 - val_loss: 60072.2969 - val_accuracy: 0.0036\n",
            "Epoch 80/10000\n",
            "152/152 [==============================] - 1s 5ms/step - loss: 242.7291 - accuracy: 0.1112 - val_loss: 60109.1875 - val_accuracy: 0.0036\n",
            "Epoch 81/10000\n",
            "152/152 [==============================] - 1s 5ms/step - loss: 242.6914 - accuracy: 0.1116 - val_loss: 60112.7891 - val_accuracy: 0.0036\n",
            "Epoch 82/10000\n",
            "152/152 [==============================] - 1s 5ms/step - loss: 242.6902 - accuracy: 0.1117 - val_loss: 60112.6406 - val_accuracy: 0.0036\n",
            "Epoch 83/10000\n",
            "152/152 [==============================] - 1s 5ms/step - loss: 242.7315 - accuracy: 0.1113 - val_loss: 60118.1641 - val_accuracy: 0.0036\n",
            "Epoch 84/10000\n",
            "152/152 [==============================] - 1s 5ms/step - loss: 242.6905 - accuracy: 0.1117 - val_loss: 60113.4336 - val_accuracy: 0.0036\n",
            "Epoch 85/10000\n",
            "152/152 [==============================] - 1s 5ms/step - loss: 242.6978 - accuracy: 0.1116 - val_loss: 60110.4336 - val_accuracy: 0.0036\n",
            "Epoch 86/10000\n",
            "152/152 [==============================] - 1s 5ms/step - loss: 242.7113 - accuracy: 0.1115 - val_loss: 60104.1328 - val_accuracy: 0.0036\n",
            "Epoch 87/10000\n",
            "152/152 [==============================] - 1s 5ms/step - loss: 242.9775 - accuracy: 0.1101 - val_loss: 60131.8516 - val_accuracy: 0.0036\n",
            "Epoch 88/10000\n",
            "152/152 [==============================] - 1s 5ms/step - loss: 242.7327 - accuracy: 0.1111 - val_loss: 60115.2969 - val_accuracy: 0.0036\n",
            "Epoch 89/10000\n",
            "152/152 [==============================] - 1s 5ms/step - loss: 242.6903 - accuracy: 0.1117 - val_loss: 60113.4648 - val_accuracy: 0.0036\n",
            "Epoch 90/10000\n",
            "152/152 [==============================] - 1s 5ms/step - loss: 242.6901 - accuracy: 0.1117 - val_loss: 60106.2031 - val_accuracy: 0.0036\n",
            "Epoch 91/10000\n",
            "152/152 [==============================] - 1s 5ms/step - loss: 242.6998 - accuracy: 0.1116 - val_loss: 60117.3633 - val_accuracy: 0.0036\n",
            "Epoch 92/10000\n",
            "152/152 [==============================] - 1s 5ms/step - loss: 242.7041 - accuracy: 0.1116 - val_loss: 60158.5078 - val_accuracy: 0.0036\n",
            "Epoch 93/10000\n",
            "152/152 [==============================] - 1s 5ms/step - loss: 242.7476 - accuracy: 0.1112 - val_loss: 60006.9727 - val_accuracy: 0.0036\n",
            "Epoch 94/10000\n",
            "152/152 [==============================] - 1s 5ms/step - loss: 242.8091 - accuracy: 0.1106 - val_loss: 60099.5078 - val_accuracy: 0.0036\n",
            "Epoch 95/10000\n",
            "152/152 [==============================] - 1s 5ms/step - loss: 242.6918 - accuracy: 0.1116 - val_loss: 60111.5820 - val_accuracy: 0.0036\n",
            "Epoch 96/10000\n",
            "152/152 [==============================] - 1s 5ms/step - loss: 242.6887 - accuracy: 0.1117 - val_loss: 60121.8359 - val_accuracy: 0.0036\n",
            "Epoch 97/10000\n",
            "152/152 [==============================] - 1s 5ms/step - loss: 242.7145 - accuracy: 0.1114 - val_loss: 60133.5898 - val_accuracy: 0.0036\n",
            "Epoch 98/10000\n",
            "152/152 [==============================] - 1s 5ms/step - loss: 242.6995 - accuracy: 0.1116 - val_loss: 60108.3867 - val_accuracy: 0.0036\n",
            "Epoch 99/10000\n",
            "152/152 [==============================] - 1s 5ms/step - loss: 242.7181 - accuracy: 0.1114 - val_loss: 60108.9062 - val_accuracy: 0.0036\n",
            "Epoch 100/10000\n",
            "152/152 [==============================] - 1s 5ms/step - loss: 242.6992 - accuracy: 0.1116 - val_loss: 60143.6055 - val_accuracy: 0.0036\n",
            "Epoch 101/10000\n",
            "152/152 [==============================] - 1s 5ms/step - loss: 242.7981 - accuracy: 0.1108 - val_loss: 60103.9219 - val_accuracy: 0.0037\n",
            "Epoch 102/10000\n",
            "152/152 [==============================] - 1s 5ms/step - loss: 242.7062 - accuracy: 0.1116 - val_loss: 60034.2656 - val_accuracy: 0.0036\n",
            "Epoch 103/10000\n",
            "152/152 [==============================] - 1s 5ms/step - loss: 242.7189 - accuracy: 0.1114 - val_loss: 60110.1523 - val_accuracy: 0.0036\n",
            "Epoch 104/10000\n",
            "152/152 [==============================] - 1s 5ms/step - loss: 242.7241 - accuracy: 0.1114 - val_loss: 60109.5508 - val_accuracy: 0.0036\n",
            "Epoch 105/10000\n",
            "152/152 [==============================] - 1s 5ms/step - loss: 242.6892 - accuracy: 0.1117 - val_loss: 60115.2188 - val_accuracy: 0.0036\n",
            "Epoch 106/10000\n",
            "152/152 [==============================] - 1s 5ms/step - loss: 242.6874 - accuracy: 0.1117 - val_loss: 60114.2109 - val_accuracy: 0.0036\n",
            "Epoch 107/10000\n",
            "152/152 [==============================] - 1s 5ms/step - loss: 242.9460 - accuracy: 0.1103 - val_loss: 60084.3242 - val_accuracy: 0.0036\n",
            "Epoch 108/10000\n",
            "152/152 [==============================] - 1s 5ms/step - loss: 242.7175 - accuracy: 0.1113 - val_loss: 60115.5508 - val_accuracy: 0.0036\n",
            "Epoch 109/10000\n",
            "152/152 [==============================] - 1s 5ms/step - loss: 242.6886 - accuracy: 0.1117 - val_loss: 60106.9805 - val_accuracy: 0.0037\n",
            "Epoch 110/10000\n",
            "152/152 [==============================] - 1s 5ms/step - loss: 242.6935 - accuracy: 0.1117 - val_loss: 60109.3047 - val_accuracy: 0.0036\n",
            "Epoch 111/10000\n",
            "152/152 [==============================] - 1s 5ms/step - loss: 242.6873 - accuracy: 0.1117 - val_loss: 60115.6406 - val_accuracy: 0.0036\n",
            "Epoch 112/10000\n",
            "152/152 [==============================] - 1s 5ms/step - loss: 242.6942 - accuracy: 0.1117 - val_loss: 60085.0430 - val_accuracy: 0.0036\n",
            "Epoch 113/10000\n",
            "152/152 [==============================] - 1s 5ms/step - loss: 242.7511 - accuracy: 0.1111 - val_loss: 60071.1016 - val_accuracy: 0.0036\n",
            "Epoch 114/10000\n",
            "152/152 [==============================] - 1s 5ms/step - loss: 242.7175 - accuracy: 0.1114 - val_loss: 60116.8945 - val_accuracy: 0.0036\n",
            "Epoch 115/10000\n",
            "152/152 [==============================] - 1s 5ms/step - loss: 242.6874 - accuracy: 0.1117 - val_loss: 60112.5195 - val_accuracy: 0.0036\n",
            "Epoch 116/10000\n",
            "152/152 [==============================] - 1s 5ms/step - loss: 242.6866 - accuracy: 0.1117 - val_loss: 60109.5859 - val_accuracy: 0.0036\n",
            "Epoch 117/10000\n",
            "152/152 [==============================] - 1s 5ms/step - loss: 242.6932 - accuracy: 0.1117 - val_loss: 60111.7656 - val_accuracy: 0.0036\n",
            "Epoch 118/10000\n",
            "152/152 [==============================] - 1s 5ms/step - loss: 242.7454 - accuracy: 0.1111 - val_loss: 60120.0859 - val_accuracy: 0.0036\n",
            "Epoch 119/10000\n",
            "152/152 [==============================] - 1s 5ms/step - loss: 242.7120 - accuracy: 0.1115 - val_loss: 60121.6680 - val_accuracy: 0.0036\n",
            "Epoch 120/10000\n",
            "152/152 [==============================] - 1s 5ms/step - loss: 242.7109 - accuracy: 0.1115 - val_loss: 60113.8008 - val_accuracy: 0.0036\n",
            "Epoch 121/10000\n",
            "152/152 [==============================] - 1s 5ms/step - loss: 242.6890 - accuracy: 0.1117 - val_loss: 60129.7539 - val_accuracy: 0.0036\n",
            "Epoch 122/10000\n",
            "152/152 [==============================] - 1s 5ms/step - loss: 243.3080 - accuracy: 0.1091 - val_loss: 60115.2578 - val_accuracy: 0.0036\n",
            "Epoch 123/10000\n",
            "152/152 [==============================] - 1s 5ms/step - loss: 242.6933 - accuracy: 0.1116 - val_loss: 60110.8633 - val_accuracy: 0.0036\n",
            "Epoch 124/10000\n",
            "152/152 [==============================] - 1s 5ms/step - loss: 242.6897 - accuracy: 0.1117 - val_loss: 60113.2461 - val_accuracy: 0.0036\n",
            "Epoch 125/10000\n",
            "152/152 [==============================] - 1s 5ms/step - loss: 242.6906 - accuracy: 0.1117 - val_loss: 60167.9531 - val_accuracy: 0.0036\n",
            "Epoch 126/10000\n",
            "152/152 [==============================] - 1s 5ms/step - loss: 242.7298 - accuracy: 0.1113 - val_loss: 60114.9141 - val_accuracy: 0.0036\n",
            "Epoch 127/10000\n",
            "152/152 [==============================] - 1s 5ms/step - loss: 242.6878 - accuracy: 0.1117 - val_loss: 60115.4453 - val_accuracy: 0.0036\n",
            "Epoch 128/10000\n",
            "152/152 [==============================] - 1s 5ms/step - loss: 242.6871 - accuracy: 0.1117 - val_loss: 60115.7305 - val_accuracy: 0.0036\n",
            "Epoch 129/10000\n",
            "152/152 [==============================] - 1s 5ms/step - loss: 242.6874 - accuracy: 0.1117 - val_loss: 60113.2344 - val_accuracy: 0.0036\n",
            "Epoch 130/10000\n",
            "152/152 [==============================] - 1s 5ms/step - loss: 242.8279 - accuracy: 0.1106 - val_loss: 60140.7070 - val_accuracy: 0.0036\n",
            "Epoch 131/10000\n",
            "152/152 [==============================] - 1s 5ms/step - loss: 242.6979 - accuracy: 0.1116 - val_loss: 60117.4570 - val_accuracy: 0.0036\n",
            "Epoch 132/10000\n",
            "152/152 [==============================] - 1s 5ms/step - loss: 242.6872 - accuracy: 0.1117 - val_loss: 60113.3789 - val_accuracy: 0.0036\n",
            "Epoch 133/10000\n",
            "152/152 [==============================] - 1s 5ms/step - loss: 242.6869 - accuracy: 0.1117 - val_loss: 60113.8945 - val_accuracy: 0.0036\n",
            "Epoch 134/10000\n",
            "152/152 [==============================] - 1s 5ms/step - loss: 242.6863 - accuracy: 0.1117 - val_loss: 60114.4961 - val_accuracy: 0.0036\n",
            "Epoch 135/10000\n",
            "152/152 [==============================] - 1s 5ms/step - loss: 242.6979 - accuracy: 0.1116 - val_loss: 60206.8281 - val_accuracy: 0.0036\n",
            "Epoch 136/10000\n",
            "152/152 [==============================] - 1s 5ms/step - loss: 242.7865 - accuracy: 0.1108 - val_loss: 60114.1484 - val_accuracy: 0.0036\n",
            "Epoch 137/10000\n",
            "152/152 [==============================] - 1s 5ms/step - loss: 242.6865 - accuracy: 0.1117 - val_loss: 60111.0273 - val_accuracy: 0.0036\n",
            "Epoch 138/10000\n",
            "152/152 [==============================] - 1s 5ms/step - loss: 242.6928 - accuracy: 0.1117 - val_loss: 60068.6680 - val_accuracy: 0.0037\n",
            "Epoch 139/10000\n",
            "152/152 [==============================] - 1s 5ms/step - loss: 242.7058 - accuracy: 0.1116 - val_loss: 60119.2578 - val_accuracy: 0.0036\n",
            "Epoch 140/10000\n",
            "152/152 [==============================] - 1s 5ms/step - loss: 242.8146 - accuracy: 0.1108 - val_loss: 60094.4258 - val_accuracy: 0.0036\n",
            "Epoch 141/10000\n",
            "152/152 [==============================] - 1s 5ms/step - loss: 242.7246 - accuracy: 0.1112 - val_loss: 60122.0820 - val_accuracy: 0.0036\n",
            "Epoch 142/10000\n",
            "152/152 [==============================] - 1s 5ms/step - loss: 242.6870 - accuracy: 0.1117 - val_loss: 60112.5586 - val_accuracy: 0.0036\n",
            "Epoch 143/10000\n",
            "152/152 [==============================] - 1s 5ms/step - loss: 242.6865 - accuracy: 0.1117 - val_loss: 60101.4688 - val_accuracy: 0.0037\n",
            "Epoch 144/10000\n",
            "152/152 [==============================] - 1s 5ms/step - loss: 242.7007 - accuracy: 0.1116 - val_loss: 60085.3281 - val_accuracy: 0.0037\n",
            "Epoch 145/10000\n",
            "152/152 [==============================] - 1s 5ms/step - loss: 242.6904 - accuracy: 0.1117 - val_loss: 60105.8047 - val_accuracy: 0.0036\n",
            "Epoch 146/10000\n",
            "152/152 [==============================] - 1s 5ms/step - loss: 242.8466 - accuracy: 0.1105 - val_loss: 60067.4609 - val_accuracy: 0.0037\n",
            "Epoch 147/10000\n",
            "152/152 [==============================] - 1s 5ms/step - loss: 242.6988 - accuracy: 0.1116 - val_loss: 60113.0625 - val_accuracy: 0.0036\n",
            "Epoch 148/10000\n",
            "152/152 [==============================] - 1s 5ms/step - loss: 242.6862 - accuracy: 0.1117 - val_loss: 60112.4922 - val_accuracy: 0.0036\n",
            "Epoch 149/10000\n",
            "152/152 [==============================] - 1s 5ms/step - loss: 242.6858 - accuracy: 0.1117 - val_loss: 60115.1406 - val_accuracy: 0.0036\n",
            "Epoch 150/10000\n",
            "152/152 [==============================] - 1s 5ms/step - loss: 242.6869 - accuracy: 0.1117 - val_loss: 60116.7305 - val_accuracy: 0.0036\n",
            "Epoch 151/10000\n",
            "152/152 [==============================] - 1s 5ms/step - loss: 242.7379 - accuracy: 0.1113 - val_loss: 60174.4258 - val_accuracy: 0.0036\n",
            "Epoch 152/10000\n",
            "152/152 [==============================] - 1s 5ms/step - loss: 242.8587 - accuracy: 0.1102 - val_loss: 60120.4883 - val_accuracy: 0.0036\n",
            "Epoch 153/10000\n",
            "152/152 [==============================] - 1s 5ms/step - loss: 242.6868 - accuracy: 0.1117 - val_loss: 60111.8516 - val_accuracy: 0.0036\n",
            "Epoch 154/10000\n",
            "152/152 [==============================] - 1s 5ms/step - loss: 242.6858 - accuracy: 0.1117 - val_loss: 60112.6953 - val_accuracy: 0.0036\n",
            "Epoch 155/10000\n",
            "152/152 [==============================] - 1s 5ms/step - loss: 242.6958 - accuracy: 0.1117 - val_loss: 60071.4766 - val_accuracy: 0.0037\n",
            "Epoch 156/10000\n",
            "152/152 [==============================] - 1s 5ms/step - loss: 242.6945 - accuracy: 0.1116 - val_loss: 60110.0312 - val_accuracy: 0.0036\n",
            "Epoch 157/10000\n",
            "152/152 [==============================] - 1s 5ms/step - loss: 242.6866 - accuracy: 0.1117 - val_loss: 60126.1523 - val_accuracy: 0.0036\n",
            "Epoch 158/10000\n",
            "152/152 [==============================] - 1s 5ms/step - loss: 242.6982 - accuracy: 0.1116 - val_loss: 60111.6172 - val_accuracy: 0.0036\n",
            "Epoch 159/10000\n",
            "152/152 [==============================] - 1s 5ms/step - loss: 242.9021 - accuracy: 0.1104 - val_loss: 60096.0156 - val_accuracy: 0.0037\n",
            "Epoch 160/10000\n",
            "146/152 [===========================>..] - ETA: 0s - loss: 240.8799 - accuracy: 0.1119Restoring model weights from the end of the best epoch: 60.\n",
            "152/152 [==============================] - 1s 5ms/step - loss: 242.6891 - accuracy: 0.1117 - val_loss: 60114.2070 - val_accuracy: 0.0036\n",
            "Epoch 00160: early stopping\n"
          ]
        },
        {
          "output_type": "display_data",
          "data": {
            "image/png": "[encoded data removed]",
            "text/plain": [
              "<Figure size 576x360 with 1 Axes>"
            ]
          },
          "metadata": {
            "needs_background": "light"
          }
        }
      ]
    },
    {
      "cell_type": "code",
      "metadata": {
        "id": "sueSzyRouOtI"
      },
      "source": [
        "# import numpy as np\n",
        "import keras.models as models\n",
        "import keras.layers as layers\n",
        "from keras.models import Sequential\n",
        "from keras.layers import Dense\n",
        "import pandas as pd\n",
        "from keras.callbacks import EarlyStopping\n",
        "import numpy as np\n",
        "from matplotlib import pyplot as plt\n",
        "\n",
        "\n",
        "\n",
        "def createModel_3(noisyPatches_train1,centralPixel_train1,noisyPatches_val1,centralPixel_val1,PatchSize,model_name):\n",
        "    print(\"Traiing and Validation sets size :\",noisyPatches_train1.shape,centralPixel_train1.shape,noisyPatches_val1.shape,centralPixel_val1.shape)\n",
        "    \n",
        "    if(PatchSize!=51):\n",
        "      print(\"Expected Patch size is 51: Error condition\")\n",
        "      return\n",
        "    row =noisyPatches_train1.shape[0] #507\n",
        "    coloumn =noisyPatches_train1.shape[1]# 16250\n",
        "    noisyPatches_train_1 = np.swapaxes(noisyPatches_train1,0,1)\n",
        "    noisyPatches_train_1 = noisyPatches_train_1.reshape((coloumn,PatchSize,PatchSize,1))\n",
        "\n",
        "    row =noisyPatches_val1.shape[0] #507\n",
        "    coloumn =noisyPatches_val1.shape[1]# 16250\n",
        "    noisyPatches_val_1 = np.swapaxes(noisyPatches_val1,0,1)\n",
        "    noisyPatches_val_1 = noisyPatches_val_1.reshape((coloumn,PatchSize,PatchSize,1))\n",
        "\n",
        "    row =centralPixel_train1.shape[0] #507\n",
        "    coloumn =centralPixel_train1.shape[1]# 16250\n",
        "    centralPixel_train_1 = np.swapaxes(centralPixel_train1,0,1)\n",
        "    centralPixel_train_1 = centralPixel_train_1.reshape((coloumn,PatchSize,PatchSize,1))\n",
        "\n",
        "    row =centralPixel_val1.shape[0] #507\n",
        "    coloumn =centralPixel_val1.shape[1]# 16250\n",
        "    centralPixel_val_1 = np.swapaxes(centralPixel_val1,0,1)\n",
        "    centralPixel_val_1 = centralPixel_val_1.reshape((coloumn,PatchSize,PatchSize,1))\n",
        "\n",
        "    \n",
        "    es = EarlyStopping(monitor='val_loss', mode='min',min_delta=0.001, verbose=1,patience=100,restore_best_weights=True)\n",
        "    model = Sequential()\n",
        "    model.add(layers.Conv2D(8,9,padding='same',input_shape=(51,51,1),activation='relu'))\n",
        "    model.add(layers.Conv2D(16,7,padding='same',activation='relu'))\n",
        "    model.add(layers.Conv2D(1,5,padding='same',activation='relu'))\n",
        "    model.summary()\n",
        "    model.compile(loss='mse', optimizer='adam', metrics=['accuracy'])\n",
        "    print(\"Traiing and Validation sets size :\",noisyPatches_train1.shape,centralPixel_train1.shape,noisyPatches_val1.shape,centralPixel_val1.shape)\n",
        "    history = model.fit(noisyPatches_train_1, centralPixel_train_1, epochs=10000,callbacks=[es],validation_data=(noisyPatches_val_1, centralPixel_val_1))\n",
        "\n",
        "    pd.DataFrame(history.history).plot(figsize=(8, 5))\n",
        "    plt.grid(True)\n",
        "    plt.gca().set_ylim(0, 1) # set the vertical range to [0-1]\n",
        "    plt.show()\n",
        "\n",
        "   # _, accuracy =model.evaluate(noisyPatches_test_1, centralPixel_test1.T)\n",
        "   # print('Accuracy: %.2f' % (accuracy*100))\n",
        "    return model"
      ],
      "execution_count": 22,
      "outputs": []
    },
    {
      "cell_type": "code",
      "metadata": {
        "id": "8fPSaCsBUBNe"
      },
      "source": [
        "global noisyPatches_train_LL\n",
        "global centralPixel_train_LL\n",
        "global noisyPatches_val_LL\n",
        "global centralPixel_val_LL\n",
        "\n",
        "global noisyPatches_train_LH\n",
        "global centralPixel_train_LH\n",
        "global noisyPatches_val_LH\n",
        "global centralPixel_val_LH\n",
        "\n",
        "global noisyPatches_train_HL\n",
        "global centralPixel_train_HL\n",
        "global noisyPatches_val_HL\n",
        "global centralPixel_val_HL\n",
        "\n",
        "global noisyPatches_train_HH\n",
        "global centralPixel_train_HH\n",
        "global noisyPatches_val_HH\n",
        "global centralPixel_val_HH\n",
        "W=51\n",
        "noisyPatches_train_LL = np.zeros((W*W,0),dtype=np.float64)\n",
        "centralPixel_train_LL = np.zeros((1,0),dtype=np.float64)\n",
        "noisyPatches_val_LL = np.zeros((W*W,0),dtype=np.float64)\n",
        "centralPixel_val_LL = np.zeros((1,0),dtype=np.float64)\n",
        "noisyPatches_train_LH = np.zeros((W*W,0),dtype=np.float64)\n",
        "centralPixel_train_LH = np.zeros((1,0),dtype=np.float64)\n",
        "noisyPatches_val_LH = np.zeros((W*W,0),dtype=np.float64)\n",
        "centralPixel_val_LH = np.zeros((1,0),dtype=np.float64)\n",
        "noisyPatches_train_HL = np.zeros((W*W,0),dtype=np.float64)\n",
        "centralPixel_train_HL = np.zeros((1,0),dtype=np.float64)\n",
        "noisyPatches_val_HL = np.zeros((W*W,0),dtype=np.float64)\n",
        "centralPixel_val_HL = np.zeros((1,0),dtype=np.float64)\n",
        "noisyPatches_train_HH = np.zeros((W*W,0),dtype=np.float64)\n",
        "centralPixel_train_HH = np.zeros((1,0),dtype=np.float64)\n",
        "noisyPatches_val_HH = np.zeros((W*W,0),dtype=np.float64)\n",
        "centralPixel_val_HH = np.zeros((1,0),dtype=np.float64)"
      ],
      "execution_count": null,
      "outputs": []
    }
  ]
}